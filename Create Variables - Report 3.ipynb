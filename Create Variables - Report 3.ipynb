{
 "cells": [
  {
   "cell_type": "markdown",
   "id": "a3c3381b",
   "metadata": {},
   "source": [
    "### Data Cleaning"
   ]
  },
  {
   "cell_type": "code",
   "execution_count": 1,
   "id": "2f41d2f7",
   "metadata": {},
   "outputs": [],
   "source": [
    "from timeit import default_timer as timer\n",
    "import pandas as pd\n",
    "import scipy.stats\n",
    "import numpy as np\n",
    "import datetime as dt\n",
    "import seaborn as sns\n",
    "import matplotlib.pyplot as plt\n",
    "import datetime as dt\n",
    "from datetime import datetime\n",
    "import calendar\n",
    "import time\n",
    "import scipy.stats"
   ]
  },
  {
   "cell_type": "code",
   "execution_count": 2,
   "id": "9159e51d",
   "metadata": {},
   "outputs": [
    {
     "data": {
      "text/html": [
       "<div>\n",
       "<style scoped>\n",
       "    .dataframe tbody tr th:only-of-type {\n",
       "        vertical-align: middle;\n",
       "    }\n",
       "\n",
       "    .dataframe tbody tr th {\n",
       "        vertical-align: top;\n",
       "    }\n",
       "\n",
       "    .dataframe thead th {\n",
       "        text-align: right;\n",
       "    }\n",
       "</style>\n",
       "<table border=\"1\" class=\"dataframe\">\n",
       "  <thead>\n",
       "    <tr style=\"text-align: right;\">\n",
       "      <th></th>\n",
       "      <th>Recnum</th>\n",
       "      <th>Cardnum</th>\n",
       "      <th>Date</th>\n",
       "      <th>Merchnum</th>\n",
       "      <th>Merch description</th>\n",
       "      <th>Merch state</th>\n",
       "      <th>Merch zip</th>\n",
       "      <th>Transtype</th>\n",
       "      <th>Amount</th>\n",
       "      <th>Fraud</th>\n",
       "    </tr>\n",
       "  </thead>\n",
       "  <tbody>\n",
       "    <tr>\n",
       "      <th>0</th>\n",
       "      <td>1</td>\n",
       "      <td>5142190439</td>\n",
       "      <td>2006-01-01</td>\n",
       "      <td>5509006296254</td>\n",
       "      <td>FEDEX SHP 12/23/09 AB#</td>\n",
       "      <td>TN</td>\n",
       "      <td>38118.0</td>\n",
       "      <td>P</td>\n",
       "      <td>3.62</td>\n",
       "      <td>0</td>\n",
       "    </tr>\n",
       "    <tr>\n",
       "      <th>1</th>\n",
       "      <td>2</td>\n",
       "      <td>5142183973</td>\n",
       "      <td>2006-01-01</td>\n",
       "      <td>61003026333</td>\n",
       "      <td>SERVICE MERCHANDISE #81</td>\n",
       "      <td>MA</td>\n",
       "      <td>1803.0</td>\n",
       "      <td>P</td>\n",
       "      <td>31.42</td>\n",
       "      <td>0</td>\n",
       "    </tr>\n",
       "    <tr>\n",
       "      <th>2</th>\n",
       "      <td>3</td>\n",
       "      <td>5142131721</td>\n",
       "      <td>2006-01-01</td>\n",
       "      <td>4503082993600</td>\n",
       "      <td>OFFICE DEPOT #191</td>\n",
       "      <td>MD</td>\n",
       "      <td>20706.0</td>\n",
       "      <td>P</td>\n",
       "      <td>178.49</td>\n",
       "      <td>0</td>\n",
       "    </tr>\n",
       "    <tr>\n",
       "      <th>3</th>\n",
       "      <td>4</td>\n",
       "      <td>5142148452</td>\n",
       "      <td>2006-01-01</td>\n",
       "      <td>5509006296254</td>\n",
       "      <td>FEDEX SHP 12/28/09 AB#</td>\n",
       "      <td>TN</td>\n",
       "      <td>38118.0</td>\n",
       "      <td>P</td>\n",
       "      <td>3.62</td>\n",
       "      <td>0</td>\n",
       "    </tr>\n",
       "    <tr>\n",
       "      <th>4</th>\n",
       "      <td>5</td>\n",
       "      <td>5142190439</td>\n",
       "      <td>2006-01-01</td>\n",
       "      <td>5509006296254</td>\n",
       "      <td>FEDEX SHP 12/23/09 AB#</td>\n",
       "      <td>TN</td>\n",
       "      <td>38118.0</td>\n",
       "      <td>P</td>\n",
       "      <td>3.62</td>\n",
       "      <td>0</td>\n",
       "    </tr>\n",
       "  </tbody>\n",
       "</table>\n",
       "</div>"
      ],
      "text/plain": [
       "   Recnum     Cardnum       Date       Merchnum        Merch description  \\\n",
       "0       1  5142190439 2006-01-01  5509006296254   FEDEX SHP 12/23/09 AB#   \n",
       "1       2  5142183973 2006-01-01    61003026333  SERVICE MERCHANDISE #81   \n",
       "2       3  5142131721 2006-01-01  4503082993600        OFFICE DEPOT #191   \n",
       "3       4  5142148452 2006-01-01  5509006296254   FEDEX SHP 12/28/09 AB#   \n",
       "4       5  5142190439 2006-01-01  5509006296254   FEDEX SHP 12/23/09 AB#   \n",
       "\n",
       "  Merch state  Merch zip Transtype  Amount  Fraud  \n",
       "0          TN    38118.0         P    3.62      0  \n",
       "1          MA     1803.0         P   31.42      0  \n",
       "2          MD    20706.0         P  178.49      0  \n",
       "3          TN    38118.0         P    3.62      0  \n",
       "4          TN    38118.0         P    3.62      0  "
      ]
     },
     "execution_count": 2,
     "metadata": {},
     "output_type": "execute_result"
    }
   ],
   "source": [
    "import pandas as pd\n",
    "mydata = pd.read_csv('card transactions.csv', parse_dates=['Date'], converters={'Merchnum': lambda x: str(x)})\n",
    "mydata.head()"
   ]
  },
  {
   "cell_type": "code",
   "execution_count": 3,
   "id": "54c8b115",
   "metadata": {
    "scrolled": true
   },
   "outputs": [
    {
     "data": {
      "text/plain": [
       "Recnum                        int64\n",
       "Cardnum                       int64\n",
       "Date                 datetime64[ns]\n",
       "Merchnum                     object\n",
       "Merch description            object\n",
       "Merch state                  object\n",
       "Merch zip                   float64\n",
       "Transtype                    object\n",
       "Amount                      float64\n",
       "Fraud                         int64\n",
       "dtype: object"
      ]
     },
     "execution_count": 3,
     "metadata": {},
     "output_type": "execute_result"
    }
   ],
   "source": [
    "mydata.dtypes"
   ]
  },
  {
   "cell_type": "code",
   "execution_count": 4,
   "id": "1fa3ccd0",
   "metadata": {},
   "outputs": [
    {
     "data": {
      "text/plain": [
       "(96753, 10)"
      ]
     },
     "execution_count": 4,
     "metadata": {},
     "output_type": "execute_result"
    }
   ],
   "source": [
    "mydata.shape"
   ]
  },
  {
   "cell_type": "code",
   "execution_count": 5,
   "id": "1e18278a",
   "metadata": {},
   "outputs": [],
   "source": [
    "# replace empty string to nan\n",
    "mydata['Merchnum'] = mydata.Merchnum.replace('',np.nan)\n",
    "# mydata['Merchnum'] = mydata.Merchnum.replace('0',np.nan)"
   ]
  },
  {
   "cell_type": "code",
   "execution_count": 6,
   "id": "c2e7defc",
   "metadata": {},
   "outputs": [
    {
     "data": {
      "text/html": [
       "<div>\n",
       "<style scoped>\n",
       "    .dataframe tbody tr th:only-of-type {\n",
       "        vertical-align: middle;\n",
       "    }\n",
       "\n",
       "    .dataframe tbody tr th {\n",
       "        vertical-align: top;\n",
       "    }\n",
       "\n",
       "    .dataframe thead th {\n",
       "        text-align: right;\n",
       "    }\n",
       "</style>\n",
       "<table border=\"1\" class=\"dataframe\">\n",
       "  <thead>\n",
       "    <tr style=\"text-align: right;\">\n",
       "      <th></th>\n",
       "      <th>Recnum</th>\n",
       "      <th>Cardnum</th>\n",
       "      <th>Date</th>\n",
       "      <th>Merchnum</th>\n",
       "      <th>Merch description</th>\n",
       "      <th>Merch state</th>\n",
       "      <th>Merch zip</th>\n",
       "      <th>Transtype</th>\n",
       "      <th>Amount</th>\n",
       "      <th>Fraud</th>\n",
       "    </tr>\n",
       "  </thead>\n",
       "  <tbody>\n",
       "    <tr>\n",
       "      <th>97</th>\n",
       "      <td>98</td>\n",
       "      <td>5142167414</td>\n",
       "      <td>2006-01-03</td>\n",
       "      <td>NaN</td>\n",
       "      <td>CONVENIENCE CHECK FEE(%)</td>\n",
       "      <td>NaN</td>\n",
       "      <td>NaN</td>\n",
       "      <td>D</td>\n",
       "      <td>89.00</td>\n",
       "      <td>0</td>\n",
       "    </tr>\n",
       "    <tr>\n",
       "      <th>115</th>\n",
       "      <td>116</td>\n",
       "      <td>5142182128</td>\n",
       "      <td>2006-01-03</td>\n",
       "      <td>NaN</td>\n",
       "      <td>GRAINGER #973</td>\n",
       "      <td>IL</td>\n",
       "      <td>60089.0</td>\n",
       "      <td>P</td>\n",
       "      <td>327.34</td>\n",
       "      <td>0</td>\n",
       "    </tr>\n",
       "    <tr>\n",
       "      <th>135</th>\n",
       "      <td>136</td>\n",
       "      <td>5142126842</td>\n",
       "      <td>2006-01-03</td>\n",
       "      <td>NaN</td>\n",
       "      <td>AUTOMATED OFFICE PRODU</td>\n",
       "      <td>MD</td>\n",
       "      <td>20706.0</td>\n",
       "      <td>P</td>\n",
       "      <td>2110.00</td>\n",
       "      <td>0</td>\n",
       "    </tr>\n",
       "    <tr>\n",
       "      <th>163</th>\n",
       "      <td>164</td>\n",
       "      <td>5142127276</td>\n",
       "      <td>2006-01-03</td>\n",
       "      <td>NaN</td>\n",
       "      <td>CONVENIENCE CHECK FEE(%)</td>\n",
       "      <td>NaN</td>\n",
       "      <td>NaN</td>\n",
       "      <td>D</td>\n",
       "      <td>4444.00</td>\n",
       "      <td>0</td>\n",
       "    </tr>\n",
       "    <tr>\n",
       "      <th>168</th>\n",
       "      <td>169</td>\n",
       "      <td>5142132574</td>\n",
       "      <td>2006-01-03</td>\n",
       "      <td>NaN</td>\n",
       "      <td>ROLL CALL NEWSPAPER</td>\n",
       "      <td>DC</td>\n",
       "      <td>20001.0</td>\n",
       "      <td>P</td>\n",
       "      <td>104.69</td>\n",
       "      <td>0</td>\n",
       "    </tr>\n",
       "    <tr>\n",
       "      <th>...</th>\n",
       "      <td>...</td>\n",
       "      <td>...</td>\n",
       "      <td>...</td>\n",
       "      <td>...</td>\n",
       "      <td>...</td>\n",
       "      <td>...</td>\n",
       "      <td>...</td>\n",
       "      <td>...</td>\n",
       "      <td>...</td>\n",
       "      <td>...</td>\n",
       "    </tr>\n",
       "    <tr>\n",
       "      <th>96621</th>\n",
       "      <td>96622</td>\n",
       "      <td>5142253938</td>\n",
       "      <td>2006-12-30</td>\n",
       "      <td>NaN</td>\n",
       "      <td>OREGON ENVIRONMENTAL COUN</td>\n",
       "      <td>OR</td>\n",
       "      <td>97204.0</td>\n",
       "      <td>P</td>\n",
       "      <td>40.00</td>\n",
       "      <td>0</td>\n",
       "    </tr>\n",
       "    <tr>\n",
       "      <th>96651</th>\n",
       "      <td>96652</td>\n",
       "      <td>5142151962</td>\n",
       "      <td>2006-12-30</td>\n",
       "      <td>NaN</td>\n",
       "      <td>RETAIL DEBIT ADJUSTMENT</td>\n",
       "      <td>NaN</td>\n",
       "      <td>NaN</td>\n",
       "      <td>P</td>\n",
       "      <td>125.00</td>\n",
       "      <td>0</td>\n",
       "    </tr>\n",
       "    <tr>\n",
       "      <th>96689</th>\n",
       "      <td>96690</td>\n",
       "      <td>5142166019</td>\n",
       "      <td>2006-12-30</td>\n",
       "      <td>NaN</td>\n",
       "      <td>ADVANCED SEC &amp; CONTROL</td>\n",
       "      <td>GA</td>\n",
       "      <td>30340.0</td>\n",
       "      <td>P</td>\n",
       "      <td>70.50</td>\n",
       "      <td>0</td>\n",
       "    </tr>\n",
       "    <tr>\n",
       "      <th>96720</th>\n",
       "      <td>96721</td>\n",
       "      <td>5142178272</td>\n",
       "      <td>2006-12-31</td>\n",
       "      <td>NaN</td>\n",
       "      <td>TRULOGIC SYSTEMS</td>\n",
       "      <td>ON</td>\n",
       "      <td>NaN</td>\n",
       "      <td>P</td>\n",
       "      <td>343.42</td>\n",
       "      <td>0</td>\n",
       "    </tr>\n",
       "    <tr>\n",
       "      <th>96730</th>\n",
       "      <td>96731</td>\n",
       "      <td>5142122644</td>\n",
       "      <td>2006-12-31</td>\n",
       "      <td>NaN</td>\n",
       "      <td>RETAIL DEBIT ADJUSTMENT</td>\n",
       "      <td>NaN</td>\n",
       "      <td>NaN</td>\n",
       "      <td>P</td>\n",
       "      <td>340.79</td>\n",
       "      <td>0</td>\n",
       "    </tr>\n",
       "  </tbody>\n",
       "</table>\n",
       "<p>3375 rows × 10 columns</p>\n",
       "</div>"
      ],
      "text/plain": [
       "       Recnum     Cardnum       Date Merchnum          Merch description  \\\n",
       "97         98  5142167414 2006-01-03      NaN   CONVENIENCE CHECK FEE(%)   \n",
       "115       116  5142182128 2006-01-03      NaN              GRAINGER #973   \n",
       "135       136  5142126842 2006-01-03      NaN     AUTOMATED OFFICE PRODU   \n",
       "163       164  5142127276 2006-01-03      NaN   CONVENIENCE CHECK FEE(%)   \n",
       "168       169  5142132574 2006-01-03      NaN        ROLL CALL NEWSPAPER   \n",
       "...       ...         ...        ...      ...                        ...   \n",
       "96621   96622  5142253938 2006-12-30      NaN  OREGON ENVIRONMENTAL COUN   \n",
       "96651   96652  5142151962 2006-12-30      NaN    RETAIL DEBIT ADJUSTMENT   \n",
       "96689   96690  5142166019 2006-12-30      NaN     ADVANCED SEC & CONTROL   \n",
       "96720   96721  5142178272 2006-12-31      NaN           TRULOGIC SYSTEMS   \n",
       "96730   96731  5142122644 2006-12-31      NaN    RETAIL DEBIT ADJUSTMENT   \n",
       "\n",
       "      Merch state  Merch zip Transtype   Amount  Fraud  \n",
       "97            NaN        NaN         D    89.00      0  \n",
       "115            IL    60089.0         P   327.34      0  \n",
       "135            MD    20706.0         P  2110.00      0  \n",
       "163           NaN        NaN         D  4444.00      0  \n",
       "168            DC    20001.0         P   104.69      0  \n",
       "...           ...        ...       ...      ...    ...  \n",
       "96621          OR    97204.0         P    40.00      0  \n",
       "96651         NaN        NaN         P   125.00      0  \n",
       "96689          GA    30340.0         P    70.50      0  \n",
       "96720          ON        NaN         P   343.42      0  \n",
       "96730         NaN        NaN         P   340.79      0  \n",
       "\n",
       "[3375 rows x 10 columns]"
      ]
     },
     "execution_count": 6,
     "metadata": {},
     "output_type": "execute_result"
    }
   ],
   "source": [
    "mydata[mydata['Merchnum'].isnull()]"
   ]
  },
  {
   "cell_type": "code",
   "execution_count": 7,
   "id": "e2a89eac",
   "metadata": {
    "scrolled": true
   },
   "outputs": [
    {
     "data": {
      "text/plain": [
       "Recnum                  0\n",
       "Cardnum                 0\n",
       "Date                    0\n",
       "Merchnum             3375\n",
       "Merch description       0\n",
       "Merch state          1195\n",
       "Merch zip            4656\n",
       "Transtype               0\n",
       "Amount                  0\n",
       "Fraud                   0\n",
       "dtype: int64"
      ]
     },
     "execution_count": 7,
     "metadata": {},
     "output_type": "execute_result"
    }
   ],
   "source": [
    "mydata.isnull().sum()"
   ]
  },
  {
   "cell_type": "code",
   "execution_count": 8,
   "id": "163de768",
   "metadata": {
    "scrolled": true
   },
   "outputs": [
    {
     "data": {
      "text/plain": [
       "Recnum                        int64\n",
       "Cardnum                       int64\n",
       "Date                 datetime64[ns]\n",
       "Merchnum                     object\n",
       "Merch description            object\n",
       "Merch state                  object\n",
       "Merch zip                   float64\n",
       "Transtype                    object\n",
       "Amount                      float64\n",
       "Fraud                         int64\n",
       "dtype: object"
      ]
     },
     "execution_count": 8,
     "metadata": {},
     "output_type": "execute_result"
    }
   ],
   "source": [
    "mydata.dtypes"
   ]
  },
  {
   "cell_type": "markdown",
   "id": "b26baf71",
   "metadata": {},
   "source": [
    "## Data Cleaning"
   ]
  },
  {
   "cell_type": "code",
   "execution_count": 9,
   "id": "a4f338a8",
   "metadata": {},
   "outputs": [
    {
     "data": {
      "text/plain": [
       "(96398, 10)"
      ]
     },
     "execution_count": 9,
     "metadata": {},
     "output_type": "execute_result"
    }
   ],
   "source": [
    "# filter out the transaction type that is NOT p\n",
    "data=mydata[mydata['Transtype']=='P']\n",
    "data.shape"
   ]
  },
  {
   "cell_type": "code",
   "execution_count": 10,
   "id": "e5b24ecc",
   "metadata": {},
   "outputs": [
    {
     "data": {
      "text/plain": [
       "3102045.53"
      ]
     },
     "execution_count": 10,
     "metadata": {},
     "output_type": "execute_result"
    }
   ],
   "source": [
    "max_amt=data['Amount'].max()\n",
    "max_amt"
   ]
  },
  {
   "cell_type": "code",
   "execution_count": 11,
   "id": "8b118b0d",
   "metadata": {
    "scrolled": true
   },
   "outputs": [],
   "source": [
    "data=data[data['Amount'] != max_amt]"
   ]
  },
  {
   "cell_type": "code",
   "execution_count": 12,
   "id": "a09ed87c",
   "metadata": {},
   "outputs": [
    {
     "data": {
      "text/plain": [
       "(96397, 10)"
      ]
     },
     "execution_count": 12,
     "metadata": {},
     "output_type": "execute_result"
    }
   ],
   "source": [
    "data.shape"
   ]
  },
  {
   "cell_type": "code",
   "execution_count": 13,
   "id": "a94a18ba",
   "metadata": {
    "scrolled": true
   },
   "outputs": [
    {
     "data": {
      "text/plain": [
       "47900.0"
      ]
     },
     "execution_count": 13,
     "metadata": {},
     "output_type": "execute_result"
    }
   ],
   "source": [
    "data['Amount'].max()"
   ]
  },
  {
   "cell_type": "code",
   "execution_count": 14,
   "id": "7bbaf163",
   "metadata": {
    "scrolled": false
   },
   "outputs": [
    {
     "data": {
      "text/plain": [
       "Recnum                  0\n",
       "Cardnum                 0\n",
       "Date                    0\n",
       "Merchnum             3198\n",
       "Merch description       0\n",
       "Merch state          1020\n",
       "Merch zip            4300\n",
       "Transtype               0\n",
       "Amount                  0\n",
       "Fraud                   0\n",
       "dtype: int64"
      ]
     },
     "execution_count": 14,
     "metadata": {},
     "output_type": "execute_result"
    }
   ],
   "source": [
    "# find missing value\n",
    "data.isnull().sum()"
   ]
  },
  {
   "cell_type": "code",
   "execution_count": 15,
   "id": "77b081e8",
   "metadata": {
    "scrolled": true
   },
   "outputs": [
    {
     "data": {
      "text/plain": [
       "(96397, 10)"
      ]
     },
     "execution_count": 15,
     "metadata": {},
     "output_type": "execute_result"
    }
   ],
   "source": [
    "data.shape"
   ]
  },
  {
   "cell_type": "markdown",
   "id": "eaa7e478",
   "metadata": {},
   "source": [
    "### Fill in Merchnum"
   ]
  },
  {
   "cell_type": "code",
   "execution_count": 16,
   "id": "e613ec4a",
   "metadata": {
    "scrolled": false
   },
   "outputs": [
    {
     "data": {
      "text/html": [
       "<div>\n",
       "<style scoped>\n",
       "    .dataframe tbody tr th:only-of-type {\n",
       "        vertical-align: middle;\n",
       "    }\n",
       "\n",
       "    .dataframe tbody tr th {\n",
       "        vertical-align: top;\n",
       "    }\n",
       "\n",
       "    .dataframe thead th {\n",
       "        text-align: right;\n",
       "    }\n",
       "</style>\n",
       "<table border=\"1\" class=\"dataframe\">\n",
       "  <thead>\n",
       "    <tr style=\"text-align: right;\">\n",
       "      <th></th>\n",
       "      <th>Recnum</th>\n",
       "      <th>Cardnum</th>\n",
       "      <th>Date</th>\n",
       "      <th>Merchnum</th>\n",
       "      <th>Merch description</th>\n",
       "      <th>Merch state</th>\n",
       "      <th>Merch zip</th>\n",
       "      <th>Transtype</th>\n",
       "      <th>Amount</th>\n",
       "      <th>Fraud</th>\n",
       "    </tr>\n",
       "  </thead>\n",
       "  <tbody>\n",
       "    <tr>\n",
       "      <th>115</th>\n",
       "      <td>116</td>\n",
       "      <td>5142182128</td>\n",
       "      <td>2006-01-03</td>\n",
       "      <td>NaN</td>\n",
       "      <td>GRAINGER #973</td>\n",
       "      <td>IL</td>\n",
       "      <td>60089.0</td>\n",
       "      <td>P</td>\n",
       "      <td>327.34</td>\n",
       "      <td>0</td>\n",
       "    </tr>\n",
       "    <tr>\n",
       "      <th>135</th>\n",
       "      <td>136</td>\n",
       "      <td>5142126842</td>\n",
       "      <td>2006-01-03</td>\n",
       "      <td>NaN</td>\n",
       "      <td>AUTOMATED OFFICE PRODU</td>\n",
       "      <td>MD</td>\n",
       "      <td>20706.0</td>\n",
       "      <td>P</td>\n",
       "      <td>2110.00</td>\n",
       "      <td>0</td>\n",
       "    </tr>\n",
       "    <tr>\n",
       "      <th>168</th>\n",
       "      <td>169</td>\n",
       "      <td>5142132574</td>\n",
       "      <td>2006-01-03</td>\n",
       "      <td>NaN</td>\n",
       "      <td>ROLL CALL NEWSPAPER</td>\n",
       "      <td>DC</td>\n",
       "      <td>20001.0</td>\n",
       "      <td>P</td>\n",
       "      <td>104.69</td>\n",
       "      <td>0</td>\n",
       "    </tr>\n",
       "    <tr>\n",
       "      <th>201</th>\n",
       "      <td>202</td>\n",
       "      <td>5142140436</td>\n",
       "      <td>2006-01-03</td>\n",
       "      <td>NaN</td>\n",
       "      <td>MONTGOMERY COLLEGE-PHONE</td>\n",
       "      <td>MD</td>\n",
       "      <td>20850.0</td>\n",
       "      <td>P</td>\n",
       "      <td>266.00</td>\n",
       "      <td>0</td>\n",
       "    </tr>\n",
       "    <tr>\n",
       "      <th>257</th>\n",
       "      <td>258</td>\n",
       "      <td>5142257292</td>\n",
       "      <td>2006-01-04</td>\n",
       "      <td>NaN</td>\n",
       "      <td>ARGENT CHEMICAL LABS</td>\n",
       "      <td>WA</td>\n",
       "      <td>98052.0</td>\n",
       "      <td>P</td>\n",
       "      <td>240.00</td>\n",
       "      <td>0</td>\n",
       "    </tr>\n",
       "    <tr>\n",
       "      <th>...</th>\n",
       "      <td>...</td>\n",
       "      <td>...</td>\n",
       "      <td>...</td>\n",
       "      <td>...</td>\n",
       "      <td>...</td>\n",
       "      <td>...</td>\n",
       "      <td>...</td>\n",
       "      <td>...</td>\n",
       "      <td>...</td>\n",
       "      <td>...</td>\n",
       "    </tr>\n",
       "    <tr>\n",
       "      <th>96621</th>\n",
       "      <td>96622</td>\n",
       "      <td>5142253938</td>\n",
       "      <td>2006-12-30</td>\n",
       "      <td>NaN</td>\n",
       "      <td>OREGON ENVIRONMENTAL COUN</td>\n",
       "      <td>OR</td>\n",
       "      <td>97204.0</td>\n",
       "      <td>P</td>\n",
       "      <td>40.00</td>\n",
       "      <td>0</td>\n",
       "    </tr>\n",
       "    <tr>\n",
       "      <th>96651</th>\n",
       "      <td>96652</td>\n",
       "      <td>5142151962</td>\n",
       "      <td>2006-12-30</td>\n",
       "      <td>NaN</td>\n",
       "      <td>RETAIL DEBIT ADJUSTMENT</td>\n",
       "      <td>NaN</td>\n",
       "      <td>NaN</td>\n",
       "      <td>P</td>\n",
       "      <td>125.00</td>\n",
       "      <td>0</td>\n",
       "    </tr>\n",
       "    <tr>\n",
       "      <th>96689</th>\n",
       "      <td>96690</td>\n",
       "      <td>5142166019</td>\n",
       "      <td>2006-12-30</td>\n",
       "      <td>NaN</td>\n",
       "      <td>ADVANCED SEC &amp; CONTROL</td>\n",
       "      <td>GA</td>\n",
       "      <td>30340.0</td>\n",
       "      <td>P</td>\n",
       "      <td>70.50</td>\n",
       "      <td>0</td>\n",
       "    </tr>\n",
       "    <tr>\n",
       "      <th>96720</th>\n",
       "      <td>96721</td>\n",
       "      <td>5142178272</td>\n",
       "      <td>2006-12-31</td>\n",
       "      <td>NaN</td>\n",
       "      <td>TRULOGIC SYSTEMS</td>\n",
       "      <td>ON</td>\n",
       "      <td>NaN</td>\n",
       "      <td>P</td>\n",
       "      <td>343.42</td>\n",
       "      <td>0</td>\n",
       "    </tr>\n",
       "    <tr>\n",
       "      <th>96730</th>\n",
       "      <td>96731</td>\n",
       "      <td>5142122644</td>\n",
       "      <td>2006-12-31</td>\n",
       "      <td>NaN</td>\n",
       "      <td>RETAIL DEBIT ADJUSTMENT</td>\n",
       "      <td>NaN</td>\n",
       "      <td>NaN</td>\n",
       "      <td>P</td>\n",
       "      <td>340.79</td>\n",
       "      <td>0</td>\n",
       "    </tr>\n",
       "  </tbody>\n",
       "</table>\n",
       "<p>3198 rows × 10 columns</p>\n",
       "</div>"
      ],
      "text/plain": [
       "       Recnum     Cardnum       Date Merchnum          Merch description  \\\n",
       "115       116  5142182128 2006-01-03      NaN              GRAINGER #973   \n",
       "135       136  5142126842 2006-01-03      NaN     AUTOMATED OFFICE PRODU   \n",
       "168       169  5142132574 2006-01-03      NaN        ROLL CALL NEWSPAPER   \n",
       "201       202  5142140436 2006-01-03      NaN   MONTGOMERY COLLEGE-PHONE   \n",
       "257       258  5142257292 2006-01-04      NaN       ARGENT CHEMICAL LABS   \n",
       "...       ...         ...        ...      ...                        ...   \n",
       "96621   96622  5142253938 2006-12-30      NaN  OREGON ENVIRONMENTAL COUN   \n",
       "96651   96652  5142151962 2006-12-30      NaN    RETAIL DEBIT ADJUSTMENT   \n",
       "96689   96690  5142166019 2006-12-30      NaN     ADVANCED SEC & CONTROL   \n",
       "96720   96721  5142178272 2006-12-31      NaN           TRULOGIC SYSTEMS   \n",
       "96730   96731  5142122644 2006-12-31      NaN    RETAIL DEBIT ADJUSTMENT   \n",
       "\n",
       "      Merch state  Merch zip Transtype   Amount  Fraud  \n",
       "115            IL    60089.0         P   327.34      0  \n",
       "135            MD    20706.0         P  2110.00      0  \n",
       "168            DC    20001.0         P   104.69      0  \n",
       "201            MD    20850.0         P   266.00      0  \n",
       "257            WA    98052.0         P   240.00      0  \n",
       "...           ...        ...       ...      ...    ...  \n",
       "96621          OR    97204.0         P    40.00      0  \n",
       "96651         NaN        NaN         P   125.00      0  \n",
       "96689          GA    30340.0         P    70.50      0  \n",
       "96720          ON        NaN         P   343.42      0  \n",
       "96730         NaN        NaN         P   340.79      0  \n",
       "\n",
       "[3198 rows x 10 columns]"
      ]
     },
     "execution_count": 16,
     "metadata": {},
     "output_type": "execute_result"
    }
   ],
   "source": [
    "data[data['Merchnum'].isnull()]"
   ]
  },
  {
   "cell_type": "code",
   "execution_count": 17,
   "id": "311b3278",
   "metadata": {},
   "outputs": [],
   "source": [
    "# Fill in null Merchnum\n",
    "\n",
    "# Create a df for non-null merch description\n",
    "df_merchnum = pd.DataFrame()\n",
    "l_d =[]\n",
    "l_m =[]\n",
    "for index, md in data[data['Merchnum'].notnull()]['Merch description'].items():\n",
    "        l_d.append(md)\n",
    "        l_m.append(data.loc[index,'Merchnum'])\n",
    "df_merchnum['Merch description'] = l_d\n",
    "df_merchnum['Merchnum'] = l_m\n",
    "\n",
    "# pd.Series.mode to find the mode\n",
    "mapping = df_merchnum.groupby(\"Merch description\")['Merchnum'].agg((lambda x: scipy.stats.mode(x)[0])).to_dict()\n",
    "\n",
    "# fill in the null merchnum with merch description\n",
    "data['Merchnum'] = data['Merchnum'].fillna(data['Merch description'].map(mapping))\n",
    "\n",
    "\n",
    "# assign unknown for adjustments transactions \n",
    "data['Merchnum'] = data['Merchnum'].mask(data['Merch description'] == 'RETAIL CREDIT ADJUSTMENT', 'unknown')\n",
    "data['Merchnum'] = data['Merchnum'].mask(data['Merch description'] == 'RETAIL DEBIT ADJUSTMENT', 'unknown')\n",
    "\n",
    "   \n",
    "data['Merchnum'] = data['Merchnum'].fillna('unknown')\n",
    "\n"
   ]
  },
  {
   "cell_type": "code",
   "execution_count": 18,
   "id": "321b83f0",
   "metadata": {
    "scrolled": true
   },
   "outputs": [
    {
     "data": {
      "text/plain": [
       "Merch description\n",
       "#9 SOFTWARE                 6000330882278\n",
       "(ISC)2 CERTIFICATION            590065510\n",
       "0000000000000000000000      8168600400097\n",
       "033007 KINKO'S                35068136338\n",
       "05032 FLYING J              121075089FL96\n",
       "                                ...      \n",
       "ZYMARK CORPORATION           988906278331\n",
       "ZYMAX ENVIROTECHNOLOGY      9612006916900\n",
       "ZYMED LABORATORIES           679966068337\n",
       "ZZYZX WORKSTATIONS          6163608306809\n",
       "ZZYZX WRKSTNS PERIPHERAL    6163608306809\n",
       "Name: Merchnum, Length: 12483, dtype: object"
      ]
     },
     "execution_count": 18,
     "metadata": {},
     "output_type": "execute_result"
    }
   ],
   "source": [
    "df_merchnum.groupby(\"Merch description\")['Merchnum'].agg((pd.Series.mode))"
   ]
  },
  {
   "cell_type": "code",
   "execution_count": 19,
   "id": "1cd83df1",
   "metadata": {
    "scrolled": true
   },
   "outputs": [
    {
     "data": {
      "text/plain": [
       "Recnum                  0\n",
       "Cardnum                 0\n",
       "Date                    0\n",
       "Merchnum                0\n",
       "Merch description       0\n",
       "Merch state          1020\n",
       "Merch zip            4300\n",
       "Transtype               0\n",
       "Amount                  0\n",
       "Fraud                   0\n",
       "dtype: int64"
      ]
     },
     "execution_count": 19,
     "metadata": {},
     "output_type": "execute_result"
    }
   ],
   "source": [
    "data.isnull().sum()"
   ]
  },
  {
   "cell_type": "markdown",
   "id": "e94122a7",
   "metadata": {},
   "source": [
    "### Fill In Merch State"
   ]
  },
  {
   "cell_type": "code",
   "execution_count": 20,
   "id": "4f0d676b",
   "metadata": {
    "scrolled": false
   },
   "outputs": [],
   "source": [
    "# change nan to np.nan\n",
    "data['Merch zip'] = data['Merch zip'].astype('str')\n",
    "data['Merch zip'] = data['Merch zip'].replace('nan',np.nan)"
   ]
  },
  {
   "cell_type": "code",
   "execution_count": 21,
   "id": "854e4c5a",
   "metadata": {
    "scrolled": true
   },
   "outputs": [
    {
     "data": {
      "text/plain": [
       "Recnum                  0\n",
       "Cardnum                 0\n",
       "Date                    0\n",
       "Merchnum                0\n",
       "Merch description       0\n",
       "Merch state          1020\n",
       "Merch zip            4300\n",
       "Transtype               0\n",
       "Amount                  0\n",
       "Fraud                   0\n",
       "dtype: int64"
      ]
     },
     "execution_count": 21,
     "metadata": {},
     "output_type": "execute_result"
    }
   ],
   "source": [
    "data.isnull().sum()\n"
   ]
  },
  {
   "cell_type": "code",
   "execution_count": 22,
   "id": "61a61559",
   "metadata": {
    "scrolled": true
   },
   "outputs": [],
   "source": [
    "# Change the data type to string and replace 'nan' string with np.nan\n",
    "data['Merch zip'] = data['Merch zip'].astype('str')\n",
    "data['Merch zip'] = data['Merch zip'].replace('nan',np.nan,regex=True)\n",
    "\n",
    "# Fill in null Merch State\n",
    "\n",
    "# creating dataframe containing Merch zip and Merch state\n",
    "# groupby Merch zip and use the corresponding mode to map to state for each Zip\n",
    "zip_state_df = pd.DataFrame()\n",
    "list_z =[]\n",
    "list_s =[]\n",
    "for index, zips in data[data['Merch state'].notnull()]['Merch zip'].items():\n",
    "        list_z.append(zips)\n",
    "        list_s.append(data.loc[index,'Merch state'])\n",
    "zip_state_df['Merch zip'] = list_z\n",
    "zip_state_df['Merch state'] = list_s\n",
    "zip_state = zip_state_df.groupby('Merch zip')['Merch state'].agg((lambda x: scipy.stats.mode(x)[0])).to_dict()\n",
    "zip_state['926.0'] = 'PR'\n",
    "zip_state['929.0'] = 'PR'\n",
    "zip_state['934.0'] = 'PR'\n",
    "zip_state['902.0'] = 'PR'\n",
    "zip_state['738.0'] = 'PR'\n",
    "zip_state['90805.0'] = 'CA'\n",
    "zip_state['76302.0'] = 'TX'\n",
    "zip_state['914.0'] = 'PR'\n",
    "zip_state['9546.0'] = 'CA'\n",
    "zip_state['680.0'] = 'PR'\n",
    "zip_state['623.0'] = 'PR'\n",
    "zip_state['726.0'] = 'PR'\n",
    "zip_state['936.0'] = 'PR'\n",
    "zip_state['12108.0'] = 'NY'\n",
    "zip_state['791.0'] = 'PR'\n",
    "zip_state['907.0'] = 'PR'\n",
    "zip_state['922.0'] = 'PR'\n",
    "zip_state['920.0'] = 'PR'\n",
    "zip_state['801.0'] = 'VI'\n",
    "zip_state['31040.0'] = 'GA'\n",
    "zip_state['41160.0'] = 'KY'\n",
    "zip_state['681.0'] = 'PR'\n",
    "\n",
    "# creating DataFrame for non-null Merchnum to match Merch state\n",
    "# groupby Merchnum and use the corresponding mode to map to state for each Merchnum\n",
    "merchnum_state_df = pd.DataFrame()\n",
    "list_n =[]\n",
    "list_s =[]\n",
    "for index, zips in data[data['Merch state'].notnull()]['Merchnum'].items():\n",
    "        list_n.append(zips)\n",
    "        list_s.append(data.loc[index,'Merch state'])\n",
    "merchnum_state_df['Merchnum'] = list_n\n",
    "merchnum_state_df['Merch state'] = list_s\n",
    "merchnum_state = merchnum_state_df.groupby('Merchnum')['Merch state'].agg((lambda x: scipy.stats.mode(x)[0])).to_dict()\n",
    "\n",
    "# creating DataFrame for non-null description to match Merch state\n",
    "# groupby Merchnum and use the corresponding mode to map to state for each Merchnum\n",
    "merchdes_state_df = pd.DataFrame()\n",
    "list_d =[]\n",
    "list_s =[]\n",
    "for index, zip5 in data[data['Merch state'].notnull()]['Merch description'].items():\n",
    "        list_d.append(zip5)\n",
    "        list_s.append(data.loc[index,\"Merch state\"])\n",
    "merchdes_state_df['Merch description'] = list_d\n",
    "merchdes_state_df['Merch state'] = list_s\n",
    "merchdes_state = merchdes_state_df.groupby('Merch description')['Merch state'].agg((lambda x: scipy.stats.mode(x)[0])).to_dict()"
   ]
  },
  {
   "cell_type": "code",
   "execution_count": 23,
   "id": "15691aa0",
   "metadata": {},
   "outputs": [],
   "source": [
    "# fill in by mapping with zip, merchnum and merch description\n",
    "data['Merch state'] = data['Merch state'].fillna(data['Merch zip'].map(zip_state))\n",
    "data['Merch state'] = data['Merch state'].fillna(data['Merchnum'].map(merchnum_state))\n",
    "data['Merch state'] = data['Merch state'].fillna(data['Merch description'].map(merchdes_state))\n",
    "\n",
    "# assign unknown for adjustments transactions\n",
    "data['Merch state'] = data['Merch state'].mask(data['Merch description'] == 'RETAIL CREDIT ADJUSTMENT', 'unknown')\n",
    "data['Merch state'] = data['Merch state'].mask(data['Merch description'] == 'RETAIL DEBIT ADJUSTMENT', 'unknown')\n",
    "\n",
    "data['Merch state']=data['Merch state'].fillna('unknown')"
   ]
  },
  {
   "cell_type": "code",
   "execution_count": 24,
   "id": "0a737c8a",
   "metadata": {},
   "outputs": [
    {
     "data": {
      "text/plain": [
       "Recnum                  0\n",
       "Cardnum                 0\n",
       "Date                    0\n",
       "Merchnum                0\n",
       "Merch description       0\n",
       "Merch state             0\n",
       "Merch zip            4300\n",
       "Transtype               0\n",
       "Amount                  0\n",
       "Fraud                   0\n",
       "dtype: int64"
      ]
     },
     "execution_count": 24,
     "metadata": {},
     "output_type": "execute_result"
    }
   ],
   "source": [
    "\n",
    "data.isnull().sum()"
   ]
  },
  {
   "cell_type": "code",
   "execution_count": 25,
   "id": "12ce2613",
   "metadata": {},
   "outputs": [
    {
     "data": {
      "text/html": [
       "<div>\n",
       "<style scoped>\n",
       "    .dataframe tbody tr th:only-of-type {\n",
       "        vertical-align: middle;\n",
       "    }\n",
       "\n",
       "    .dataframe tbody tr th {\n",
       "        vertical-align: top;\n",
       "    }\n",
       "\n",
       "    .dataframe thead th {\n",
       "        text-align: right;\n",
       "    }\n",
       "</style>\n",
       "<table border=\"1\" class=\"dataframe\">\n",
       "  <thead>\n",
       "    <tr style=\"text-align: right;\">\n",
       "      <th></th>\n",
       "      <th>Recnum</th>\n",
       "      <th>Cardnum</th>\n",
       "      <th>Date</th>\n",
       "      <th>Merchnum</th>\n",
       "      <th>Merch description</th>\n",
       "      <th>Merch state</th>\n",
       "      <th>Merch zip</th>\n",
       "      <th>Transtype</th>\n",
       "      <th>Amount</th>\n",
       "      <th>Fraud</th>\n",
       "    </tr>\n",
       "  </thead>\n",
       "  <tbody>\n",
       "    <tr>\n",
       "      <th>51</th>\n",
       "      <td>52</td>\n",
       "      <td>5142204384</td>\n",
       "      <td>2006-01-02</td>\n",
       "      <td>5000006000095</td>\n",
       "      <td>IBM INTERNET  01000025</td>\n",
       "      <td>NY</td>\n",
       "      <td>NaN</td>\n",
       "      <td>P</td>\n",
       "      <td>20.15</td>\n",
       "      <td>0</td>\n",
       "    </tr>\n",
       "    <tr>\n",
       "      <th>54</th>\n",
       "      <td>55</td>\n",
       "      <td>5142146340</td>\n",
       "      <td>2006-01-02</td>\n",
       "      <td>5000006000095</td>\n",
       "      <td>IBM INTERNET  01000025</td>\n",
       "      <td>NY</td>\n",
       "      <td>NaN</td>\n",
       "      <td>P</td>\n",
       "      <td>23.90</td>\n",
       "      <td>0</td>\n",
       "    </tr>\n",
       "    <tr>\n",
       "      <th>55</th>\n",
       "      <td>56</td>\n",
       "      <td>5142260984</td>\n",
       "      <td>2006-01-02</td>\n",
       "      <td>5000006000095</td>\n",
       "      <td>IBM INTERNET  01000025</td>\n",
       "      <td>NY</td>\n",
       "      <td>NaN</td>\n",
       "      <td>P</td>\n",
       "      <td>19.95</td>\n",
       "      <td>0</td>\n",
       "    </tr>\n",
       "    <tr>\n",
       "      <th>58</th>\n",
       "      <td>59</td>\n",
       "      <td>5142204384</td>\n",
       "      <td>2006-01-02</td>\n",
       "      <td>5000006000095</td>\n",
       "      <td>IBM INTERNET  01000025</td>\n",
       "      <td>NY</td>\n",
       "      <td>NaN</td>\n",
       "      <td>P</td>\n",
       "      <td>20.15</td>\n",
       "      <td>0</td>\n",
       "    </tr>\n",
       "    <tr>\n",
       "      <th>59</th>\n",
       "      <td>60</td>\n",
       "      <td>5142204384</td>\n",
       "      <td>2006-01-02</td>\n",
       "      <td>5000006000095</td>\n",
       "      <td>IBM INTERNET  01000025</td>\n",
       "      <td>NY</td>\n",
       "      <td>NaN</td>\n",
       "      <td>P</td>\n",
       "      <td>20.15</td>\n",
       "      <td>0</td>\n",
       "    </tr>\n",
       "    <tr>\n",
       "      <th>...</th>\n",
       "      <td>...</td>\n",
       "      <td>...</td>\n",
       "      <td>...</td>\n",
       "      <td>...</td>\n",
       "      <td>...</td>\n",
       "      <td>...</td>\n",
       "      <td>...</td>\n",
       "      <td>...</td>\n",
       "      <td>...</td>\n",
       "      <td>...</td>\n",
       "    </tr>\n",
       "    <tr>\n",
       "      <th>96651</th>\n",
       "      <td>96652</td>\n",
       "      <td>5142151962</td>\n",
       "      <td>2006-12-30</td>\n",
       "      <td>unknown</td>\n",
       "      <td>RETAIL DEBIT ADJUSTMENT</td>\n",
       "      <td>unknown</td>\n",
       "      <td>NaN</td>\n",
       "      <td>P</td>\n",
       "      <td>125.00</td>\n",
       "      <td>0</td>\n",
       "    </tr>\n",
       "    <tr>\n",
       "      <th>96668</th>\n",
       "      <td>96669</td>\n",
       "      <td>5142195081</td>\n",
       "      <td>2006-12-30</td>\n",
       "      <td>465905123335</td>\n",
       "      <td>DURHAM SAFE &amp; LOCK CO</td>\n",
       "      <td>NC</td>\n",
       "      <td>NaN</td>\n",
       "      <td>P</td>\n",
       "      <td>103.00</td>\n",
       "      <td>0</td>\n",
       "    </tr>\n",
       "    <tr>\n",
       "      <th>96720</th>\n",
       "      <td>96721</td>\n",
       "      <td>5142178272</td>\n",
       "      <td>2006-12-31</td>\n",
       "      <td>unknown</td>\n",
       "      <td>TRULOGIC SYSTEMS</td>\n",
       "      <td>ON</td>\n",
       "      <td>NaN</td>\n",
       "      <td>P</td>\n",
       "      <td>343.42</td>\n",
       "      <td>0</td>\n",
       "    </tr>\n",
       "    <tr>\n",
       "      <th>96730</th>\n",
       "      <td>96731</td>\n",
       "      <td>5142122644</td>\n",
       "      <td>2006-12-31</td>\n",
       "      <td>unknown</td>\n",
       "      <td>RETAIL DEBIT ADJUSTMENT</td>\n",
       "      <td>unknown</td>\n",
       "      <td>NaN</td>\n",
       "      <td>P</td>\n",
       "      <td>340.79</td>\n",
       "      <td>0</td>\n",
       "    </tr>\n",
       "    <tr>\n",
       "      <th>96734</th>\n",
       "      <td>96735</td>\n",
       "      <td>5142166343</td>\n",
       "      <td>2006-12-31</td>\n",
       "      <td>990903450339</td>\n",
       "      <td>OKEECHOBEE NEWS</td>\n",
       "      <td>FL</td>\n",
       "      <td>NaN</td>\n",
       "      <td>P</td>\n",
       "      <td>33.17</td>\n",
       "      <td>0</td>\n",
       "    </tr>\n",
       "  </tbody>\n",
       "</table>\n",
       "<p>4300 rows × 10 columns</p>\n",
       "</div>"
      ],
      "text/plain": [
       "       Recnum     Cardnum       Date       Merchnum        Merch description  \\\n",
       "51         52  5142204384 2006-01-02  5000006000095   IBM INTERNET  01000025   \n",
       "54         55  5142146340 2006-01-02  5000006000095   IBM INTERNET  01000025   \n",
       "55         56  5142260984 2006-01-02  5000006000095   IBM INTERNET  01000025   \n",
       "58         59  5142204384 2006-01-02  5000006000095   IBM INTERNET  01000025   \n",
       "59         60  5142204384 2006-01-02  5000006000095   IBM INTERNET  01000025   \n",
       "...       ...         ...        ...            ...                      ...   \n",
       "96651   96652  5142151962 2006-12-30        unknown  RETAIL DEBIT ADJUSTMENT   \n",
       "96668   96669  5142195081 2006-12-30   465905123335    DURHAM SAFE & LOCK CO   \n",
       "96720   96721  5142178272 2006-12-31        unknown         TRULOGIC SYSTEMS   \n",
       "96730   96731  5142122644 2006-12-31        unknown  RETAIL DEBIT ADJUSTMENT   \n",
       "96734   96735  5142166343 2006-12-31   990903450339          OKEECHOBEE NEWS   \n",
       "\n",
       "      Merch state Merch zip Transtype  Amount  Fraud  \n",
       "51             NY       NaN         P   20.15      0  \n",
       "54             NY       NaN         P   23.90      0  \n",
       "55             NY       NaN         P   19.95      0  \n",
       "58             NY       NaN         P   20.15      0  \n",
       "59             NY       NaN         P   20.15      0  \n",
       "...           ...       ...       ...     ...    ...  \n",
       "96651     unknown       NaN         P  125.00      0  \n",
       "96668          NC       NaN         P  103.00      0  \n",
       "96720          ON       NaN         P  343.42      0  \n",
       "96730     unknown       NaN         P  340.79      0  \n",
       "96734          FL       NaN         P   33.17      0  \n",
       "\n",
       "[4300 rows x 10 columns]"
      ]
     },
     "execution_count": 25,
     "metadata": {},
     "output_type": "execute_result"
    }
   ],
   "source": [
    "data[data['Merch zip'].isnull()]"
   ]
  },
  {
   "cell_type": "code",
   "execution_count": 26,
   "id": "37bd7a3a",
   "metadata": {
    "scrolled": true
   },
   "outputs": [
    {
     "data": {
      "text/plain": [
       "Recnum                        int64\n",
       "Cardnum                       int64\n",
       "Date                 datetime64[ns]\n",
       "Merchnum                     object\n",
       "Merch description            object\n",
       "Merch state                  object\n",
       "Merch zip                    object\n",
       "Transtype                    object\n",
       "Amount                      float64\n",
       "Fraud                         int64\n",
       "dtype: object"
      ]
     },
     "execution_count": 26,
     "metadata": {},
     "output_type": "execute_result"
    }
   ],
   "source": [
    "data.dtypes"
   ]
  },
  {
   "cell_type": "code",
   "execution_count": 27,
   "id": "ab65c46c",
   "metadata": {
    "scrolled": false
   },
   "outputs": [],
   "source": [
    "#zip_state"
   ]
  },
  {
   "cell_type": "markdown",
   "id": "d9ba2a21",
   "metadata": {},
   "source": [
    "### Fill in Merch Zip"
   ]
  },
  {
   "cell_type": "code",
   "execution_count": 28,
   "id": "fc918513",
   "metadata": {},
   "outputs": [],
   "source": [
    "data['Merch zip']=data['Merch zip'].astype('str')"
   ]
  },
  {
   "cell_type": "code",
   "execution_count": 29,
   "id": "edc70e8a",
   "metadata": {},
   "outputs": [],
   "source": [
    "# Merch zip\n",
    "# Use non-null merchnum to fill in merch zip:\n",
    "merchnum_zip_df = pd.DataFrame()\n",
    "list_num =[]\n",
    "list_zip =[]\n",
    "for index, merchnum in data[data['Merch zip'].notnull()]['Merchnum'].items():\n",
    "        list_num.append(merchnum)\n",
    "        list_zip.append(data.loc[index,\"Merch zip\"])\n",
    "merchnum_zip_df['Merchnum'] = list_num\n",
    "merchnum_zip_df['Merch zip'] = list_zip\n",
    "merchnum_zip = merchnum_zip_df.groupby(\"Merchnum\")['Merch zip'].agg((lambda x: scipy.stats.mode(x)[0])).to_dict()\n",
    "\n",
    "# non-null merch description to fill in merch zip\n",
    "merchdes_zip_df = pd.DataFrame()\n",
    "list1 =[]\n",
    "list2 =[]\n",
    "for index, merchdes in data[data['Merch zip'].notnull()]['Merch description'].items():\n",
    "        list1.append(merchdes)\n",
    "        list2.append(data.loc[index,\"Merch zip\"])\n",
    "merchdes_zip_df['Merchdes'] = list1\n",
    "merchdes_zip_df['Merch zip'] = list2\n",
    "merchdes_zip = merchdes_zip_df.groupby(\"Merchdes\")['Merch zip'].agg((lambda x: scipy.stats.mode(x)[0])).to_dict()"
   ]
  },
  {
   "cell_type": "code",
   "execution_count": 30,
   "id": "bace6ce5",
   "metadata": {},
   "outputs": [
    {
     "data": {
      "text/plain": [
       "0        38118.0\n",
       "1         1803.0\n",
       "2        20706.0\n",
       "3        38118.0\n",
       "4        38118.0\n",
       "          ...   \n",
       "96748    41042.0\n",
       "96749    45248.0\n",
       "96750    45150.0\n",
       "96751    92656.0\n",
       "96752     7606.0\n",
       "Name: Merch zip, Length: 96397, dtype: object"
      ]
     },
     "execution_count": 30,
     "metadata": {},
     "output_type": "execute_result"
    }
   ],
   "source": [
    "# fill in by mapping with merchnum and merch description\n",
    "data['Merch zip'] = data['Merch zip'].fillna(data['Merchnum'].map(merchnum_zip))\n",
    "data['Merch zip'] = data['Merch zip'].fillna(data['Merch description'].map(merchdes_zip))\n",
    "\n",
    "# assign unknown for adjustments transactions\n",
    "data['Merch zip'] = data['Merch zip'].mask(data['Merch zip'] == 'RETAIL CREDIT ADJUSTMENT', 'unknown')\n",
    "data['Merch zip'] = data['Merch zip'].mask(data['Merch zip'] == 'RETAIL DEBIT ADJUSTMENT', 'unknown')\n",
    "\n",
    "data['Merch zip'].fillna('unknown')"
   ]
  },
  {
   "cell_type": "code",
   "execution_count": 31,
   "id": "f8039388",
   "metadata": {
    "scrolled": false
   },
   "outputs": [
    {
     "data": {
      "text/plain": [
       "Recnum               0\n",
       "Cardnum              0\n",
       "Date                 0\n",
       "Merchnum             0\n",
       "Merch description    0\n",
       "Merch state          0\n",
       "Merch zip            0\n",
       "Transtype            0\n",
       "Amount               0\n",
       "Fraud                0\n",
       "dtype: int64"
      ]
     },
     "execution_count": 31,
     "metadata": {},
     "output_type": "execute_result"
    }
   ],
   "source": [
    "data.isnull().sum()"
   ]
  },
  {
   "cell_type": "code",
   "execution_count": 32,
   "id": "e154f185",
   "metadata": {},
   "outputs": [
    {
     "name": "stderr",
     "output_type": "stream",
     "text": [
      "<ipython-input-32-862bb53289e4>:1: FutureWarning: The default value of regex will change from True to False in a future version.\n",
      "  data['Merch zip'] = data['Merch zip'].astype(str).str.replace('.0', '')\n"
     ]
    }
   ],
   "source": [
    "data['Merch zip'] = data['Merch zip'].astype(str).str.replace('.0', '')\n",
    "data['Merch zip'] = data['Merch zip'].apply(lambda x: '{0:0>5}'.format(x))"
   ]
  },
  {
   "cell_type": "code",
   "execution_count": 33,
   "id": "eb20eeb9",
   "metadata": {},
   "outputs": [],
   "source": [
    "# Change Card num to string\n",
    "data['Cardnum']=data['Cardnum'].astype('str')\n"
   ]
  },
  {
   "cell_type": "code",
   "execution_count": 34,
   "id": "daf7d29c",
   "metadata": {
    "scrolled": false
   },
   "outputs": [
    {
     "data": {
      "text/plain": [
       "Recnum                        int64\n",
       "Cardnum                      object\n",
       "Date                 datetime64[ns]\n",
       "Merchnum                     object\n",
       "Merch description            object\n",
       "Merch state                  object\n",
       "Merch zip                    object\n",
       "Transtype                    object\n",
       "Amount                      float64\n",
       "Fraud                         int64\n",
       "dtype: object"
      ]
     },
     "execution_count": 34,
     "metadata": {},
     "output_type": "execute_result"
    }
   ],
   "source": [
    "data.dtypes"
   ]
  },
  {
   "cell_type": "code",
   "execution_count": 35,
   "id": "004c7402",
   "metadata": {},
   "outputs": [
    {
     "data": {
      "text/plain": [
       "Index(['Recnum', 'Cardnum', 'Date', 'Merchnum', 'Merch description',\n",
       "       'Merch state', 'Merch zip', 'Transtype', 'Amount', 'Fraud'],\n",
       "      dtype='object')"
      ]
     },
     "execution_count": 35,
     "metadata": {},
     "output_type": "execute_result"
    }
   ],
   "source": [
    "data.columns"
   ]
  },
  {
   "cell_type": "markdown",
   "id": "7aa07e66",
   "metadata": {},
   "source": [
    "### Create Variables"
   ]
  },
  {
   "cell_type": "code",
   "execution_count": 36,
   "id": "2211167c",
   "metadata": {
    "scrolled": true
   },
   "outputs": [
    {
     "data": {
      "text/html": [
       "<div>\n",
       "<style scoped>\n",
       "    .dataframe tbody tr th:only-of-type {\n",
       "        vertical-align: middle;\n",
       "    }\n",
       "\n",
       "    .dataframe tbody tr th {\n",
       "        vertical-align: top;\n",
       "    }\n",
       "\n",
       "    .dataframe thead th {\n",
       "        text-align: right;\n",
       "    }\n",
       "</style>\n",
       "<table border=\"1\" class=\"dataframe\">\n",
       "  <thead>\n",
       "    <tr style=\"text-align: right;\">\n",
       "      <th></th>\n",
       "      <th>0</th>\n",
       "      <th>1</th>\n",
       "      <th>2</th>\n",
       "      <th>3</th>\n",
       "      <th>4</th>\n",
       "    </tr>\n",
       "  </thead>\n",
       "  <tbody>\n",
       "    <tr>\n",
       "      <th>Recnum</th>\n",
       "      <td>1</td>\n",
       "      <td>2</td>\n",
       "      <td>3</td>\n",
       "      <td>4</td>\n",
       "      <td>5</td>\n",
       "    </tr>\n",
       "    <tr>\n",
       "      <th>Cardnum</th>\n",
       "      <td>5142190439</td>\n",
       "      <td>5142183973</td>\n",
       "      <td>5142131721</td>\n",
       "      <td>5142148452</td>\n",
       "      <td>5142190439</td>\n",
       "    </tr>\n",
       "    <tr>\n",
       "      <th>Date</th>\n",
       "      <td>2006-01-01 00:00:00</td>\n",
       "      <td>2006-01-01 00:00:00</td>\n",
       "      <td>2006-01-01 00:00:00</td>\n",
       "      <td>2006-01-01 00:00:00</td>\n",
       "      <td>2006-01-01 00:00:00</td>\n",
       "    </tr>\n",
       "    <tr>\n",
       "      <th>Merchnum</th>\n",
       "      <td>5509006296254</td>\n",
       "      <td>61003026333</td>\n",
       "      <td>4503082993600</td>\n",
       "      <td>5509006296254</td>\n",
       "      <td>5509006296254</td>\n",
       "    </tr>\n",
       "    <tr>\n",
       "      <th>Merch description</th>\n",
       "      <td>FEDEX SHP 12/23/09 AB#</td>\n",
       "      <td>SERVICE MERCHANDISE #81</td>\n",
       "      <td>OFFICE DEPOT #191</td>\n",
       "      <td>FEDEX SHP 12/28/09 AB#</td>\n",
       "      <td>FEDEX SHP 12/23/09 AB#</td>\n",
       "    </tr>\n",
       "    <tr>\n",
       "      <th>Merch state</th>\n",
       "      <td>TN</td>\n",
       "      <td>MA</td>\n",
       "      <td>MD</td>\n",
       "      <td>TN</td>\n",
       "      <td>TN</td>\n",
       "    </tr>\n",
       "    <tr>\n",
       "      <th>Merch zip</th>\n",
       "      <td>38118</td>\n",
       "      <td>00013</td>\n",
       "      <td>00006</td>\n",
       "      <td>38118</td>\n",
       "      <td>38118</td>\n",
       "    </tr>\n",
       "    <tr>\n",
       "      <th>Transtype</th>\n",
       "      <td>P</td>\n",
       "      <td>P</td>\n",
       "      <td>P</td>\n",
       "      <td>P</td>\n",
       "      <td>P</td>\n",
       "    </tr>\n",
       "    <tr>\n",
       "      <th>Amount</th>\n",
       "      <td>3.62</td>\n",
       "      <td>31.42</td>\n",
       "      <td>178.49</td>\n",
       "      <td>3.62</td>\n",
       "      <td>3.62</td>\n",
       "    </tr>\n",
       "    <tr>\n",
       "      <th>Fraud</th>\n",
       "      <td>0</td>\n",
       "      <td>0</td>\n",
       "      <td>0</td>\n",
       "      <td>0</td>\n",
       "      <td>0</td>\n",
       "    </tr>\n",
       "  </tbody>\n",
       "</table>\n",
       "</div>"
      ],
      "text/plain": [
       "                                        0                        1  \\\n",
       "Recnum                                  1                        2   \n",
       "Cardnum                        5142190439               5142183973   \n",
       "Date                  2006-01-01 00:00:00      2006-01-01 00:00:00   \n",
       "Merchnum                    5509006296254              61003026333   \n",
       "Merch description  FEDEX SHP 12/23/09 AB#  SERVICE MERCHANDISE #81   \n",
       "Merch state                            TN                       MA   \n",
       "Merch zip                           38118                    00013   \n",
       "Transtype                               P                        P   \n",
       "Amount                               3.62                    31.42   \n",
       "Fraud                                   0                        0   \n",
       "\n",
       "                                     2                       3  \\\n",
       "Recnum                               3                       4   \n",
       "Cardnum                     5142131721              5142148452   \n",
       "Date               2006-01-01 00:00:00     2006-01-01 00:00:00   \n",
       "Merchnum                 4503082993600           5509006296254   \n",
       "Merch description    OFFICE DEPOT #191  FEDEX SHP 12/28/09 AB#   \n",
       "Merch state                         MD                      TN   \n",
       "Merch zip                        00006                   38118   \n",
       "Transtype                            P                       P   \n",
       "Amount                          178.49                    3.62   \n",
       "Fraud                                0                       0   \n",
       "\n",
       "                                        4  \n",
       "Recnum                                  5  \n",
       "Cardnum                        5142190439  \n",
       "Date                  2006-01-01 00:00:00  \n",
       "Merchnum                    5509006296254  \n",
       "Merch description  FEDEX SHP 12/23/09 AB#  \n",
       "Merch state                            TN  \n",
       "Merch zip                           38118  \n",
       "Transtype                               P  \n",
       "Amount                               3.62  \n",
       "Fraud                                   0  "
      ]
     },
     "execution_count": 36,
     "metadata": {},
     "output_type": "execute_result"
    }
   ],
   "source": [
    "data.head().T"
   ]
  },
  {
   "cell_type": "code",
   "execution_count": null,
   "id": "7fc4ec87",
   "metadata": {},
   "outputs": [],
   "source": []
  },
  {
   "cell_type": "code",
   "execution_count": 37,
   "id": "02d489d1",
   "metadata": {
    "scrolled": true
   },
   "outputs": [
    {
     "data": {
      "text/plain": [
       "Recnum                        int64\n",
       "Cardnum                      object\n",
       "Date                 datetime64[ns]\n",
       "Merchnum                     object\n",
       "Merch description            object\n",
       "Merch state                  object\n",
       "Merch zip                    object\n",
       "Transtype                    object\n",
       "Amount                      float64\n",
       "Fraud                         int64\n",
       "dtype: object"
      ]
     },
     "execution_count": 37,
     "metadata": {},
     "output_type": "execute_result"
    }
   ],
   "source": [
    "data.dtypes"
   ]
  },
  {
   "cell_type": "code",
   "execution_count": 38,
   "id": "f56cd0d9",
   "metadata": {},
   "outputs": [],
   "source": [
    "# VT's trail 5/5\n",
    "data['card_merch'] = data['Cardnum'] + data['Merchnum']\n",
    "data['card_state'] = data['Cardnum'] + data['Merch state']\n",
    "data['card_zip'] = data['Cardnum'] + data['Merch zip']\n",
    "data['merch_zip']=data.Merchnum+data['Merch zip']\n",
    "data['merch_state']=data.Merchnum+data['Merch state']\n",
    "data['card_merch_zip']=data.Cardnum+data['Merchnum']+data['Merch zip']\n",
    "data['card_merch_state']=data.Cardnum+data['Merchnum']+data['Merch state']\n",
    "data['card_state_zip']=data.Cardnum+data['Merchnum']+data['Merch state']+data['Merch zip']\n",
    "data['merch_state_zip']=data.Merchnum+data['Merch state']+data['Merch zip']"
   ]
  },
  {
   "cell_type": "markdown",
   "id": "a7a8c6f9",
   "metadata": {},
   "source": []
  },
  {
   "cell_type": "markdown",
   "id": "34e54e2e",
   "metadata": {},
   "source": [
    "### Target Encoding / Risk Table Variables"
   ]
  },
  {
   "cell_type": "code",
   "execution_count": 39,
   "id": "103c5b0e",
   "metadata": {},
   "outputs": [],
   "source": [
    "data['dow']=data.Date.apply(lambda x: calendar.day_name[x.weekday()])"
   ]
  },
  {
   "cell_type": "code",
   "execution_count": 40,
   "id": "3471c860",
   "metadata": {},
   "outputs": [],
   "source": [
    "train_test=data[data.Date<'2006-11-01']"
   ]
  },
  {
   "cell_type": "code",
   "execution_count": 41,
   "id": "48c66c5e",
   "metadata": {},
   "outputs": [],
   "source": [
    "# statistical smoothing\n",
    "c=4; nmid=20; y_avg=train_test['Fraud'].mean()\n",
    "y_dow=train_test.groupby('dow')['Fraud'].mean()\n",
    "num=train_test.groupby('dow').size() # count\n",
    "y_dow_smooth=y_avg+(y_dow - y_avg)/(1+np.exp(-(num-nmid)/c))\n",
    "data['dow_risk']=data.dow.map(y_dow_smooth)"
   ]
  },
  {
   "cell_type": "code",
   "execution_count": 42,
   "id": "b0e37fa1",
   "metadata": {},
   "outputs": [],
   "source": [
    "y_dow=y_dow.reset_index()\n",
    "cats=['Monday', 'Tuesday', 'Wednesday', 'Thursday', 'Friday', 'Saturday', 'Sunday']\n",
    "y_dow['dow']=pd.Categorical(y_dow['dow'], categories=cats, ordered=True)\n",
    "y_dow=y_dow.sort_values('dow')\n",
    "y_dow=y_dow.set_index('dow')"
   ]
  },
  {
   "cell_type": "code",
   "execution_count": 43,
   "id": "8c39c068",
   "metadata": {
    "scrolled": true
   },
   "outputs": [
    {
     "data": {
      "image/png": "[encoded data removed]",
      "text/plain": [
       "<Figure size 864x648 with 1 Axes>"
      ]
     },
     "metadata": {},
     "output_type": "display_data"
    }
   ],
   "source": [
    "plt.style.use('ggplot')\n",
    "fig, ax = plt.subplots(figsize = (12,9))\n",
    "plt.bar(data=y_dow, x=y_dow.index, height='Fraud', color='lightblue')\n",
    "ax.axhline(y=y_avg, ls='--', lw=2, color='blue')\n",
    "\n",
    "for i, v in enumerate(y_dow.index):\n",
    "    ax.text(v, y_dow.loc[i,'Fraud']+0.0001, round(y_dow.loc[i,'Fraud'], 5),\n",
    "           horizontalalignment='center',fontsize=10)\n",
    "    \n",
    "plt.show()"
   ]
  },
  {
   "cell_type": "code",
   "execution_count": 44,
   "id": "b0493063",
   "metadata": {
    "scrolled": false
   },
   "outputs": [
    {
     "data": {
      "text/html": [
       "<div>\n",
       "<style scoped>\n",
       "    .dataframe tbody tr th:only-of-type {\n",
       "        vertical-align: middle;\n",
       "    }\n",
       "\n",
       "    .dataframe tbody tr th {\n",
       "        vertical-align: top;\n",
       "    }\n",
       "\n",
       "    .dataframe thead th {\n",
       "        text-align: right;\n",
       "    }\n",
       "</style>\n",
       "<table border=\"1\" class=\"dataframe\">\n",
       "  <thead>\n",
       "    <tr style=\"text-align: right;\">\n",
       "      <th></th>\n",
       "      <th>0</th>\n",
       "      <th>1</th>\n",
       "      <th>2</th>\n",
       "      <th>3</th>\n",
       "      <th>4</th>\n",
       "    </tr>\n",
       "  </thead>\n",
       "  <tbody>\n",
       "    <tr>\n",
       "      <th>Recnum</th>\n",
       "      <td>1</td>\n",
       "      <td>2</td>\n",
       "      <td>3</td>\n",
       "      <td>4</td>\n",
       "      <td>5</td>\n",
       "    </tr>\n",
       "    <tr>\n",
       "      <th>Cardnum</th>\n",
       "      <td>5142190439</td>\n",
       "      <td>5142183973</td>\n",
       "      <td>5142131721</td>\n",
       "      <td>5142148452</td>\n",
       "      <td>5142190439</td>\n",
       "    </tr>\n",
       "    <tr>\n",
       "      <th>Date</th>\n",
       "      <td>2006-01-01 00:00:00</td>\n",
       "      <td>2006-01-01 00:00:00</td>\n",
       "      <td>2006-01-01 00:00:00</td>\n",
       "      <td>2006-01-01 00:00:00</td>\n",
       "      <td>2006-01-01 00:00:00</td>\n",
       "    </tr>\n",
       "    <tr>\n",
       "      <th>Merchnum</th>\n",
       "      <td>5509006296254</td>\n",
       "      <td>61003026333</td>\n",
       "      <td>4503082993600</td>\n",
       "      <td>5509006296254</td>\n",
       "      <td>5509006296254</td>\n",
       "    </tr>\n",
       "    <tr>\n",
       "      <th>Merch description</th>\n",
       "      <td>FEDEX SHP 12/23/09 AB#</td>\n",
       "      <td>SERVICE MERCHANDISE #81</td>\n",
       "      <td>OFFICE DEPOT #191</td>\n",
       "      <td>FEDEX SHP 12/28/09 AB#</td>\n",
       "      <td>FEDEX SHP 12/23/09 AB#</td>\n",
       "    </tr>\n",
       "    <tr>\n",
       "      <th>Merch state</th>\n",
       "      <td>TN</td>\n",
       "      <td>MA</td>\n",
       "      <td>MD</td>\n",
       "      <td>TN</td>\n",
       "      <td>TN</td>\n",
       "    </tr>\n",
       "    <tr>\n",
       "      <th>Merch zip</th>\n",
       "      <td>38118</td>\n",
       "      <td>00013</td>\n",
       "      <td>00006</td>\n",
       "      <td>38118</td>\n",
       "      <td>38118</td>\n",
       "    </tr>\n",
       "    <tr>\n",
       "      <th>Transtype</th>\n",
       "      <td>P</td>\n",
       "      <td>P</td>\n",
       "      <td>P</td>\n",
       "      <td>P</td>\n",
       "      <td>P</td>\n",
       "    </tr>\n",
       "    <tr>\n",
       "      <th>Amount</th>\n",
       "      <td>3.62</td>\n",
       "      <td>31.42</td>\n",
       "      <td>178.49</td>\n",
       "      <td>3.62</td>\n",
       "      <td>3.62</td>\n",
       "    </tr>\n",
       "    <tr>\n",
       "      <th>Fraud</th>\n",
       "      <td>0</td>\n",
       "      <td>0</td>\n",
       "      <td>0</td>\n",
       "      <td>0</td>\n",
       "      <td>0</td>\n",
       "    </tr>\n",
       "    <tr>\n",
       "      <th>card_merch</th>\n",
       "      <td>51421904395509006296254</td>\n",
       "      <td>514218397361003026333</td>\n",
       "      <td>51421317214503082993600</td>\n",
       "      <td>51421484525509006296254</td>\n",
       "      <td>51421904395509006296254</td>\n",
       "    </tr>\n",
       "    <tr>\n",
       "      <th>card_state</th>\n",
       "      <td>5142190439TN</td>\n",
       "      <td>5142183973MA</td>\n",
       "      <td>5142131721MD</td>\n",
       "      <td>5142148452TN</td>\n",
       "      <td>5142190439TN</td>\n",
       "    </tr>\n",
       "    <tr>\n",
       "      <th>card_zip</th>\n",
       "      <td>514219043938118</td>\n",
       "      <td>514218397300013</td>\n",
       "      <td>514213172100006</td>\n",
       "      <td>514214845238118</td>\n",
       "      <td>514219043938118</td>\n",
       "    </tr>\n",
       "    <tr>\n",
       "      <th>merch_zip</th>\n",
       "      <td>550900629625438118</td>\n",
       "      <td>6100302633300013</td>\n",
       "      <td>450308299360000006</td>\n",
       "      <td>550900629625438118</td>\n",
       "      <td>550900629625438118</td>\n",
       "    </tr>\n",
       "    <tr>\n",
       "      <th>merch_state</th>\n",
       "      <td>5509006296254TN</td>\n",
       "      <td>61003026333MA</td>\n",
       "      <td>4503082993600MD</td>\n",
       "      <td>5509006296254TN</td>\n",
       "      <td>5509006296254TN</td>\n",
       "    </tr>\n",
       "    <tr>\n",
       "      <th>card_merch_zip</th>\n",
       "      <td>5142190439550900629625438118</td>\n",
       "      <td>51421839736100302633300013</td>\n",
       "      <td>5142131721450308299360000006</td>\n",
       "      <td>5142148452550900629625438118</td>\n",
       "      <td>5142190439550900629625438118</td>\n",
       "    </tr>\n",
       "    <tr>\n",
       "      <th>card_merch_state</th>\n",
       "      <td>51421904395509006296254TN</td>\n",
       "      <td>514218397361003026333MA</td>\n",
       "      <td>51421317214503082993600MD</td>\n",
       "      <td>51421484525509006296254TN</td>\n",
       "      <td>51421904395509006296254TN</td>\n",
       "    </tr>\n",
       "    <tr>\n",
       "      <th>card_state_zip</th>\n",
       "      <td>51421904395509006296254TN38118</td>\n",
       "      <td>514218397361003026333MA00013</td>\n",
       "      <td>51421317214503082993600MD00006</td>\n",
       "      <td>51421484525509006296254TN38118</td>\n",
       "      <td>51421904395509006296254TN38118</td>\n",
       "    </tr>\n",
       "    <tr>\n",
       "      <th>merch_state_zip</th>\n",
       "      <td>5509006296254TN38118</td>\n",
       "      <td>61003026333MA00013</td>\n",
       "      <td>4503082993600MD00006</td>\n",
       "      <td>5509006296254TN38118</td>\n",
       "      <td>5509006296254TN38118</td>\n",
       "    </tr>\n",
       "    <tr>\n",
       "      <th>dow</th>\n",
       "      <td>Sunday</td>\n",
       "      <td>Sunday</td>\n",
       "      <td>Sunday</td>\n",
       "      <td>Sunday</td>\n",
       "      <td>Sunday</td>\n",
       "    </tr>\n",
       "    <tr>\n",
       "      <th>dow_risk</th>\n",
       "      <td>0.025994</td>\n",
       "      <td>0.025994</td>\n",
       "      <td>0.025994</td>\n",
       "      <td>0.025994</td>\n",
       "      <td>0.025994</td>\n",
       "    </tr>\n",
       "  </tbody>\n",
       "</table>\n",
       "</div>"
      ],
      "text/plain": [
       "                                                0  \\\n",
       "Recnum                                          1   \n",
       "Cardnum                                5142190439   \n",
       "Date                          2006-01-01 00:00:00   \n",
       "Merchnum                            5509006296254   \n",
       "Merch description          FEDEX SHP 12/23/09 AB#   \n",
       "Merch state                                    TN   \n",
       "Merch zip                                   38118   \n",
       "Transtype                                       P   \n",
       "Amount                                       3.62   \n",
       "Fraud                                           0   \n",
       "card_merch                51421904395509006296254   \n",
       "card_state                           5142190439TN   \n",
       "card_zip                          514219043938118   \n",
       "merch_zip                      550900629625438118   \n",
       "merch_state                       5509006296254TN   \n",
       "card_merch_zip       5142190439550900629625438118   \n",
       "card_merch_state        51421904395509006296254TN   \n",
       "card_state_zip     51421904395509006296254TN38118   \n",
       "merch_state_zip              5509006296254TN38118   \n",
       "dow                                        Sunday   \n",
       "dow_risk                                 0.025994   \n",
       "\n",
       "                                              1  \\\n",
       "Recnum                                        2   \n",
       "Cardnum                              5142183973   \n",
       "Date                        2006-01-01 00:00:00   \n",
       "Merchnum                            61003026333   \n",
       "Merch description       SERVICE MERCHANDISE #81   \n",
       "Merch state                                  MA   \n",
       "Merch zip                                 00013   \n",
       "Transtype                                     P   \n",
       "Amount                                    31.42   \n",
       "Fraud                                         0   \n",
       "card_merch                514218397361003026333   \n",
       "card_state                         5142183973MA   \n",
       "card_zip                        514218397300013   \n",
       "merch_zip                      6100302633300013   \n",
       "merch_state                       61003026333MA   \n",
       "card_merch_zip       51421839736100302633300013   \n",
       "card_merch_state        514218397361003026333MA   \n",
       "card_state_zip     514218397361003026333MA00013   \n",
       "merch_state_zip              61003026333MA00013   \n",
       "dow                                      Sunday   \n",
       "dow_risk                               0.025994   \n",
       "\n",
       "                                                2  \\\n",
       "Recnum                                          3   \n",
       "Cardnum                                5142131721   \n",
       "Date                          2006-01-01 00:00:00   \n",
       "Merchnum                            4503082993600   \n",
       "Merch description               OFFICE DEPOT #191   \n",
       "Merch state                                    MD   \n",
       "Merch zip                                   00006   \n",
       "Transtype                                       P   \n",
       "Amount                                     178.49   \n",
       "Fraud                                           0   \n",
       "card_merch                51421317214503082993600   \n",
       "card_state                           5142131721MD   \n",
       "card_zip                          514213172100006   \n",
       "merch_zip                      450308299360000006   \n",
       "merch_state                       4503082993600MD   \n",
       "card_merch_zip       5142131721450308299360000006   \n",
       "card_merch_state        51421317214503082993600MD   \n",
       "card_state_zip     51421317214503082993600MD00006   \n",
       "merch_state_zip              4503082993600MD00006   \n",
       "dow                                        Sunday   \n",
       "dow_risk                                 0.025994   \n",
       "\n",
       "                                                3  \\\n",
       "Recnum                                          4   \n",
       "Cardnum                                5142148452   \n",
       "Date                          2006-01-01 00:00:00   \n",
       "Merchnum                            5509006296254   \n",
       "Merch description          FEDEX SHP 12/28/09 AB#   \n",
       "Merch state                                    TN   \n",
       "Merch zip                                   38118   \n",
       "Transtype                                       P   \n",
       "Amount                                       3.62   \n",
       "Fraud                                           0   \n",
       "card_merch                51421484525509006296254   \n",
       "card_state                           5142148452TN   \n",
       "card_zip                          514214845238118   \n",
       "merch_zip                      550900629625438118   \n",
       "merch_state                       5509006296254TN   \n",
       "card_merch_zip       5142148452550900629625438118   \n",
       "card_merch_state        51421484525509006296254TN   \n",
       "card_state_zip     51421484525509006296254TN38118   \n",
       "merch_state_zip              5509006296254TN38118   \n",
       "dow                                        Sunday   \n",
       "dow_risk                                 0.025994   \n",
       "\n",
       "                                                4  \n",
       "Recnum                                          5  \n",
       "Cardnum                                5142190439  \n",
       "Date                          2006-01-01 00:00:00  \n",
       "Merchnum                            5509006296254  \n",
       "Merch description          FEDEX SHP 12/23/09 AB#  \n",
       "Merch state                                    TN  \n",
       "Merch zip                                   38118  \n",
       "Transtype                                       P  \n",
       "Amount                                       3.62  \n",
       "Fraud                                           0  \n",
       "card_merch                51421904395509006296254  \n",
       "card_state                           5142190439TN  \n",
       "card_zip                          514219043938118  \n",
       "merch_zip                      550900629625438118  \n",
       "merch_state                       5509006296254TN  \n",
       "card_merch_zip       5142190439550900629625438118  \n",
       "card_merch_state        51421904395509006296254TN  \n",
       "card_state_zip     51421904395509006296254TN38118  \n",
       "merch_state_zip              5509006296254TN38118  \n",
       "dow                                        Sunday  \n",
       "dow_risk                                 0.025994  "
      ]
     },
     "execution_count": 44,
     "metadata": {},
     "output_type": "execute_result"
    }
   ],
   "source": [
    "data.head().T"
   ]
  },
  {
   "cell_type": "code",
   "execution_count": 45,
   "id": "31b2df45",
   "metadata": {},
   "outputs": [
    {
     "data": {
      "text/plain": [
       "(96397, 21)"
      ]
     },
     "execution_count": 45,
     "metadata": {},
     "output_type": "execute_result"
    }
   ],
   "source": [
    "data.shape"
   ]
  },
  {
   "cell_type": "code",
   "execution_count": 46,
   "id": "78f9404f",
   "metadata": {},
   "outputs": [
    {
     "data": {
      "text/plain": [
       "['Cardnum',\n",
       " 'Merchnum',\n",
       " 'Merch description',\n",
       " 'card_merch',\n",
       " 'card_state',\n",
       " 'card_zip',\n",
       " 'merch_zip',\n",
       " 'merch_state',\n",
       " 'card_merch_zip',\n",
       " 'card_merch_state',\n",
       " 'card_state_zip',\n",
       " 'merch_state_zip']"
      ]
     },
     "execution_count": 46,
     "metadata": {},
     "output_type": "execute_result"
    }
   ],
   "source": [
    "# trial!\n",
    "entities=list(data.iloc[:, np.r_[1, 3,4, 10:19]].columns)\n",
    "entities"
   ]
  },
  {
   "cell_type": "code",
   "execution_count": 47,
   "id": "5ccbd3e0",
   "metadata": {},
   "outputs": [
    {
     "data": {
      "text/plain": [
       "12"
      ]
     },
     "execution_count": 47,
     "metadata": {},
     "output_type": "execute_result"
    }
   ],
   "source": [
    "len(entities)"
   ]
  },
  {
   "cell_type": "code",
   "execution_count": 48,
   "id": "8eb9e3ec",
   "metadata": {
    "scrolled": false
   },
   "outputs": [
    {
     "data": {
      "text/plain": [
       "Recnum                        int64\n",
       "Cardnum                      object\n",
       "Date                 datetime64[ns]\n",
       "Merchnum                     object\n",
       "Merch description            object\n",
       "Merch state                  object\n",
       "Merch zip                    object\n",
       "Transtype                    object\n",
       "Amount                      float64\n",
       "Fraud                         int64\n",
       "card_merch                   object\n",
       "card_state                   object\n",
       "card_zip                     object\n",
       "merch_zip                    object\n",
       "merch_state                  object\n",
       "card_merch_zip               object\n",
       "card_merch_state             object\n",
       "card_state_zip               object\n",
       "merch_state_zip              object\n",
       "dow                          object\n",
       "dow_risk                    float64\n",
       "dtype: object"
      ]
     },
     "execution_count": 48,
     "metadata": {},
     "output_type": "execute_result"
    }
   ],
   "source": [
    "data.dtypes"
   ]
  },
  {
   "cell_type": "code",
   "execution_count": 49,
   "id": "f7c0f384",
   "metadata": {},
   "outputs": [
    {
     "data": {
      "text/plain": [
       "(96397, 21)"
      ]
     },
     "execution_count": 49,
     "metadata": {},
     "output_type": "execute_result"
    }
   ],
   "source": [
    "df1=data.copy()\n",
    "final=data.copy()\n",
    "df1['check_date']=df1.Date\n",
    "df1['check_record']=df1.Recnum\n",
    "final.shape"
   ]
  },
  {
   "cell_type": "code",
   "execution_count": 50,
   "id": "8035f9f2",
   "metadata": {
    "scrolled": false
   },
   "outputs": [
    {
     "name": "stdout",
     "output_type": "stream",
     "text": [
      "\n",
      "\n",
      "Cardnum_day_since ---> Done\n",
      "Cardnum_count_0---> Done\n",
      "Cardnumamount variables over past0---> Done\n",
      "Cardnum_count_1---> Done\n",
      "Cardnumamount variables over past1---> Done\n",
      "Cardnum_count_3---> Done\n",
      "Cardnumamount variables over past3---> Done\n",
      "Cardnum_count_7---> Done\n",
      "Cardnumamount variables over past7---> Done\n",
      "Cardnum_count_14---> Done\n",
      "Cardnumamount variables over past14---> Done\n",
      "Cardnum_count_30---> Done\n",
      "Cardnumamount variables over past30---> Done\n",
      "Run time for the last entity ----------- 6.479632299999999s\n",
      "\n",
      "Merchnum_day_since ---> Done\n",
      "Merchnum_count_0---> Done\n",
      "Merchnumamount variables over past0---> Done\n",
      "Merchnum_count_1---> Done\n",
      "Merchnumamount variables over past1---> Done\n",
      "Merchnum_count_3---> Done\n",
      "Merchnumamount variables over past3---> Done\n",
      "Merchnum_count_7---> Done\n",
      "Merchnumamount variables over past7---> Done\n",
      "Merchnum_count_14---> Done\n",
      "Merchnumamount variables over past14---> Done\n",
      "Merchnum_count_30---> Done\n",
      "Merchnumamount variables over past30---> Done\n",
      "Run time for the last entity ----------- 81.7532867s\n",
      "\n",
      "Merch description_day_since ---> Done\n",
      "Merch description_count_0---> Done\n",
      "Merch descriptionamount variables over past0---> Done\n",
      "Merch description_count_1---> Done\n",
      "Merch descriptionamount variables over past1---> Done\n",
      "Merch description_count_3---> Done\n",
      "Merch descriptionamount variables over past3---> Done\n",
      "Merch description_count_7---> Done\n",
      "Merch descriptionamount variables over past7---> Done\n",
      "Merch description_count_14---> Done\n",
      "Merch descriptionamount variables over past14---> Done\n",
      "Merch description_count_30---> Done\n",
      "Merch descriptionamount variables over past30---> Done\n",
      "Run time for the last entity ----------- 9.717968200000001s\n",
      "\n",
      "card_merch_day_since ---> Done\n",
      "card_merch_count_0---> Done\n",
      "card_merchamount variables over past0---> Done\n",
      "card_merch_count_1---> Done\n",
      "card_merchamount variables over past1---> Done\n",
      "card_merch_count_3---> Done\n",
      "card_merchamount variables over past3---> Done\n",
      "card_merch_count_7---> Done\n",
      "card_merchamount variables over past7---> Done\n",
      "card_merch_count_14---> Done\n",
      "card_merchamount variables over past14---> Done\n",
      "card_merch_count_30---> Done\n",
      "card_merchamount variables over past30---> Done\n",
      "Run time for the last entity ----------- 2.721123999999989s\n",
      "\n",
      "card_state_day_since ---> Done\n",
      "card_state_count_0---> Done\n",
      "card_stateamount variables over past0---> Done\n",
      "card_state_count_1---> Done\n",
      "card_stateamount variables over past1---> Done\n",
      "card_state_count_3---> Done\n",
      "card_stateamount variables over past3---> Done\n",
      "card_state_count_7---> Done\n",
      "card_stateamount variables over past7---> Done\n",
      "card_state_count_14---> Done\n",
      "card_stateamount variables over past14---> Done\n",
      "card_state_count_30---> Done\n",
      "card_stateamount variables over past30---> Done\n",
      "Run time for the last entity ----------- 3.3122662999999903s\n",
      "\n",
      "card_zip_day_since ---> Done\n",
      "card_zip_count_0---> Done\n",
      "card_zipamount variables over past0---> Done\n",
      "card_zip_count_1---> Done\n",
      "card_zipamount variables over past1---> Done\n",
      "card_zip_count_3---> Done\n",
      "card_zipamount variables over past3---> Done\n",
      "card_zip_count_7---> Done\n",
      "card_zipamount variables over past7---> Done\n",
      "card_zip_count_14---> Done\n",
      "card_zipamount variables over past14---> Done\n",
      "card_zip_count_30---> Done\n",
      "card_zipamount variables over past30---> Done\n",
      "Run time for the last entity ----------- 3.0587558s\n",
      "\n",
      "merch_zip_day_since ---> Done\n",
      "merch_zip_count_0---> Done\n",
      "merch_zipamount variables over past0---> Done\n",
      "merch_zip_count_1---> Done\n",
      "merch_zipamount variables over past1---> Done\n",
      "merch_zip_count_3---> Done\n",
      "merch_zipamount variables over past3---> Done\n",
      "merch_zip_count_7---> Done\n",
      "merch_zipamount variables over past7---> Done\n",
      "merch_zip_count_14---> Done\n",
      "merch_zipamount variables over past14---> Done\n",
      "merch_zip_count_30---> Done\n",
      "merch_zipamount variables over past30---> Done\n",
      "Run time for the last entity ----------- 92.97148870000001s\n",
      "\n",
      "merch_state_day_since ---> Done\n",
      "merch_state_count_0---> Done\n",
      "merch_stateamount variables over past0---> Done\n",
      "merch_state_count_1---> Done\n",
      "merch_stateamount variables over past1---> Done\n",
      "merch_state_count_3---> Done\n",
      "merch_stateamount variables over past3---> Done\n",
      "merch_state_count_7---> Done\n",
      "merch_stateamount variables over past7---> Done\n",
      "merch_state_count_14---> Done\n",
      "merch_stateamount variables over past14---> Done\n",
      "merch_state_count_30---> Done\n",
      "merch_stateamount variables over past30---> Done\n",
      "Run time for the last entity ----------- 98.7926798s\n",
      "\n",
      "card_merch_zip_day_since ---> Done\n",
      "card_merch_zip_count_0---> Done\n",
      "card_merch_zipamount variables over past0---> Done\n",
      "card_merch_zip_count_1---> Done\n",
      "card_merch_zipamount variables over past1---> Done\n",
      "card_merch_zip_count_3---> Done\n",
      "card_merch_zipamount variables over past3---> Done\n",
      "card_merch_zip_count_7---> Done\n",
      "card_merch_zipamount variables over past7---> Done\n",
      "card_merch_zip_count_14---> Done\n",
      "card_merch_zipamount variables over past14---> Done\n",
      "card_merch_zip_count_30---> Done\n",
      "card_merch_zipamount variables over past30---> Done\n",
      "Run time for the last entity ----------- 4.616395099999977s\n",
      "\n",
      "card_merch_state_day_since ---> Done\n",
      "card_merch_state_count_0---> Done\n",
      "card_merch_stateamount variables over past0---> Done\n",
      "card_merch_state_count_1---> Done\n",
      "card_merch_stateamount variables over past1---> Done\n",
      "card_merch_state_count_3---> Done\n",
      "card_merch_stateamount variables over past3---> Done\n",
      "card_merch_state_count_7---> Done\n",
      "card_merch_stateamount variables over past7---> Done\n",
      "card_merch_state_count_14---> Done\n",
      "card_merch_stateamount variables over past14---> Done\n",
      "card_merch_state_count_30---> Done\n",
      "card_merch_stateamount variables over past30---> Done\n",
      "Run time for the last entity ----------- 2.5719786999999883s\n",
      "\n",
      "card_state_zip_day_since ---> Done\n",
      "card_state_zip_count_0---> Done\n",
      "card_state_zipamount variables over past0---> Done\n",
      "card_state_zip_count_1---> Done\n",
      "card_state_zipamount variables over past1---> Done\n",
      "card_state_zip_count_3---> Done\n",
      "card_state_zipamount variables over past3---> Done\n",
      "card_state_zip_count_7---> Done\n",
      "card_state_zipamount variables over past7---> Done\n",
      "card_state_zip_count_14---> Done\n",
      "card_state_zipamount variables over past14---> Done\n",
      "card_state_zip_count_30---> Done\n",
      "card_state_zipamount variables over past30---> Done\n",
      "Run time for the last entity ----------- 3.051715599999966s\n",
      "\n",
      "merch_state_zip_day_since ---> Done\n",
      "merch_state_zip_count_0---> Done\n",
      "merch_state_zipamount variables over past0---> Done\n",
      "merch_state_zip_count_1---> Done\n",
      "merch_state_zipamount variables over past1---> Done\n",
      "merch_state_zip_count_3---> Done\n",
      "merch_state_zipamount variables over past3---> Done\n",
      "merch_state_zip_count_7---> Done\n",
      "merch_state_zipamount variables over past7---> Done\n",
      "merch_state_zip_count_14---> Done\n",
      "merch_state_zipamount variables over past14---> Done\n",
      "merch_state_zip_count_30---> Done\n",
      "merch_state_zipamount variables over past30---> Done\n",
      "Total run time: 6.55172025mins\n"
     ]
    }
   ],
   "source": [
    "\n",
    "import timeit\n",
    "start=timeit.default_timer()\n",
    "for entity in entities:\n",
    "    try: print('Run time for the last entity ----------- {}s'.format(timeit.default_timer()-st))\n",
    "    except: print('')\n",
    "    st=timeit.default_timer()\n",
    "    \n",
    "    ## Day-since variables: # days since I last saw the entity\n",
    "    df_l=df1[['Recnum','Date', entity]]\n",
    "    df_r=df1[['check_record', 'check_date', entity, 'Amount']]\n",
    "    temp=pd.merge(df_l, df_r, left_on=entity, right_on=entity)\n",
    "    temp1=temp[temp.Recnum>temp.check_record][['Recnum','Date','check_date']].groupby('Recnum')[['Date','check_date']].last()\n",
    "    mapper=(temp1.Date-temp1.check_date).dt.days\n",
    "    final[entity+'_day_since']=final.Recnum.map(mapper)\n",
    "    final[entity+'_day_since'].fillna((final.Date-pd.to_datetime('2006-01-01')).dt.days, inplace=True)\n",
    "    print('\\n' + entity +'_day_since ---> Done')\n",
    "    \n",
    "    ## Frequency & Amount variables:\n",
    "    for time in [0,1,3,7,14,30]:\n",
    "        temp2=temp[(temp.check_date >= (temp.Date - dt.timedelta(time))) & (temp.Recnum >= temp.check_record)]\\\n",
    "            [['Recnum', entity, 'Amount']]\n",
    "        col_name=entity+'_count_'+str(time)\n",
    "        mapper2=temp2.groupby('Recnum')[entity].count()\n",
    "        final[col_name]=final.Recnum.map(mapper2)\n",
    "        print(col_name + '---> Done')\n",
    "        final[entity+'_avg_' + str(time)] = final.Recnum.map(temp2.groupby('Recnum')['Amount'].mean())\n",
    "        final[entity+'_max_' + str(time)] = final.Recnum.map(temp2.groupby('Recnum')['Amount'].max())\n",
    "        final[entity+'_med_' + str(time)] = final.Recnum.map(temp2.groupby('Recnum')['Amount'].median())\n",
    "        final[entity+'_total_' + str(time)] = final.Recnum.map(temp2.groupby('Recnum')['Amount'].sum())\n",
    "        final[entity+'_actual/avg_' + str(time)] = final['Amount']/final[entity + '_avg_' + str(time)]\n",
    "        final[entity+'_actual/max_' + str(time)] = final['Amount']/final[entity + '_max_' + str(time)]\n",
    "        final[entity+'_actual/med_' + str(time)] = final['Amount']/final[entity + '_med_' + str(time)]\n",
    "        final[entity+'_actual/total_' + str(time)] = final['Amount']/final[entity + '_total_' + str(time)]\n",
    "        print(entity+'amount variables over past' + str(time) + '---> Done')\n",
    "print('Total run time: {}mins'.format((timeit.default_timer() - start)/60))\n",
    "  "
   ]
  },
  {
   "cell_type": "code",
   "execution_count": 51,
   "id": "34fe4a54",
   "metadata": {},
   "outputs": [
    {
     "name": "stdout",
     "output_type": "stream",
     "text": [
      "run time: 2.5773247000000197s\n"
     ]
    }
   ],
   "source": [
    "start=timeit.default_timer()\n",
    "# velocity change variables\n",
    "for ent in entities:\n",
    "    for d in ['0', '1']:\n",
    "        for dd in ['7','14','30']:\n",
    "            final[ent + '_count_' + d + '_by_' + dd] = final[ent + '_count_' + d]/(final[ent + '_count_' + dd]/float(dd))\n",
    "print('run time: {}s'.format(timeit.default_timer()-start))\n"
   ]
  },
  {
   "cell_type": "markdown",
   "id": "2ec0a05d",
   "metadata": {},
   "source": [
    "#### Benford's Law Variables"
   ]
  },
  {
   "cell_type": "code",
   "execution_count": 52,
   "id": "ee02b2b1",
   "metadata": {},
   "outputs": [],
   "source": [
    "# Benford's Law\n",
    "cleaned_data = data[data['Merch description'].str.match(r\"[Ff][Ee][Dd][Ee][Xx]\")==False].copy()\n",
    "cleaned_data['Amount'] = cleaned_data['Amount'].astype(str)"
   ]
  },
  {
   "cell_type": "code",
   "execution_count": 53,
   "id": "81f2bdc5",
   "metadata": {},
   "outputs": [],
   "source": [
    "def n_low(df):\n",
    "    return ((df['Amount'].str.extract(r\"([1-9])\")=='1') | (df['Amount'].str.extract(r\"([1-9])\") == '2')).sum()"
   ]
  },
  {
   "cell_type": "code",
   "execution_count": 54,
   "id": "683435b8",
   "metadata": {
    "scrolled": false
   },
   "outputs": [],
   "source": [
    "cardnums=cleaned_data.groupby('Cardnum').apply(n_low)\n",
    "cardnums['n']=cleaned_data.groupby('Cardnum')['Amount'].count()\n",
    "cardnums['n_low']=cleaned_data.groupby('Cardnum').apply(n_low)\n",
    "cardnums=cardnums[['n', 'n_low']]\n",
    "cardnums['n_high']=cardnums['n'] - cardnums['n_low']"
   ]
  },
  {
   "cell_type": "code",
   "execution_count": 55,
   "id": "a29826e1",
   "metadata": {},
   "outputs": [],
   "source": [
    "cardnums['n_low']=cardnums['n_low'].replace(0,1)\n",
    "cardnums['n_high']=cardnums['n_high'].replace(0,1)"
   ]
  },
  {
   "cell_type": "code",
   "execution_count": 56,
   "id": "4855e749",
   "metadata": {},
   "outputs": [],
   "source": [
    "cardnums['R'] = 1.096*cardnums['n_low']/cardnums['n_high']\n",
    "cardnums['1/R'] = 1/cardnums['R']\n",
    "cardnums['U'] = cardnums[['R', '1/R']].max(axis=1)"
   ]
  },
  {
   "cell_type": "code",
   "execution_count": 57,
   "id": "03f72272",
   "metadata": {},
   "outputs": [],
   "source": [
    "import math\n",
    "e=math.e\n",
    "cardnums['t']=(cardnums['n']-15)/3\n",
    "cardnums['U*']=1+((cardnums['U']-1) / (1+e**-cardnums['t']))"
   ]
  },
  {
   "cell_type": "code",
   "execution_count": 58,
   "id": "7f7fbb9b",
   "metadata": {},
   "outputs": [],
   "source": [
    "cardnums.sort_values('U*', ascending=False)[0:40].to_csv('Top 40 Cardnum.csv')"
   ]
  },
  {
   "cell_type": "code",
   "execution_count": 59,
   "id": "4d65b246",
   "metadata": {},
   "outputs": [],
   "source": [
    "merchnums = cleaned_data.groupby('Cardnum').apply(n_low)\n",
    "merchnums['n'] = cleaned_data.groupby('Cardnum')['Amount'].count()\n",
    "merchnums['n_low'] = cleaned_data.groupby('Cardnum').apply(n_low)\n",
    "merchnums = merchnums[['n', 'n_low']]\n",
    "merchnums['n_high'] = merchnums['n'] - merchnums['n_low']\n",
    "\n",
    "merchnums['n_low']=merchnums['n_low'].replace(0,1)\n",
    "merchnums['n_high']=merchnums['n_high'].replace(0,1)\n"
   ]
  },
  {
   "cell_type": "code",
   "execution_count": 60,
   "id": "721e1d66",
   "metadata": {},
   "outputs": [],
   "source": [
    "\n",
    "merchnums['R'] = 1.096 * merchnums['n_low'] / merchnums['n_high']\n",
    "merchnums['1/R'] = 1/ merchnums['R']\n",
    "merchnums['U'] = merchnums[['R', '1/R']].max(axis=1)\n",
    "\n",
    "merchnums['t'] = (merchnums['n'] - 15)/3\n",
    "merchnums['U*'] = 1 + ((merchnums['U']-1)/(1+e**-merchnums['t']))\n",
    "\n"
   ]
  },
  {
   "cell_type": "code",
   "execution_count": 61,
   "id": "5289dd4d",
   "metadata": {},
   "outputs": [],
   "source": [
    "merchnums.sort_values('U*', ascending = False)[0:40].to_csv('Top 40 Merchnum.csv')"
   ]
  },
  {
   "cell_type": "code",
   "execution_count": 62,
   "id": "cb0f6aa2",
   "metadata": {},
   "outputs": [
    {
     "data": {
      "text/plain": [
       "(96397, 753)"
      ]
     },
     "execution_count": 62,
     "metadata": {},
     "output_type": "execute_result"
    }
   ],
   "source": [
    "final.shape"
   ]
  },
  {
   "cell_type": "code",
   "execution_count": 63,
   "id": "075cae34",
   "metadata": {},
   "outputs": [],
   "source": [
    "final.to_csv('variables_400.csv')"
   ]
  },
  {
   "cell_type": "code",
   "execution_count": 64,
   "id": "13af7514",
   "metadata": {
    "scrolled": true
   },
   "outputs": [
    {
     "data": {
      "text/html": [
       "<div>\n",
       "<style scoped>\n",
       "    .dataframe tbody tr th:only-of-type {\n",
       "        vertical-align: middle;\n",
       "    }\n",
       "\n",
       "    .dataframe tbody tr th {\n",
       "        vertical-align: top;\n",
       "    }\n",
       "\n",
       "    .dataframe thead th {\n",
       "        text-align: right;\n",
       "    }\n",
       "</style>\n",
       "<table border=\"1\" class=\"dataframe\">\n",
       "  <thead>\n",
       "    <tr style=\"text-align: right;\">\n",
       "      <th></th>\n",
       "      <th>Unnamed: 0</th>\n",
       "      <th>Recnum</th>\n",
       "      <th>Cardnum</th>\n",
       "      <th>Date</th>\n",
       "      <th>Merchnum</th>\n",
       "      <th>Merch description</th>\n",
       "      <th>Merch state</th>\n",
       "      <th>Merch zip</th>\n",
       "      <th>Transtype</th>\n",
       "      <th>Amount</th>\n",
       "      <th>...</th>\n",
       "      <th>card_state_zip_count_0_by_30</th>\n",
       "      <th>card_state_zip_count_1_by_7</th>\n",
       "      <th>card_state_zip_count_1_by_14</th>\n",
       "      <th>card_state_zip_count_1_by_30</th>\n",
       "      <th>merch_state_zip_count_0_by_7</th>\n",
       "      <th>merch_state_zip_count_0_by_14</th>\n",
       "      <th>merch_state_zip_count_0_by_30</th>\n",
       "      <th>merch_state_zip_count_1_by_7</th>\n",
       "      <th>merch_state_zip_count_1_by_14</th>\n",
       "      <th>merch_state_zip_count_1_by_30</th>\n",
       "    </tr>\n",
       "  </thead>\n",
       "  <tbody>\n",
       "    <tr>\n",
       "      <th>0</th>\n",
       "      <td>0</td>\n",
       "      <td>1</td>\n",
       "      <td>5142190439</td>\n",
       "      <td>2006-01-01</td>\n",
       "      <td>5509006296254</td>\n",
       "      <td>FEDEX SHP 12/23/09 AB#</td>\n",
       "      <td>TN</td>\n",
       "      <td>38118</td>\n",
       "      <td>P</td>\n",
       "      <td>3.62</td>\n",
       "      <td>...</td>\n",
       "      <td>30.0</td>\n",
       "      <td>7.0</td>\n",
       "      <td>14.0</td>\n",
       "      <td>30.0</td>\n",
       "      <td>7.0</td>\n",
       "      <td>14.0</td>\n",
       "      <td>30.0</td>\n",
       "      <td>7.0</td>\n",
       "      <td>14.0</td>\n",
       "      <td>30.0</td>\n",
       "    </tr>\n",
       "    <tr>\n",
       "      <th>1</th>\n",
       "      <td>1</td>\n",
       "      <td>2</td>\n",
       "      <td>5142183973</td>\n",
       "      <td>2006-01-01</td>\n",
       "      <td>61003026333</td>\n",
       "      <td>SERVICE MERCHANDISE #81</td>\n",
       "      <td>MA</td>\n",
       "      <td>00013</td>\n",
       "      <td>P</td>\n",
       "      <td>31.42</td>\n",
       "      <td>...</td>\n",
       "      <td>30.0</td>\n",
       "      <td>7.0</td>\n",
       "      <td>14.0</td>\n",
       "      <td>30.0</td>\n",
       "      <td>7.0</td>\n",
       "      <td>14.0</td>\n",
       "      <td>30.0</td>\n",
       "      <td>7.0</td>\n",
       "      <td>14.0</td>\n",
       "      <td>30.0</td>\n",
       "    </tr>\n",
       "    <tr>\n",
       "      <th>2</th>\n",
       "      <td>2</td>\n",
       "      <td>3</td>\n",
       "      <td>5142131721</td>\n",
       "      <td>2006-01-01</td>\n",
       "      <td>4503082993600</td>\n",
       "      <td>OFFICE DEPOT #191</td>\n",
       "      <td>MD</td>\n",
       "      <td>00006</td>\n",
       "      <td>P</td>\n",
       "      <td>178.49</td>\n",
       "      <td>...</td>\n",
       "      <td>30.0</td>\n",
       "      <td>7.0</td>\n",
       "      <td>14.0</td>\n",
       "      <td>30.0</td>\n",
       "      <td>7.0</td>\n",
       "      <td>14.0</td>\n",
       "      <td>30.0</td>\n",
       "      <td>7.0</td>\n",
       "      <td>14.0</td>\n",
       "      <td>30.0</td>\n",
       "    </tr>\n",
       "    <tr>\n",
       "      <th>3</th>\n",
       "      <td>3</td>\n",
       "      <td>4</td>\n",
       "      <td>5142148452</td>\n",
       "      <td>2006-01-01</td>\n",
       "      <td>5509006296254</td>\n",
       "      <td>FEDEX SHP 12/28/09 AB#</td>\n",
       "      <td>TN</td>\n",
       "      <td>38118</td>\n",
       "      <td>P</td>\n",
       "      <td>3.62</td>\n",
       "      <td>...</td>\n",
       "      <td>30.0</td>\n",
       "      <td>7.0</td>\n",
       "      <td>14.0</td>\n",
       "      <td>30.0</td>\n",
       "      <td>7.0</td>\n",
       "      <td>14.0</td>\n",
       "      <td>30.0</td>\n",
       "      <td>7.0</td>\n",
       "      <td>14.0</td>\n",
       "      <td>30.0</td>\n",
       "    </tr>\n",
       "    <tr>\n",
       "      <th>4</th>\n",
       "      <td>4</td>\n",
       "      <td>5</td>\n",
       "      <td>5142190439</td>\n",
       "      <td>2006-01-01</td>\n",
       "      <td>5509006296254</td>\n",
       "      <td>FEDEX SHP 12/23/09 AB#</td>\n",
       "      <td>TN</td>\n",
       "      <td>38118</td>\n",
       "      <td>P</td>\n",
       "      <td>3.62</td>\n",
       "      <td>...</td>\n",
       "      <td>30.0</td>\n",
       "      <td>7.0</td>\n",
       "      <td>14.0</td>\n",
       "      <td>30.0</td>\n",
       "      <td>7.0</td>\n",
       "      <td>14.0</td>\n",
       "      <td>30.0</td>\n",
       "      <td>7.0</td>\n",
       "      <td>14.0</td>\n",
       "      <td>30.0</td>\n",
       "    </tr>\n",
       "  </tbody>\n",
       "</table>\n",
       "<p>5 rows × 754 columns</p>\n",
       "</div>"
      ],
      "text/plain": [
       "   Unnamed: 0  Recnum     Cardnum        Date       Merchnum  \\\n",
       "0           0       1  5142190439  2006-01-01  5509006296254   \n",
       "1           1       2  5142183973  2006-01-01    61003026333   \n",
       "2           2       3  5142131721  2006-01-01  4503082993600   \n",
       "3           3       4  5142148452  2006-01-01  5509006296254   \n",
       "4           4       5  5142190439  2006-01-01  5509006296254   \n",
       "\n",
       "         Merch description Merch state Merch zip Transtype  Amount  ...  \\\n",
       "0   FEDEX SHP 12/23/09 AB#          TN     38118         P    3.62  ...   \n",
       "1  SERVICE MERCHANDISE #81          MA     00013         P   31.42  ...   \n",
       "2        OFFICE DEPOT #191          MD     00006         P  178.49  ...   \n",
       "3   FEDEX SHP 12/28/09 AB#          TN     38118         P    3.62  ...   \n",
       "4   FEDEX SHP 12/23/09 AB#          TN     38118         P    3.62  ...   \n",
       "\n",
       "   card_state_zip_count_0_by_30 card_state_zip_count_1_by_7  \\\n",
       "0                          30.0                         7.0   \n",
       "1                          30.0                         7.0   \n",
       "2                          30.0                         7.0   \n",
       "3                          30.0                         7.0   \n",
       "4                          30.0                         7.0   \n",
       "\n",
       "  card_state_zip_count_1_by_14 card_state_zip_count_1_by_30  \\\n",
       "0                         14.0                         30.0   \n",
       "1                         14.0                         30.0   \n",
       "2                         14.0                         30.0   \n",
       "3                         14.0                         30.0   \n",
       "4                         14.0                         30.0   \n",
       "\n",
       "  merch_state_zip_count_0_by_7 merch_state_zip_count_0_by_14  \\\n",
       "0                          7.0                          14.0   \n",
       "1                          7.0                          14.0   \n",
       "2                          7.0                          14.0   \n",
       "3                          7.0                          14.0   \n",
       "4                          7.0                          14.0   \n",
       "\n",
       "  merch_state_zip_count_0_by_30 merch_state_zip_count_1_by_7  \\\n",
       "0                          30.0                          7.0   \n",
       "1                          30.0                          7.0   \n",
       "2                          30.0                          7.0   \n",
       "3                          30.0                          7.0   \n",
       "4                          30.0                          7.0   \n",
       "\n",
       "  merch_state_zip_count_1_by_14 merch_state_zip_count_1_by_30  \n",
       "0                          14.0                          30.0  \n",
       "1                          14.0                          30.0  \n",
       "2                          14.0                          30.0  \n",
       "3                          14.0                          30.0  \n",
       "4                          14.0                          30.0  \n",
       "\n",
       "[5 rows x 754 columns]"
      ]
     },
     "execution_count": 64,
     "metadata": {},
     "output_type": "execute_result"
    }
   ],
   "source": [
    "pd.read_csv('variables_400.csv').head()"
   ]
  },
  {
   "cell_type": "code",
   "execution_count": null,
   "id": "7fff4955",
   "metadata": {},
   "outputs": [],
   "source": []
  },
  {
   "cell_type": "code",
   "execution_count": null,
   "id": "700b9154",
   "metadata": {},
   "outputs": [],
   "source": []
  },
  {
   "cell_type": "code",
   "execution_count": 65,
   "id": "f76e1bb9",
   "metadata": {},
   "outputs": [
    {
     "data": {
      "text/plain": [
       "\"\\ndata['card_zip']=data['Cardnum']+data['Merch zip']\\ndata['card_merch']=data.Cardnum+data.Merchnum\\ndata['card_state']=data.Cardnum+data['Merch state']\\ndata['merch_zip']=data.Merchnum+data['Merch zip']\\ndata['merch_state']=data.Merchnum+data['Merch state']\\ndata['merch_country']=data.Merchnum+data['country']\\ndata['merch_card_country']=data.Merchnum+data['Cardnum']+data['country']\\n#data['card_state_zip_country']=data.Cardnum+data['Merch state']+data['Merch zip']+data['Merch state']\\ndata['card_merch_zip']=data.Cardnum+data['Merchnum']+data['Merch zip']\\ndata['card_merch_state']=data.Cardnum+data['Merchnum']+data['Merch state']\\n#data['card_state_zip']=data.Cardnum+data['Merchnum']+data['Merch state']+data['Merch zip']\\n#data['merch_state_zip']=data.Merchnum+data['Merch state']+data['Merch zip']\\n#data['card_state_zip_country']=data.Cardnum+data['Merch state']+data['Merch zip']+data['Merch state']\\n#data['merch_state_zip_country']=data.Merchnum+data['Merch state']+data['Merch zip']+data['Merch state']\\n#data['card_merch_zip_country']=data.Cardnum+data['Merchnum']+data['Merch zip']+data['country']\\ndata['card_description_zip']=data.Cardnum+data['Merch description']+data['Merch zip']\\ndata['merch_description_zip']=data.Merchnum+data['Merch description']+data['Merch zip']\\n# data['card_merch_description_zip']=data.Cardnum+data.Merchnum+data['Merch description']+data['Merch zip']\""
      ]
     },
     "execution_count": 65,
     "metadata": {},
     "output_type": "execute_result"
    }
   ],
   "source": [
    "'''\n",
    "data['card_zip']=data['Cardnum']+data['Merch zip']\n",
    "data['card_merch']=data.Cardnum+data.Merchnum\n",
    "data['card_state']=data.Cardnum+data['Merch state']\n",
    "data['merch_zip']=data.Merchnum+data['Merch zip']\n",
    "data['merch_state']=data.Merchnum+data['Merch state']\n",
    "data['merch_country']=data.Merchnum+data['country']\n",
    "data['merch_card_country']=data.Merchnum+data['Cardnum']+data['country']\n",
    "#data['card_state_zip_country']=data.Cardnum+data['Merch state']+data['Merch zip']+data['Merch state']\n",
    "data['card_merch_zip']=data.Cardnum+data['Merchnum']+data['Merch zip']\n",
    "data['card_merch_state']=data.Cardnum+data['Merchnum']+data['Merch state']\n",
    "#data['card_state_zip']=data.Cardnum+data['Merchnum']+data['Merch state']+data['Merch zip']\n",
    "#data['merch_state_zip']=data.Merchnum+data['Merch state']+data['Merch zip']\n",
    "#data['card_state_zip_country']=data.Cardnum+data['Merch state']+data['Merch zip']+data['Merch state']\n",
    "#data['merch_state_zip_country']=data.Merchnum+data['Merch state']+data['Merch zip']+data['Merch state']\n",
    "#data['card_merch_zip_country']=data.Cardnum+data['Merchnum']+data['Merch zip']+data['country']\n",
    "data['card_description_zip']=data.Cardnum+data['Merch description']+data['Merch zip']\n",
    "data['merch_description_zip']=data.Merchnum+data['Merch description']+data['Merch zip']\n",
    "# data['card_merch_description_zip']=data.Cardnum+data.Merchnum+data['Merch description']+data['Merch zip']'''"
   ]
  }
 ],
 "metadata": {
  "kernelspec": {
   "display_name": "Python 3",
   "language": "python",
   "name": "python3"
  },
  "language_info": {
   "codemirror_mode": {
    "name": "ipython",
    "version": 3
   },
   "file_extension": ".py",
   "mimetype": "text/x-python",
   "name": "python",
   "nbconvert_exporter": "python",
   "pygments_lexer": "ipython3",
   "version": "3.8.8"
  }
 },
 "nbformat": 4,
 "nbformat_minor": 5
}
