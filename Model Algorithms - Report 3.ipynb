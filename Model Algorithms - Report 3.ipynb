{
 "cells": [
  {
   "cell_type": "markdown",
   "metadata": {
    "cell_id": "6117d741-b757-484d-a299-87ea9bf489d3",
    "deepnote_cell_height": 82,
    "deepnote_cell_type": "markdown"
   },
   "source": [
    "# Modeling"
   ]
  },
  {
   "cell_type": "code",
   "execution_count": 1,
   "metadata": {
    "cell_id": "00001-944ff8bc-6095-411f-a29f-e8cc8cce009d",
    "deepnote_cell_height": 660.234375,
    "deepnote_cell_type": "code",
    "deepnote_to_be_reexecuted": false,
    "execution_millis": 15450,
    "execution_start": 1651596640814,
    "scrolled": false,
    "source_hash": "82a857ae"
   },
   "outputs": [
    {
     "name": "stdout",
     "output_type": "stream",
     "text": [
      "Requirement already satisfied: lightgbm in c:\\users\\vivia\\anaconda3\\lib\\site-packages (3.3.2)\n",
      "Requirement already satisfied: wheel in c:\\users\\vivia\\anaconda3\\lib\\site-packages (from lightgbm) (0.36.2)\n",
      "Requirement already satisfied: numpy in c:\\users\\vivia\\anaconda3\\lib\\site-packages (from lightgbm) (1.20.1)\n",
      "Requirement already satisfied: scikit-learn!=0.22.0 in c:\\users\\vivia\\anaconda3\\lib\\site-packages (from lightgbm) (1.0.2)\n",
      "Requirement already satisfied: scipy in c:\\users\\vivia\\anaconda3\\lib\\site-packages (from lightgbm) (1.6.2)\n",
      "Requirement already satisfied: joblib>=0.11 in c:\\users\\vivia\\anaconda3\\lib\\site-packages (from scikit-learn!=0.22.0->lightgbm) (1.0.1)\n",
      "Requirement already satisfied: threadpoolctl>=2.0.0 in c:\\users\\vivia\\anaconda3\\lib\\site-packages (from scikit-learn!=0.22.0->lightgbm) (2.1.0)\n",
      "LOAD DURATION:  0:00:05.094499\n"
     ]
    }
   ],
   "source": [
    "from datetime import datetime\n",
    "start_time = datetime.now()\n",
    "\n",
    "# Libraries to load\n",
    "!pip install lightgbm\n",
    "\n",
    "import pandas as pd\n",
    "from sklearn.model_selection import train_test_split\n",
    "from sklearn.tree import DecisionTreeClassifier\n",
    "from sklearn.linear_model import LogisticRegression\n",
    "from sklearn.ensemble import RandomForestClassifier\n",
    "from sklearn.neural_network import MLPClassifier\n",
    "import lightgbm as lgb\n",
    "import numpy as np\n",
    "%matplotlib inline\n",
    "\n",
    "print('LOAD DURATION: ', datetime.now() - start_time) # load time about 30 seconds"
   ]
  },
  {
   "cell_type": "code",
   "execution_count": 2,
   "metadata": {
    "cell_id": "00002-329c62b5-d292-43ef-a8b1-1f1f759c7e0a",
    "deepnote_cell_height": 534.078125,
    "deepnote_cell_type": "code",
    "deepnote_to_be_reexecuted": false,
    "execution_millis": 660,
    "execution_start": 1651561700016,
    "scrolled": false,
    "source_hash": "a39adfef"
   },
   "outputs": [
    {
     "name": "stdout",
     "output_type": "stream",
     "text": [
      "(96397, 22)\n",
      "Wall time: 231 ms\n"
     ]
    },
    {
     "data": {
      "text/html": [
       "<div>\n",
       "<style scoped>\n",
       "    .dataframe tbody tr th:only-of-type {\n",
       "        vertical-align: middle;\n",
       "    }\n",
       "\n",
       "    .dataframe tbody tr th {\n",
       "        vertical-align: top;\n",
       "    }\n",
       "\n",
       "    .dataframe thead th {\n",
       "        text-align: right;\n",
       "    }\n",
       "</style>\n",
       "<table border=\"1\" class=\"dataframe\">\n",
       "  <thead>\n",
       "    <tr style=\"text-align: right;\">\n",
       "      <th></th>\n",
       "      <th>card_merch_total_7</th>\n",
       "      <th>card_state_max_3</th>\n",
       "      <th>Merchnum_max_0</th>\n",
       "      <th>card_zip_max_3</th>\n",
       "      <th>Cardnum_total_7</th>\n",
       "      <th>merch_state_max_3</th>\n",
       "      <th>Merchnum_max_3</th>\n",
       "      <th>merch_state_max_0</th>\n",
       "      <th>Merchnum_max_1</th>\n",
       "      <th>card_zip_total_7</th>\n",
       "      <th>...</th>\n",
       "      <th>Cardnum_avg_1</th>\n",
       "      <th>Cardnum_avg_0</th>\n",
       "      <th>merch_state_max_1</th>\n",
       "      <th>merch_zip_max_0</th>\n",
       "      <th>merch_zip_max_3</th>\n",
       "      <th>Merch description_max_3</th>\n",
       "      <th>Merch description_max_0</th>\n",
       "      <th>Merch description_max_1</th>\n",
       "      <th>Recnum</th>\n",
       "      <th>Fraud</th>\n",
       "    </tr>\n",
       "  </thead>\n",
       "  <tbody>\n",
       "    <tr>\n",
       "      <th>0</th>\n",
       "      <td>3.62</td>\n",
       "      <td>3.62</td>\n",
       "      <td>3.62</td>\n",
       "      <td>3.62</td>\n",
       "      <td>3.62</td>\n",
       "      <td>3.62</td>\n",
       "      <td>3.62</td>\n",
       "      <td>3.62</td>\n",
       "      <td>3.62</td>\n",
       "      <td>3.62</td>\n",
       "      <td>...</td>\n",
       "      <td>3.62</td>\n",
       "      <td>3.62</td>\n",
       "      <td>3.62</td>\n",
       "      <td>3.62</td>\n",
       "      <td>3.62</td>\n",
       "      <td>3.62</td>\n",
       "      <td>3.62</td>\n",
       "      <td>3.62</td>\n",
       "      <td>1</td>\n",
       "      <td>0</td>\n",
       "    </tr>\n",
       "    <tr>\n",
       "      <th>1</th>\n",
       "      <td>31.42</td>\n",
       "      <td>31.42</td>\n",
       "      <td>31.42</td>\n",
       "      <td>31.42</td>\n",
       "      <td>31.42</td>\n",
       "      <td>31.42</td>\n",
       "      <td>31.42</td>\n",
       "      <td>31.42</td>\n",
       "      <td>31.42</td>\n",
       "      <td>31.42</td>\n",
       "      <td>...</td>\n",
       "      <td>31.42</td>\n",
       "      <td>31.42</td>\n",
       "      <td>31.42</td>\n",
       "      <td>31.42</td>\n",
       "      <td>31.42</td>\n",
       "      <td>31.42</td>\n",
       "      <td>31.42</td>\n",
       "      <td>31.42</td>\n",
       "      <td>2</td>\n",
       "      <td>0</td>\n",
       "    </tr>\n",
       "    <tr>\n",
       "      <th>2</th>\n",
       "      <td>178.49</td>\n",
       "      <td>178.49</td>\n",
       "      <td>178.49</td>\n",
       "      <td>178.49</td>\n",
       "      <td>178.49</td>\n",
       "      <td>178.49</td>\n",
       "      <td>178.49</td>\n",
       "      <td>178.49</td>\n",
       "      <td>178.49</td>\n",
       "      <td>178.49</td>\n",
       "      <td>...</td>\n",
       "      <td>178.49</td>\n",
       "      <td>178.49</td>\n",
       "      <td>178.49</td>\n",
       "      <td>178.49</td>\n",
       "      <td>178.49</td>\n",
       "      <td>178.49</td>\n",
       "      <td>178.49</td>\n",
       "      <td>178.49</td>\n",
       "      <td>3</td>\n",
       "      <td>0</td>\n",
       "    </tr>\n",
       "    <tr>\n",
       "      <th>3</th>\n",
       "      <td>3.62</td>\n",
       "      <td>3.62</td>\n",
       "      <td>3.62</td>\n",
       "      <td>3.62</td>\n",
       "      <td>3.62</td>\n",
       "      <td>3.62</td>\n",
       "      <td>3.62</td>\n",
       "      <td>3.62</td>\n",
       "      <td>3.62</td>\n",
       "      <td>3.62</td>\n",
       "      <td>...</td>\n",
       "      <td>3.62</td>\n",
       "      <td>3.62</td>\n",
       "      <td>3.62</td>\n",
       "      <td>3.62</td>\n",
       "      <td>3.62</td>\n",
       "      <td>3.62</td>\n",
       "      <td>3.62</td>\n",
       "      <td>3.62</td>\n",
       "      <td>4</td>\n",
       "      <td>0</td>\n",
       "    </tr>\n",
       "    <tr>\n",
       "      <th>4</th>\n",
       "      <td>7.24</td>\n",
       "      <td>3.62</td>\n",
       "      <td>3.62</td>\n",
       "      <td>3.62</td>\n",
       "      <td>7.24</td>\n",
       "      <td>3.62</td>\n",
       "      <td>3.62</td>\n",
       "      <td>3.62</td>\n",
       "      <td>3.62</td>\n",
       "      <td>7.24</td>\n",
       "      <td>...</td>\n",
       "      <td>3.62</td>\n",
       "      <td>3.62</td>\n",
       "      <td>3.62</td>\n",
       "      <td>3.62</td>\n",
       "      <td>3.62</td>\n",
       "      <td>3.62</td>\n",
       "      <td>3.62</td>\n",
       "      <td>3.62</td>\n",
       "      <td>5</td>\n",
       "      <td>0</td>\n",
       "    </tr>\n",
       "  </tbody>\n",
       "</table>\n",
       "<p>5 rows × 22 columns</p>\n",
       "</div>"
      ],
      "text/plain": [
       "   card_merch_total_7  card_state_max_3  Merchnum_max_0  card_zip_max_3  \\\n",
       "0                3.62              3.62            3.62            3.62   \n",
       "1               31.42             31.42           31.42           31.42   \n",
       "2              178.49            178.49          178.49          178.49   \n",
       "3                3.62              3.62            3.62            3.62   \n",
       "4                7.24              3.62            3.62            3.62   \n",
       "\n",
       "   Cardnum_total_7  merch_state_max_3  Merchnum_max_3  merch_state_max_0  \\\n",
       "0             3.62               3.62            3.62               3.62   \n",
       "1            31.42              31.42           31.42              31.42   \n",
       "2           178.49             178.49          178.49             178.49   \n",
       "3             3.62               3.62            3.62               3.62   \n",
       "4             7.24               3.62            3.62               3.62   \n",
       "\n",
       "   Merchnum_max_1  card_zip_total_7  ...  Cardnum_avg_1  Cardnum_avg_0  \\\n",
       "0            3.62              3.62  ...           3.62           3.62   \n",
       "1           31.42             31.42  ...          31.42          31.42   \n",
       "2          178.49            178.49  ...         178.49         178.49   \n",
       "3            3.62              3.62  ...           3.62           3.62   \n",
       "4            3.62              7.24  ...           3.62           3.62   \n",
       "\n",
       "   merch_state_max_1  merch_zip_max_0  merch_zip_max_3  \\\n",
       "0               3.62             3.62             3.62   \n",
       "1              31.42            31.42            31.42   \n",
       "2             178.49           178.49           178.49   \n",
       "3               3.62             3.62             3.62   \n",
       "4               3.62             3.62             3.62   \n",
       "\n",
       "   Merch description_max_3  Merch description_max_0  Merch description_max_1  \\\n",
       "0                     3.62                     3.62                     3.62   \n",
       "1                    31.42                    31.42                    31.42   \n",
       "2                   178.49                   178.49                   178.49   \n",
       "3                     3.62                     3.62                     3.62   \n",
       "4                     3.62                     3.62                     3.62   \n",
       "\n",
       "   Recnum  Fraud  \n",
       "0       1      0  \n",
       "1       2      0  \n",
       "2       3      0  \n",
       "3       4      0  \n",
       "4       5      0  \n",
       "\n",
       "[5 rows x 22 columns]"
      ]
     },
     "execution_count": 2,
     "metadata": {},
     "output_type": "execute_result"
    }
   ],
   "source": [
    "%%time\n",
    "vars = pd.read_csv('vars_final_1.csv')\n",
    "print(vars.shape)\n",
    "vars.head()"
   ]
  },
  {
   "cell_type": "code",
   "execution_count": 3,
   "metadata": {
    "cell_id": "00003-d08b8a96-de0f-4dd4-a004-107c3578df16",
    "deepnote_cell_height": 618,
    "deepnote_cell_type": "code",
    "deepnote_to_be_reexecuted": false,
    "execution_millis": 321,
    "execution_start": 1651596656270,
    "source_hash": "1cba6e0b"
   },
   "outputs": [
    {
     "data": {
      "text/html": [
       "<div>\n",
       "<style scoped>\n",
       "    .dataframe tbody tr th:only-of-type {\n",
       "        vertical-align: middle;\n",
       "    }\n",
       "\n",
       "    .dataframe tbody tr th {\n",
       "        vertical-align: top;\n",
       "    }\n",
       "\n",
       "    .dataframe thead th {\n",
       "        text-align: right;\n",
       "    }\n",
       "</style>\n",
       "<table border=\"1\" class=\"dataframe\">\n",
       "  <thead>\n",
       "    <tr style=\"text-align: right;\">\n",
       "      <th></th>\n",
       "      <th>variable name</th>\n",
       "    </tr>\n",
       "  </thead>\n",
       "  <tbody>\n",
       "    <tr>\n",
       "      <th>0</th>\n",
       "      <td>card_merch_total_7</td>\n",
       "    </tr>\n",
       "    <tr>\n",
       "      <th>1</th>\n",
       "      <td>card_state_max_3</td>\n",
       "    </tr>\n",
       "    <tr>\n",
       "      <th>2</th>\n",
       "      <td>Merchnum_max_0</td>\n",
       "    </tr>\n",
       "    <tr>\n",
       "      <th>3</th>\n",
       "      <td>card_zip_max_3</td>\n",
       "    </tr>\n",
       "    <tr>\n",
       "      <th>4</th>\n",
       "      <td>Cardnum_total_7</td>\n",
       "    </tr>\n",
       "    <tr>\n",
       "      <th>5</th>\n",
       "      <td>merch_state_max_3</td>\n",
       "    </tr>\n",
       "    <tr>\n",
       "      <th>6</th>\n",
       "      <td>Merchnum_max_3</td>\n",
       "    </tr>\n",
       "    <tr>\n",
       "      <th>7</th>\n",
       "      <td>merch_state_max_0</td>\n",
       "    </tr>\n",
       "    <tr>\n",
       "      <th>8</th>\n",
       "      <td>Merchnum_max_1</td>\n",
       "    </tr>\n",
       "    <tr>\n",
       "      <th>9</th>\n",
       "      <td>card_zip_total_7</td>\n",
       "    </tr>\n",
       "    <tr>\n",
       "      <th>10</th>\n",
       "      <td>merch_zip_max_1</td>\n",
       "    </tr>\n",
       "    <tr>\n",
       "      <th>11</th>\n",
       "      <td>Cardnum_max_0</td>\n",
       "    </tr>\n",
       "    <tr>\n",
       "      <th>12</th>\n",
       "      <td>Cardnum_avg_1</td>\n",
       "    </tr>\n",
       "    <tr>\n",
       "      <th>13</th>\n",
       "      <td>Cardnum_avg_0</td>\n",
       "    </tr>\n",
       "    <tr>\n",
       "      <th>14</th>\n",
       "      <td>merch_state_max_1</td>\n",
       "    </tr>\n",
       "    <tr>\n",
       "      <th>15</th>\n",
       "      <td>merch_zip_max_0</td>\n",
       "    </tr>\n",
       "    <tr>\n",
       "      <th>16</th>\n",
       "      <td>merch_zip_max_3</td>\n",
       "    </tr>\n",
       "    <tr>\n",
       "      <th>17</th>\n",
       "      <td>Merch description_max_3</td>\n",
       "    </tr>\n",
       "    <tr>\n",
       "      <th>18</th>\n",
       "      <td>Merch description_max_0</td>\n",
       "    </tr>\n",
       "    <tr>\n",
       "      <th>19</th>\n",
       "      <td>Merch description_max_1</td>\n",
       "    </tr>\n",
       "  </tbody>\n",
       "</table>\n",
       "</div>"
      ],
      "text/plain": [
       "              variable name\n",
       "0        card_merch_total_7\n",
       "1          card_state_max_3\n",
       "2            Merchnum_max_0\n",
       "3            card_zip_max_3\n",
       "4           Cardnum_total_7\n",
       "5         merch_state_max_3\n",
       "6            Merchnum_max_3\n",
       "7         merch_state_max_0\n",
       "8            Merchnum_max_1\n",
       "9          card_zip_total_7\n",
       "10          merch_zip_max_1\n",
       "11            Cardnum_max_0\n",
       "12            Cardnum_avg_1\n",
       "13            Cardnum_avg_0\n",
       "14        merch_state_max_1\n",
       "15          merch_zip_max_0\n",
       "16          merch_zip_max_3\n",
       "17  Merch description_max_3\n",
       "18  Merch description_max_0\n",
       "19  Merch description_max_1"
      ]
     },
     "execution_count": 3,
     "metadata": {},
     "output_type": "execute_result"
    }
   ],
   "source": [
    "final_vars = pd.read_csv('final_vars_list.csv')\n",
    "final_vars"
   ]
  },
  {
   "cell_type": "code",
   "execution_count": 4,
   "metadata": {
    "cell_id": "00004-89869dbb-f1c7-418c-bc3d-c2f055f3a850",
    "deepnote_cell_height": 437.34375,
    "deepnote_cell_type": "code",
    "deepnote_output_heights": [
     232.34375
    ],
    "deepnote_to_be_reexecuted": false,
    "execution_millis": 29,
    "execution_start": 1651596656591,
    "source_hash": "9c23a151"
   },
   "outputs": [
    {
     "data": {
      "text/plain": [
       "['Recnum',\n",
       " 'Fraud',\n",
       " 'card_merch_total_7',\n",
       " 'card_state_max_3',\n",
       " 'Merchnum_max_0',\n",
       " 'card_zip_max_3',\n",
       " 'Cardnum_total_7',\n",
       " 'merch_state_max_3',\n",
       " 'Merchnum_max_3',\n",
       " 'merch_state_max_0',\n",
       " 'Merchnum_max_1',\n",
       " 'card_zip_total_7']"
      ]
     },
     "execution_count": 4,
     "metadata": {},
     "output_type": "execute_result"
    }
   ],
   "source": [
    "# change # of vars\n",
    "numvars = min(10,len(final_vars))\n",
    "final_vars_list = ['Recnum','Fraud']\n",
    "for i in range(numvars):\n",
    "    final_vars_list.append(final_vars.iloc[i]['variable name'])\n",
    "    \n",
    "final_vars_list"
   ]
  },
  {
   "cell_type": "code",
   "execution_count": 5,
   "metadata": {
    "cell_id": "00005-64502989-3977-455a-ba29-a390c7305cf4",
    "deepnote_cell_height": 162.1875,
    "deepnote_cell_type": "code",
    "deepnote_to_be_reexecuted": false,
    "execution_millis": 1159,
    "execution_start": 1651596658317,
    "source_hash": "951390d3"
   },
   "outputs": [
    {
     "data": {
      "text/html": [
       "<div>\n",
       "<style scoped>\n",
       "    .dataframe tbody tr th:only-of-type {\n",
       "        vertical-align: middle;\n",
       "    }\n",
       "\n",
       "    .dataframe tbody tr th {\n",
       "        vertical-align: top;\n",
       "    }\n",
       "\n",
       "    .dataframe thead th {\n",
       "        text-align: right;\n",
       "    }\n",
       "</style>\n",
       "<table border=\"1\" class=\"dataframe\">\n",
       "  <thead>\n",
       "    <tr style=\"text-align: right;\">\n",
       "      <th></th>\n",
       "      <th>Recnum</th>\n",
       "      <th>Fraud</th>\n",
       "      <th>card_merch_total_7</th>\n",
       "      <th>card_state_max_3</th>\n",
       "      <th>Merchnum_max_0</th>\n",
       "      <th>card_zip_max_3</th>\n",
       "      <th>Cardnum_total_7</th>\n",
       "      <th>merch_state_max_3</th>\n",
       "      <th>Merchnum_max_3</th>\n",
       "      <th>merch_state_max_0</th>\n",
       "      <th>Merchnum_max_1</th>\n",
       "      <th>card_zip_total_7</th>\n",
       "    </tr>\n",
       "  </thead>\n",
       "  <tbody>\n",
       "    <tr>\n",
       "      <th>0</th>\n",
       "      <td>1</td>\n",
       "      <td>0</td>\n",
       "      <td>3.62</td>\n",
       "      <td>3.62</td>\n",
       "      <td>3.62</td>\n",
       "      <td>3.62</td>\n",
       "      <td>3.62</td>\n",
       "      <td>3.62</td>\n",
       "      <td>3.62</td>\n",
       "      <td>3.62</td>\n",
       "      <td>3.62</td>\n",
       "      <td>3.62</td>\n",
       "    </tr>\n",
       "    <tr>\n",
       "      <th>1</th>\n",
       "      <td>2</td>\n",
       "      <td>0</td>\n",
       "      <td>31.42</td>\n",
       "      <td>31.42</td>\n",
       "      <td>31.42</td>\n",
       "      <td>31.42</td>\n",
       "      <td>31.42</td>\n",
       "      <td>31.42</td>\n",
       "      <td>31.42</td>\n",
       "      <td>31.42</td>\n",
       "      <td>31.42</td>\n",
       "      <td>31.42</td>\n",
       "    </tr>\n",
       "    <tr>\n",
       "      <th>2</th>\n",
       "      <td>3</td>\n",
       "      <td>0</td>\n",
       "      <td>178.49</td>\n",
       "      <td>178.49</td>\n",
       "      <td>178.49</td>\n",
       "      <td>178.49</td>\n",
       "      <td>178.49</td>\n",
       "      <td>178.49</td>\n",
       "      <td>178.49</td>\n",
       "      <td>178.49</td>\n",
       "      <td>178.49</td>\n",
       "      <td>178.49</td>\n",
       "    </tr>\n",
       "    <tr>\n",
       "      <th>3</th>\n",
       "      <td>4</td>\n",
       "      <td>0</td>\n",
       "      <td>3.62</td>\n",
       "      <td>3.62</td>\n",
       "      <td>3.62</td>\n",
       "      <td>3.62</td>\n",
       "      <td>3.62</td>\n",
       "      <td>3.62</td>\n",
       "      <td>3.62</td>\n",
       "      <td>3.62</td>\n",
       "      <td>3.62</td>\n",
       "      <td>3.62</td>\n",
       "    </tr>\n",
       "    <tr>\n",
       "      <th>4</th>\n",
       "      <td>5</td>\n",
       "      <td>0</td>\n",
       "      <td>7.24</td>\n",
       "      <td>3.62</td>\n",
       "      <td>3.62</td>\n",
       "      <td>3.62</td>\n",
       "      <td>7.24</td>\n",
       "      <td>3.62</td>\n",
       "      <td>3.62</td>\n",
       "      <td>3.62</td>\n",
       "      <td>3.62</td>\n",
       "      <td>7.24</td>\n",
       "    </tr>\n",
       "  </tbody>\n",
       "</table>\n",
       "</div>"
      ],
      "text/plain": [
       "   Recnum  Fraud  card_merch_total_7  card_state_max_3  Merchnum_max_0  \\\n",
       "0       1      0                3.62              3.62            3.62   \n",
       "1       2      0               31.42             31.42           31.42   \n",
       "2       3      0              178.49            178.49          178.49   \n",
       "3       4      0                3.62              3.62            3.62   \n",
       "4       5      0                7.24              3.62            3.62   \n",
       "\n",
       "   card_zip_max_3  Cardnum_total_7  merch_state_max_3  Merchnum_max_3  \\\n",
       "0            3.62             3.62               3.62            3.62   \n",
       "1           31.42            31.42              31.42           31.42   \n",
       "2          178.49           178.49             178.49          178.49   \n",
       "3            3.62             3.62               3.62            3.62   \n",
       "4            3.62             7.24               3.62            3.62   \n",
       "\n",
       "   merch_state_max_0  Merchnum_max_1  card_zip_total_7  \n",
       "0               3.62            3.62              3.62  \n",
       "1              31.42           31.42             31.42  \n",
       "2             178.49          178.49            178.49  \n",
       "3               3.62            3.62              3.62  \n",
       "4               3.62            3.62              7.24  "
      ]
     },
     "execution_count": 5,
     "metadata": {},
     "output_type": "execute_result"
    }
   ],
   "source": [
    "vars = vars.filter(final_vars_list,axis=1)\n",
    "vars.head()"
   ]
  },
  {
   "cell_type": "code",
   "execution_count": 6,
   "metadata": {
    "cell_id": "00006-bfded667-b08a-44b5-9730-5ddc7f518cf9",
    "deepnote_cell_height": 118.1875,
    "deepnote_cell_type": "code",
    "deepnote_output_heights": [
     21.1875
    ],
    "deepnote_to_be_reexecuted": false,
    "execution_millis": 16,
    "execution_start": 1651561707887,
    "source_hash": "a322041a"
   },
   "outputs": [
    {
     "data": {
      "text/plain": [
       "(96397, 12)"
      ]
     },
     "execution_count": 6,
     "metadata": {},
     "output_type": "execute_result"
    }
   ],
   "source": [
    "vars.shape"
   ]
  },
  {
   "cell_type": "code",
   "execution_count": 7,
   "metadata": {
    "cell_id": "00007-50600349-f845-42e4-9016-75079fdaf62e",
    "deepnote_cell_height": 99,
    "deepnote_cell_type": "code",
    "deepnote_to_be_reexecuted": false,
    "execution_millis": 1,
    "execution_start": 1651561709646,
    "source_hash": "3b8b6340"
   },
   "outputs": [],
   "source": [
    "# use this to cap variables. For some problems it helps\n",
    "Clip = 10"
   ]
  },
  {
   "cell_type": "code",
   "execution_count": 8,
   "metadata": {
    "cell_id": "00008-e2042ddd-696d-4a1b-b3f6-038cb9b9c9ca",
    "deepnote_cell_height": 81,
    "deepnote_cell_type": "code",
    "deepnote_to_be_reexecuted": false,
    "execution_millis": 1,
    "execution_start": 1651556216072,
    "source_hash": "3c1e0c6d"
   },
   "outputs": [],
   "source": [
    "# vars.rename(columns={'fraud_label':'Fraud'},inplace=True)"
   ]
  },
  {
   "cell_type": "code",
   "execution_count": 9,
   "metadata": {
    "cell_id": "00009-70979ce0-2516-4aea-b3e0-b3fba2bb68e2",
    "deepnote_cell_height": 118.1875,
    "deepnote_cell_type": "code",
    "deepnote_output_heights": [
     21.1875
    ],
    "deepnote_to_be_reexecuted": false,
    "execution_millis": 1,
    "execution_start": 1651561711962,
    "source_hash": "91fabc8b"
   },
   "outputs": [
    {
     "data": {
      "text/plain": [
       "1059"
      ]
     },
     "execution_count": 9,
     "metadata": {},
     "output_type": "execute_result"
    }
   ],
   "source": [
    "vars['Fraud'].sum()"
   ]
  },
  {
   "cell_type": "code",
   "execution_count": 10,
   "metadata": {
    "cell_id": "00010-fd614beb-135f-410e-8013-952b0650952b",
    "deepnote_cell_height": 600,
    "deepnote_cell_type": "code",
    "deepnote_to_be_reexecuted": false,
    "execution_millis": 108,
    "execution_start": 1651561714466,
    "scrolled": false,
    "source_hash": "853f2bb2"
   },
   "outputs": [
    {
     "data": {
      "text/html": [
       "<div>\n",
       "<style scoped>\n",
       "    .dataframe tbody tr th:only-of-type {\n",
       "        vertical-align: middle;\n",
       "    }\n",
       "\n",
       "    .dataframe tbody tr th {\n",
       "        vertical-align: top;\n",
       "    }\n",
       "\n",
       "    .dataframe thead th {\n",
       "        text-align: right;\n",
       "    }\n",
       "</style>\n",
       "<table border=\"1\" class=\"dataframe\">\n",
       "  <thead>\n",
       "    <tr style=\"text-align: right;\">\n",
       "      <th></th>\n",
       "      <th>Recnum</th>\n",
       "      <th>Fraud</th>\n",
       "      <th>card_merch_total_7</th>\n",
       "      <th>card_state_max_3</th>\n",
       "      <th>Merchnum_max_0</th>\n",
       "      <th>card_zip_max_3</th>\n",
       "      <th>Cardnum_total_7</th>\n",
       "      <th>merch_state_max_3</th>\n",
       "      <th>Merchnum_max_3</th>\n",
       "      <th>merch_state_max_0</th>\n",
       "      <th>Merchnum_max_1</th>\n",
       "      <th>card_zip_total_7</th>\n",
       "    </tr>\n",
       "  </thead>\n",
       "  <tbody>\n",
       "    <tr>\n",
       "      <th>0</th>\n",
       "      <td>1</td>\n",
       "      <td>0</td>\n",
       "      <td>3.62</td>\n",
       "      <td>3.62</td>\n",
       "      <td>3.62</td>\n",
       "      <td>3.62</td>\n",
       "      <td>3.62</td>\n",
       "      <td>3.62</td>\n",
       "      <td>3.62</td>\n",
       "      <td>3.62</td>\n",
       "      <td>3.62</td>\n",
       "      <td>3.62</td>\n",
       "    </tr>\n",
       "    <tr>\n",
       "      <th>1</th>\n",
       "      <td>2</td>\n",
       "      <td>0</td>\n",
       "      <td>31.42</td>\n",
       "      <td>31.42</td>\n",
       "      <td>31.42</td>\n",
       "      <td>31.42</td>\n",
       "      <td>31.42</td>\n",
       "      <td>31.42</td>\n",
       "      <td>31.42</td>\n",
       "      <td>31.42</td>\n",
       "      <td>31.42</td>\n",
       "      <td>31.42</td>\n",
       "    </tr>\n",
       "    <tr>\n",
       "      <th>2</th>\n",
       "      <td>3</td>\n",
       "      <td>0</td>\n",
       "      <td>178.49</td>\n",
       "      <td>178.49</td>\n",
       "      <td>178.49</td>\n",
       "      <td>178.49</td>\n",
       "      <td>178.49</td>\n",
       "      <td>178.49</td>\n",
       "      <td>178.49</td>\n",
       "      <td>178.49</td>\n",
       "      <td>178.49</td>\n",
       "      <td>178.49</td>\n",
       "    </tr>\n",
       "    <tr>\n",
       "      <th>3</th>\n",
       "      <td>4</td>\n",
       "      <td>0</td>\n",
       "      <td>3.62</td>\n",
       "      <td>3.62</td>\n",
       "      <td>3.62</td>\n",
       "      <td>3.62</td>\n",
       "      <td>3.62</td>\n",
       "      <td>3.62</td>\n",
       "      <td>3.62</td>\n",
       "      <td>3.62</td>\n",
       "      <td>3.62</td>\n",
       "      <td>3.62</td>\n",
       "    </tr>\n",
       "    <tr>\n",
       "      <th>4</th>\n",
       "      <td>5</td>\n",
       "      <td>0</td>\n",
       "      <td>7.24</td>\n",
       "      <td>3.62</td>\n",
       "      <td>3.62</td>\n",
       "      <td>3.62</td>\n",
       "      <td>7.24</td>\n",
       "      <td>3.62</td>\n",
       "      <td>3.62</td>\n",
       "      <td>3.62</td>\n",
       "      <td>3.62</td>\n",
       "      <td>7.24</td>\n",
       "    </tr>\n",
       "    <tr>\n",
       "      <th>5</th>\n",
       "      <td>6</td>\n",
       "      <td>0</td>\n",
       "      <td>3.67</td>\n",
       "      <td>3.67</td>\n",
       "      <td>3.67</td>\n",
       "      <td>3.67</td>\n",
       "      <td>3.67</td>\n",
       "      <td>3.67</td>\n",
       "      <td>3.67</td>\n",
       "      <td>3.67</td>\n",
       "      <td>3.67</td>\n",
       "      <td>3.67</td>\n",
       "    </tr>\n",
       "    <tr>\n",
       "      <th>6</th>\n",
       "      <td>7</td>\n",
       "      <td>0</td>\n",
       "      <td>3.62</td>\n",
       "      <td>3.62</td>\n",
       "      <td>3.67</td>\n",
       "      <td>3.62</td>\n",
       "      <td>3.62</td>\n",
       "      <td>3.67</td>\n",
       "      <td>3.67</td>\n",
       "      <td>3.67</td>\n",
       "      <td>3.67</td>\n",
       "      <td>3.62</td>\n",
       "    </tr>\n",
       "    <tr>\n",
       "      <th>7</th>\n",
       "      <td>8</td>\n",
       "      <td>0</td>\n",
       "      <td>230.32</td>\n",
       "      <td>230.32</td>\n",
       "      <td>230.32</td>\n",
       "      <td>230.32</td>\n",
       "      <td>230.32</td>\n",
       "      <td>230.32</td>\n",
       "      <td>230.32</td>\n",
       "      <td>230.32</td>\n",
       "      <td>230.32</td>\n",
       "      <td>230.32</td>\n",
       "    </tr>\n",
       "    <tr>\n",
       "      <th>8</th>\n",
       "      <td>9</td>\n",
       "      <td>0</td>\n",
       "      <td>62.11</td>\n",
       "      <td>62.11</td>\n",
       "      <td>62.11</td>\n",
       "      <td>62.11</td>\n",
       "      <td>62.11</td>\n",
       "      <td>62.11</td>\n",
       "      <td>62.11</td>\n",
       "      <td>62.11</td>\n",
       "      <td>62.11</td>\n",
       "      <td>62.11</td>\n",
       "    </tr>\n",
       "    <tr>\n",
       "      <th>9</th>\n",
       "      <td>10</td>\n",
       "      <td>0</td>\n",
       "      <td>10.86</td>\n",
       "      <td>3.62</td>\n",
       "      <td>3.67</td>\n",
       "      <td>3.62</td>\n",
       "      <td>10.86</td>\n",
       "      <td>3.67</td>\n",
       "      <td>3.67</td>\n",
       "      <td>3.67</td>\n",
       "      <td>3.67</td>\n",
       "      <td>10.86</td>\n",
       "    </tr>\n",
       "  </tbody>\n",
       "</table>\n",
       "</div>"
      ],
      "text/plain": [
       "   Recnum  Fraud  card_merch_total_7  card_state_max_3  Merchnum_max_0  \\\n",
       "0       1      0                3.62              3.62            3.62   \n",
       "1       2      0               31.42             31.42           31.42   \n",
       "2       3      0              178.49            178.49          178.49   \n",
       "3       4      0                3.62              3.62            3.62   \n",
       "4       5      0                7.24              3.62            3.62   \n",
       "5       6      0                3.67              3.67            3.67   \n",
       "6       7      0                3.62              3.62            3.67   \n",
       "7       8      0              230.32            230.32          230.32   \n",
       "8       9      0               62.11             62.11           62.11   \n",
       "9      10      0               10.86              3.62            3.67   \n",
       "\n",
       "   card_zip_max_3  Cardnum_total_7  merch_state_max_3  Merchnum_max_3  \\\n",
       "0            3.62             3.62               3.62            3.62   \n",
       "1           31.42            31.42              31.42           31.42   \n",
       "2          178.49           178.49             178.49          178.49   \n",
       "3            3.62             3.62               3.62            3.62   \n",
       "4            3.62             7.24               3.62            3.62   \n",
       "5            3.67             3.67               3.67            3.67   \n",
       "6            3.62             3.62               3.67            3.67   \n",
       "7          230.32           230.32             230.32          230.32   \n",
       "8           62.11            62.11              62.11           62.11   \n",
       "9            3.62            10.86               3.67            3.67   \n",
       "\n",
       "   merch_state_max_0  Merchnum_max_1  card_zip_total_7  \n",
       "0               3.62            3.62              3.62  \n",
       "1              31.42           31.42             31.42  \n",
       "2             178.49          178.49            178.49  \n",
       "3               3.62            3.62              3.62  \n",
       "4               3.62            3.62              7.24  \n",
       "5               3.67            3.67              3.67  \n",
       "6               3.67            3.67              3.62  \n",
       "7             230.32          230.32            230.32  \n",
       "8              62.11           62.11             62.11  \n",
       "9               3.67            3.67             10.86  "
      ]
     },
     "execution_count": 10,
     "metadata": {},
     "output_type": "execute_result"
    }
   ],
   "source": [
    "vars.head(10)"
   ]
  },
  {
   "cell_type": "code",
   "execution_count": 11,
   "metadata": {
    "cell_id": "00011-7e6a1cc0-321f-4909-a95a-d89644070b64",
    "deepnote_cell_height": 118.1875,
    "deepnote_cell_type": "code",
    "deepnote_output_heights": [
     21.1875
    ],
    "deepnote_to_be_reexecuted": false,
    "execution_millis": 7,
    "execution_start": 1651561717313,
    "source_hash": "a322041a"
   },
   "outputs": [
    {
     "data": {
      "text/plain": [
       "(96397, 12)"
      ]
     },
     "execution_count": 11,
     "metadata": {},
     "output_type": "execute_result"
    }
   ],
   "source": [
    "vars.shape"
   ]
  },
  {
   "cell_type": "code",
   "execution_count": 12,
   "metadata": {
    "cell_id": "00012-1c0cd598-d5ea-48a3-86fc-97b0e2d96747",
    "deepnote_cell_height": 518,
    "deepnote_cell_type": "code",
    "deepnote_to_be_reexecuted": false,
    "execution_millis": 256,
    "execution_start": 1651561719075,
    "scrolled": false,
    "source_hash": "4b564892"
   },
   "outputs": [
    {
     "data": {
      "text/html": [
       "<div>\n",
       "<style scoped>\n",
       "    .dataframe tbody tr th:only-of-type {\n",
       "        vertical-align: middle;\n",
       "    }\n",
       "\n",
       "    .dataframe tbody tr th {\n",
       "        vertical-align: top;\n",
       "    }\n",
       "\n",
       "    .dataframe thead th {\n",
       "        text-align: right;\n",
       "    }\n",
       "</style>\n",
       "<table border=\"1\" class=\"dataframe\">\n",
       "  <thead>\n",
       "    <tr style=\"text-align: right;\">\n",
       "      <th></th>\n",
       "      <th>Recnum</th>\n",
       "      <th>Fraud</th>\n",
       "      <th>card_merch_total_7</th>\n",
       "      <th>card_state_max_3</th>\n",
       "      <th>Merchnum_max_0</th>\n",
       "      <th>card_zip_max_3</th>\n",
       "      <th>Cardnum_total_7</th>\n",
       "      <th>merch_state_max_3</th>\n",
       "      <th>Merchnum_max_3</th>\n",
       "      <th>merch_state_max_0</th>\n",
       "      <th>Merchnum_max_1</th>\n",
       "      <th>card_zip_total_7</th>\n",
       "    </tr>\n",
       "  </thead>\n",
       "  <tbody>\n",
       "    <tr>\n",
       "      <th>count</th>\n",
       "      <td>96397.000000</td>\n",
       "      <td>96397.000000</td>\n",
       "      <td>96397.000000</td>\n",
       "      <td>96397.000000</td>\n",
       "      <td>96397.000000</td>\n",
       "      <td>96397.000000</td>\n",
       "      <td>96397.000000</td>\n",
       "      <td>96397.000000</td>\n",
       "      <td>96397.000000</td>\n",
       "      <td>96397.000000</td>\n",
       "      <td>96397.000000</td>\n",
       "      <td>96397.000000</td>\n",
       "    </tr>\n",
       "    <tr>\n",
       "      <th>mean</th>\n",
       "      <td>48365.481820</td>\n",
       "      <td>0.010986</td>\n",
       "      <td>690.574005</td>\n",
       "      <td>485.602332</td>\n",
       "      <td>513.147751</td>\n",
       "      <td>447.719977</td>\n",
       "      <td>2384.036098</td>\n",
       "      <td>670.298434</td>\n",
       "      <td>704.853247</td>\n",
       "      <td>502.122778</td>\n",
       "      <td>609.880320</td>\n",
       "      <td>713.775022</td>\n",
       "    </tr>\n",
       "    <tr>\n",
       "      <th>std</th>\n",
       "      <td>27945.003883</td>\n",
       "      <td>0.104236</td>\n",
       "      <td>4104.137998</td>\n",
       "      <td>1055.455595</td>\n",
       "      <td>1034.431876</td>\n",
       "      <td>1019.061865</td>\n",
       "      <td>7158.500841</td>\n",
       "      <td>1241.652611</td>\n",
       "      <td>1408.210129</td>\n",
       "      <td>998.844002</td>\n",
       "      <td>1283.554148</td>\n",
       "      <td>4112.586929</td>\n",
       "    </tr>\n",
       "    <tr>\n",
       "      <th>min</th>\n",
       "      <td>1.000000</td>\n",
       "      <td>0.000000</td>\n",
       "      <td>0.010000</td>\n",
       "      <td>0.010000</td>\n",
       "      <td>0.010000</td>\n",
       "      <td>0.010000</td>\n",
       "      <td>0.140000</td>\n",
       "      <td>0.010000</td>\n",
       "      <td>0.010000</td>\n",
       "      <td>0.010000</td>\n",
       "      <td>0.010000</td>\n",
       "      <td>0.010000</td>\n",
       "    </tr>\n",
       "    <tr>\n",
       "      <th>25%</th>\n",
       "      <td>24154.000000</td>\n",
       "      <td>0.000000</td>\n",
       "      <td>65.600000</td>\n",
       "      <td>47.050000</td>\n",
       "      <td>56.600000</td>\n",
       "      <td>41.400000</td>\n",
       "      <td>292.400000</td>\n",
       "      <td>90.520000</td>\n",
       "      <td>91.020000</td>\n",
       "      <td>55.700000</td>\n",
       "      <td>70.840000</td>\n",
       "      <td>71.200000</td>\n",
       "    </tr>\n",
       "    <tr>\n",
       "      <th>50%</th>\n",
       "      <td>48365.000000</td>\n",
       "      <td>0.000000</td>\n",
       "      <td>202.980000</td>\n",
       "      <td>181.540000</td>\n",
       "      <td>196.000000</td>\n",
       "      <td>160.620000</td>\n",
       "      <td>986.140000</td>\n",
       "      <td>295.000000</td>\n",
       "      <td>300.000000</td>\n",
       "      <td>192.000000</td>\n",
       "      <td>245.850000</td>\n",
       "      <td>217.430000</td>\n",
       "    </tr>\n",
       "    <tr>\n",
       "      <th>75%</th>\n",
       "      <td>72578.000000</td>\n",
       "      <td>0.000000</td>\n",
       "      <td>600.000000</td>\n",
       "      <td>543.850000</td>\n",
       "      <td>590.000000</td>\n",
       "      <td>489.840000</td>\n",
       "      <td>2566.000000</td>\n",
       "      <td>855.130000</td>\n",
       "      <td>898.400000</td>\n",
       "      <td>575.000000</td>\n",
       "      <td>736.780000</td>\n",
       "      <td>628.240000</td>\n",
       "    </tr>\n",
       "    <tr>\n",
       "      <th>max</th>\n",
       "      <td>96753.000000</td>\n",
       "      <td>1.000000</td>\n",
       "      <td>306633.410000</td>\n",
       "      <td>47900.000000</td>\n",
       "      <td>47900.000000</td>\n",
       "      <td>47900.000000</td>\n",
       "      <td>312616.060000</td>\n",
       "      <td>47900.000000</td>\n",
       "      <td>47900.000000</td>\n",
       "      <td>47900.000000</td>\n",
       "      <td>47900.000000</td>\n",
       "      <td>306633.410000</td>\n",
       "    </tr>\n",
       "  </tbody>\n",
       "</table>\n",
       "</div>"
      ],
      "text/plain": [
       "             Recnum         Fraud  card_merch_total_7  card_state_max_3  \\\n",
       "count  96397.000000  96397.000000        96397.000000      96397.000000   \n",
       "mean   48365.481820      0.010986          690.574005        485.602332   \n",
       "std    27945.003883      0.104236         4104.137998       1055.455595   \n",
       "min        1.000000      0.000000            0.010000          0.010000   \n",
       "25%    24154.000000      0.000000           65.600000         47.050000   \n",
       "50%    48365.000000      0.000000          202.980000        181.540000   \n",
       "75%    72578.000000      0.000000          600.000000        543.850000   \n",
       "max    96753.000000      1.000000       306633.410000      47900.000000   \n",
       "\n",
       "       Merchnum_max_0  card_zip_max_3  Cardnum_total_7  merch_state_max_3  \\\n",
       "count    96397.000000    96397.000000     96397.000000       96397.000000   \n",
       "mean       513.147751      447.719977      2384.036098         670.298434   \n",
       "std       1034.431876     1019.061865      7158.500841        1241.652611   \n",
       "min          0.010000        0.010000         0.140000           0.010000   \n",
       "25%         56.600000       41.400000       292.400000          90.520000   \n",
       "50%        196.000000      160.620000       986.140000         295.000000   \n",
       "75%        590.000000      489.840000      2566.000000         855.130000   \n",
       "max      47900.000000    47900.000000    312616.060000       47900.000000   \n",
       "\n",
       "       Merchnum_max_3  merch_state_max_0  Merchnum_max_1  card_zip_total_7  \n",
       "count    96397.000000       96397.000000    96397.000000      96397.000000  \n",
       "mean       704.853247         502.122778      609.880320        713.775022  \n",
       "std       1408.210129         998.844002     1283.554148       4112.586929  \n",
       "min          0.010000           0.010000        0.010000          0.010000  \n",
       "25%         91.020000          55.700000       70.840000         71.200000  \n",
       "50%        300.000000         192.000000      245.850000        217.430000  \n",
       "75%        898.400000         575.000000      736.780000        628.240000  \n",
       "max      47900.000000       47900.000000    47900.000000     306633.410000  "
      ]
     },
     "execution_count": 12,
     "metadata": {},
     "output_type": "execute_result"
    }
   ],
   "source": [
    "vars.describe()"
   ]
  },
  {
   "cell_type": "code",
   "execution_count": 13,
   "metadata": {
    "cell_id": "00013-758174cf-fe11-4288-b45e-1f0c0ee01cce",
    "deepnote_cell_height": 431,
    "deepnote_cell_type": "code",
    "deepnote_to_be_reexecuted": false,
    "execution_millis": 34,
    "execution_start": 1651561722010,
    "source_hash": "b1f3df9"
   },
   "outputs": [
    {
     "data": {
      "text/html": [
       "<div>\n",
       "<style scoped>\n",
       "    .dataframe tbody tr th:only-of-type {\n",
       "        vertical-align: middle;\n",
       "    }\n",
       "\n",
       "    .dataframe tbody tr th {\n",
       "        vertical-align: top;\n",
       "    }\n",
       "\n",
       "    .dataframe thead th {\n",
       "        text-align: right;\n",
       "    }\n",
       "</style>\n",
       "<table border=\"1\" class=\"dataframe\">\n",
       "  <thead>\n",
       "    <tr style=\"text-align: right;\">\n",
       "      <th></th>\n",
       "      <th>Fraud</th>\n",
       "    </tr>\n",
       "  </thead>\n",
       "  <tbody>\n",
       "    <tr>\n",
       "      <th>0</th>\n",
       "      <td>0</td>\n",
       "    </tr>\n",
       "    <tr>\n",
       "      <th>1</th>\n",
       "      <td>0</td>\n",
       "    </tr>\n",
       "    <tr>\n",
       "      <th>2</th>\n",
       "      <td>0</td>\n",
       "    </tr>\n",
       "    <tr>\n",
       "      <th>3</th>\n",
       "      <td>0</td>\n",
       "    </tr>\n",
       "    <tr>\n",
       "      <th>4</th>\n",
       "      <td>0</td>\n",
       "    </tr>\n",
       "  </tbody>\n",
       "</table>\n",
       "</div>"
      ],
      "text/plain": [
       "   Fraud\n",
       "0      0\n",
       "1      0\n",
       "2      0\n",
       "3      0\n",
       "4      0"
      ]
     },
     "execution_count": 13,
     "metadata": {},
     "output_type": "execute_result"
    }
   ],
   "source": [
    "record_save = vars['Recnum']\n",
    "Y_save = pd.DataFrame(vars.loc[:,'Fraud'])\n",
    "Y_save.head()"
   ]
  },
  {
   "cell_type": "markdown",
   "metadata": {
    "cell_id": "00014-3ead30f6-529b-4d8d-bdd4-0c62772d573c",
    "deepnote_cell_height": 70,
    "deepnote_cell_type": "markdown"
   },
   "source": [
    "## Scale and truncate field values"
   ]
  },
  {
   "cell_type": "code",
   "execution_count": 14,
   "metadata": {
    "cell_id": "00015-84856be1-01cf-4d11-bbb1-1cbf35f9a7c0",
    "deepnote_cell_height": 536,
    "deepnote_cell_type": "code",
    "deepnote_to_be_reexecuted": false,
    "execution_millis": 285,
    "execution_start": 1651561724758,
    "scrolled": true,
    "source_hash": "437eced3"
   },
   "outputs": [
    {
     "data": {
      "text/html": [
       "<div>\n",
       "<style scoped>\n",
       "    .dataframe tbody tr th:only-of-type {\n",
       "        vertical-align: middle;\n",
       "    }\n",
       "\n",
       "    .dataframe tbody tr th {\n",
       "        vertical-align: top;\n",
       "    }\n",
       "\n",
       "    .dataframe thead th {\n",
       "        text-align: right;\n",
       "    }\n",
       "</style>\n",
       "<table border=\"1\" class=\"dataframe\">\n",
       "  <thead>\n",
       "    <tr style=\"text-align: right;\">\n",
       "      <th></th>\n",
       "      <th>card_merch_total_7</th>\n",
       "      <th>card_state_max_3</th>\n",
       "      <th>Merchnum_max_0</th>\n",
       "      <th>card_zip_max_3</th>\n",
       "      <th>Cardnum_total_7</th>\n",
       "      <th>merch_state_max_3</th>\n",
       "      <th>Merchnum_max_3</th>\n",
       "      <th>merch_state_max_0</th>\n",
       "      <th>Merchnum_max_1</th>\n",
       "      <th>card_zip_total_7</th>\n",
       "    </tr>\n",
       "  </thead>\n",
       "  <tbody>\n",
       "    <tr>\n",
       "      <th>count</th>\n",
       "      <td>96397.000000</td>\n",
       "      <td>96397.000000</td>\n",
       "      <td>96397.000000</td>\n",
       "      <td>96397.000000</td>\n",
       "      <td>96397.000000</td>\n",
       "      <td>96397.000000</td>\n",
       "      <td>96397.000000</td>\n",
       "      <td>96397.000000</td>\n",
       "      <td>96397.000000</td>\n",
       "      <td>96397.000000</td>\n",
       "    </tr>\n",
       "    <tr>\n",
       "      <th>mean</th>\n",
       "      <td>690.574005</td>\n",
       "      <td>485.602332</td>\n",
       "      <td>513.147751</td>\n",
       "      <td>447.719977</td>\n",
       "      <td>2384.036098</td>\n",
       "      <td>670.298434</td>\n",
       "      <td>704.853247</td>\n",
       "      <td>502.122778</td>\n",
       "      <td>609.880320</td>\n",
       "      <td>713.775022</td>\n",
       "    </tr>\n",
       "    <tr>\n",
       "      <th>std</th>\n",
       "      <td>4104.137998</td>\n",
       "      <td>1055.455595</td>\n",
       "      <td>1034.431876</td>\n",
       "      <td>1019.061865</td>\n",
       "      <td>7158.500841</td>\n",
       "      <td>1241.652611</td>\n",
       "      <td>1408.210129</td>\n",
       "      <td>998.844002</td>\n",
       "      <td>1283.554148</td>\n",
       "      <td>4112.586929</td>\n",
       "    </tr>\n",
       "    <tr>\n",
       "      <th>min</th>\n",
       "      <td>0.010000</td>\n",
       "      <td>0.010000</td>\n",
       "      <td>0.010000</td>\n",
       "      <td>0.010000</td>\n",
       "      <td>0.140000</td>\n",
       "      <td>0.010000</td>\n",
       "      <td>0.010000</td>\n",
       "      <td>0.010000</td>\n",
       "      <td>0.010000</td>\n",
       "      <td>0.010000</td>\n",
       "    </tr>\n",
       "    <tr>\n",
       "      <th>25%</th>\n",
       "      <td>65.600000</td>\n",
       "      <td>47.050000</td>\n",
       "      <td>56.600000</td>\n",
       "      <td>41.400000</td>\n",
       "      <td>292.400000</td>\n",
       "      <td>90.520000</td>\n",
       "      <td>91.020000</td>\n",
       "      <td>55.700000</td>\n",
       "      <td>70.840000</td>\n",
       "      <td>71.200000</td>\n",
       "    </tr>\n",
       "    <tr>\n",
       "      <th>50%</th>\n",
       "      <td>202.980000</td>\n",
       "      <td>181.540000</td>\n",
       "      <td>196.000000</td>\n",
       "      <td>160.620000</td>\n",
       "      <td>986.140000</td>\n",
       "      <td>295.000000</td>\n",
       "      <td>300.000000</td>\n",
       "      <td>192.000000</td>\n",
       "      <td>245.850000</td>\n",
       "      <td>217.430000</td>\n",
       "    </tr>\n",
       "    <tr>\n",
       "      <th>75%</th>\n",
       "      <td>600.000000</td>\n",
       "      <td>543.850000</td>\n",
       "      <td>590.000000</td>\n",
       "      <td>489.840000</td>\n",
       "      <td>2566.000000</td>\n",
       "      <td>855.130000</td>\n",
       "      <td>898.400000</td>\n",
       "      <td>575.000000</td>\n",
       "      <td>736.780000</td>\n",
       "      <td>628.240000</td>\n",
       "    </tr>\n",
       "    <tr>\n",
       "      <th>max</th>\n",
       "      <td>306633.410000</td>\n",
       "      <td>47900.000000</td>\n",
       "      <td>47900.000000</td>\n",
       "      <td>47900.000000</td>\n",
       "      <td>312616.060000</td>\n",
       "      <td>47900.000000</td>\n",
       "      <td>47900.000000</td>\n",
       "      <td>47900.000000</td>\n",
       "      <td>47900.000000</td>\n",
       "      <td>306633.410000</td>\n",
       "    </tr>\n",
       "  </tbody>\n",
       "</table>\n",
       "</div>"
      ],
      "text/plain": [
       "       card_merch_total_7  card_state_max_3  Merchnum_max_0  card_zip_max_3  \\\n",
       "count        96397.000000      96397.000000    96397.000000    96397.000000   \n",
       "mean           690.574005        485.602332      513.147751      447.719977   \n",
       "std           4104.137998       1055.455595     1034.431876     1019.061865   \n",
       "min              0.010000          0.010000        0.010000        0.010000   \n",
       "25%             65.600000         47.050000       56.600000       41.400000   \n",
       "50%            202.980000        181.540000      196.000000      160.620000   \n",
       "75%            600.000000        543.850000      590.000000      489.840000   \n",
       "max         306633.410000      47900.000000    47900.000000    47900.000000   \n",
       "\n",
       "       Cardnum_total_7  merch_state_max_3  Merchnum_max_3  merch_state_max_0  \\\n",
       "count     96397.000000       96397.000000    96397.000000       96397.000000   \n",
       "mean       2384.036098         670.298434      704.853247         502.122778   \n",
       "std        7158.500841        1241.652611     1408.210129         998.844002   \n",
       "min           0.140000           0.010000        0.010000           0.010000   \n",
       "25%         292.400000          90.520000       91.020000          55.700000   \n",
       "50%         986.140000         295.000000      300.000000         192.000000   \n",
       "75%        2566.000000         855.130000      898.400000         575.000000   \n",
       "max      312616.060000       47900.000000    47900.000000       47900.000000   \n",
       "\n",
       "       Merchnum_max_1  card_zip_total_7  \n",
       "count    96397.000000      96397.000000  \n",
       "mean       609.880320        713.775022  \n",
       "std       1283.554148       4112.586929  \n",
       "min          0.010000          0.010000  \n",
       "25%         70.840000         71.200000  \n",
       "50%        245.850000        217.430000  \n",
       "75%        736.780000        628.240000  \n",
       "max      47900.000000     306633.410000  "
      ]
     },
     "execution_count": 14,
     "metadata": {},
     "output_type": "execute_result"
    }
   ],
   "source": [
    "X_no_scaling = vars.drop(columns = ['Recnum','Fraud'])\n",
    "X_no_scaling.describe()"
   ]
  },
  {
   "cell_type": "code",
   "execution_count": 15,
   "metadata": {
    "cell_id": "00016-acd20cd7-c3b6-4f20-aa62-68888ba8e3c3",
    "deepnote_cell_height": 81,
    "deepnote_cell_type": "code",
    "deepnote_to_be_reexecuted": false,
    "execution_millis": 202,
    "execution_start": 1651561727293,
    "scrolled": true,
    "source_hash": "fee25b9a"
   },
   "outputs": [],
   "source": [
    "X = (X_no_scaling - X_no_scaling.mean()) / X_no_scaling.std()"
   ]
  },
  {
   "cell_type": "code",
   "execution_count": 16,
   "metadata": {
    "cell_id": "00017-e1ce06e9-0fca-4f60-beac-bcf4ebccffe3",
    "deepnote_cell_height": 608,
    "deepnote_cell_type": "code",
    "deepnote_to_be_reexecuted": false,
    "execution_millis": 308,
    "execution_start": 1651561733159,
    "scrolled": true,
    "source_hash": "be0b8b9e"
   },
   "outputs": [
    {
     "data": {
      "text/html": [
       "<div>\n",
       "<style scoped>\n",
       "    .dataframe tbody tr th:only-of-type {\n",
       "        vertical-align: middle;\n",
       "    }\n",
       "\n",
       "    .dataframe tbody tr th {\n",
       "        vertical-align: top;\n",
       "    }\n",
       "\n",
       "    .dataframe thead th {\n",
       "        text-align: right;\n",
       "    }\n",
       "</style>\n",
       "<table border=\"1\" class=\"dataframe\">\n",
       "  <thead>\n",
       "    <tr style=\"text-align: right;\">\n",
       "      <th></th>\n",
       "      <th>card_merch_total_7</th>\n",
       "      <th>card_state_max_3</th>\n",
       "      <th>Merchnum_max_0</th>\n",
       "      <th>card_zip_max_3</th>\n",
       "      <th>Cardnum_total_7</th>\n",
       "      <th>merch_state_max_3</th>\n",
       "      <th>Merchnum_max_3</th>\n",
       "      <th>merch_state_max_0</th>\n",
       "      <th>Merchnum_max_1</th>\n",
       "      <th>card_zip_total_7</th>\n",
       "    </tr>\n",
       "  </thead>\n",
       "  <tbody>\n",
       "    <tr>\n",
       "      <th>count</th>\n",
       "      <td>96397.000000</td>\n",
       "      <td>96397.000000</td>\n",
       "      <td>96397.000000</td>\n",
       "      <td>96397.000000</td>\n",
       "      <td>96397.000000</td>\n",
       "      <td>96397.000000</td>\n",
       "      <td>96397.000000</td>\n",
       "      <td>96397.000000</td>\n",
       "      <td>96397.000000</td>\n",
       "      <td>96397.000000</td>\n",
       "    </tr>\n",
       "    <tr>\n",
       "      <th>mean</th>\n",
       "      <td>-0.012559</td>\n",
       "      <td>-0.011436</td>\n",
       "      <td>-0.010479</td>\n",
       "      <td>-0.011704</td>\n",
       "      <td>-0.014465</td>\n",
       "      <td>-0.010869</td>\n",
       "      <td>-0.012525</td>\n",
       "      <td>-0.010162</td>\n",
       "      <td>-0.012564</td>\n",
       "      <td>-0.012513</td>\n",
       "    </tr>\n",
       "    <tr>\n",
       "      <th>std</th>\n",
       "      <td>0.462480</td>\n",
       "      <td>0.773124</td>\n",
       "      <td>0.804586</td>\n",
       "      <td>0.758784</td>\n",
       "      <td>0.694553</td>\n",
       "      <td>0.803331</td>\n",
       "      <td>0.774909</td>\n",
       "      <td>0.814304</td>\n",
       "      <td>0.756849</td>\n",
       "      <td>0.466538</td>\n",
       "    </tr>\n",
       "    <tr>\n",
       "      <th>min</th>\n",
       "      <td>-0.168260</td>\n",
       "      <td>-0.460078</td>\n",
       "      <td>-0.496058</td>\n",
       "      <td>-0.439335</td>\n",
       "      <td>-0.333016</td>\n",
       "      <td>-0.539836</td>\n",
       "      <td>-0.500524</td>\n",
       "      <td>-0.502694</td>\n",
       "      <td>-0.475142</td>\n",
       "      <td>-0.173556</td>\n",
       "    </tr>\n",
       "    <tr>\n",
       "      <th>25%</th>\n",
       "      <td>-0.152279</td>\n",
       "      <td>-0.415510</td>\n",
       "      <td>-0.441351</td>\n",
       "      <td>-0.398720</td>\n",
       "      <td>-0.292189</td>\n",
       "      <td>-0.466941</td>\n",
       "      <td>-0.435896</td>\n",
       "      <td>-0.446939</td>\n",
       "      <td>-0.419959</td>\n",
       "      <td>-0.156246</td>\n",
       "    </tr>\n",
       "    <tr>\n",
       "      <th>50%</th>\n",
       "      <td>-0.118805</td>\n",
       "      <td>-0.288086</td>\n",
       "      <td>-0.306591</td>\n",
       "      <td>-0.281730</td>\n",
       "      <td>-0.195278</td>\n",
       "      <td>-0.302257</td>\n",
       "      <td>-0.287495</td>\n",
       "      <td>-0.310482</td>\n",
       "      <td>-0.283611</td>\n",
       "      <td>-0.120689</td>\n",
       "    </tr>\n",
       "    <tr>\n",
       "      <th>75%</th>\n",
       "      <td>-0.022069</td>\n",
       "      <td>0.055187</td>\n",
       "      <td>0.074294</td>\n",
       "      <td>0.041332</td>\n",
       "      <td>0.025419</td>\n",
       "      <td>0.148859</td>\n",
       "      <td>0.137442</td>\n",
       "      <td>0.072962</td>\n",
       "      <td>0.098866</td>\n",
       "      <td>-0.020798</td>\n",
       "    </tr>\n",
       "    <tr>\n",
       "      <th>max</th>\n",
       "      <td>10.000000</td>\n",
       "      <td>10.000000</td>\n",
       "      <td>10.000000</td>\n",
       "      <td>10.000000</td>\n",
       "      <td>10.000000</td>\n",
       "      <td>10.000000</td>\n",
       "      <td>10.000000</td>\n",
       "      <td>10.000000</td>\n",
       "      <td>10.000000</td>\n",
       "      <td>10.000000</td>\n",
       "    </tr>\n",
       "  </tbody>\n",
       "</table>\n",
       "</div>"
      ],
      "text/plain": [
       "       card_merch_total_7  card_state_max_3  Merchnum_max_0  card_zip_max_3  \\\n",
       "count        96397.000000      96397.000000    96397.000000    96397.000000   \n",
       "mean            -0.012559         -0.011436       -0.010479       -0.011704   \n",
       "std              0.462480          0.773124        0.804586        0.758784   \n",
       "min             -0.168260         -0.460078       -0.496058       -0.439335   \n",
       "25%             -0.152279         -0.415510       -0.441351       -0.398720   \n",
       "50%             -0.118805         -0.288086       -0.306591       -0.281730   \n",
       "75%             -0.022069          0.055187        0.074294        0.041332   \n",
       "max             10.000000         10.000000       10.000000       10.000000   \n",
       "\n",
       "       Cardnum_total_7  merch_state_max_3  Merchnum_max_3  merch_state_max_0  \\\n",
       "count     96397.000000       96397.000000    96397.000000       96397.000000   \n",
       "mean         -0.014465          -0.010869       -0.012525          -0.010162   \n",
       "std           0.694553           0.803331        0.774909           0.814304   \n",
       "min          -0.333016          -0.539836       -0.500524          -0.502694   \n",
       "25%          -0.292189          -0.466941       -0.435896          -0.446939   \n",
       "50%          -0.195278          -0.302257       -0.287495          -0.310482   \n",
       "75%           0.025419           0.148859        0.137442           0.072962   \n",
       "max          10.000000          10.000000       10.000000          10.000000   \n",
       "\n",
       "       Merchnum_max_1  card_zip_total_7  \n",
       "count    96397.000000      96397.000000  \n",
       "mean        -0.012564         -0.012513  \n",
       "std          0.756849          0.466538  \n",
       "min         -0.475142         -0.173556  \n",
       "25%         -0.419959         -0.156246  \n",
       "50%         -0.283611         -0.120689  \n",
       "75%          0.098866         -0.020798  \n",
       "max         10.000000         10.000000  "
      ]
     },
     "execution_count": 16,
     "metadata": {},
     "output_type": "execute_result"
    }
   ],
   "source": [
    "# push in any outlier values\n",
    "cols = X.columns\n",
    "X.loc[:,cols] = X[cols].clip(upper=Clip)\n",
    "X.loc[:,cols] = X[cols].clip(lower=-1*Clip)\n",
    "# X = (X_no_scaling - X_no_scaling.mean()) / X_no_scaling.std()\n",
    "X.describe()"
   ]
  },
  {
   "cell_type": "code",
   "execution_count": 17,
   "metadata": {
    "cell_id": "00018-d9a17725-bc62-49b0-9555-65db79cbe108",
    "deepnote_cell_height": 171,
    "deepnote_cell_type": "code",
    "deepnote_to_be_reexecuted": false,
    "execution_millis": 2,
    "execution_start": 1651561735883,
    "scrolled": true,
    "source_hash": "30390fcf"
   },
   "outputs": [],
   "source": [
    "# separate data into modeling (traintest) and out of time\n",
    "oot_recnum=84300\n",
    "X_trntst = X[0:oot_recnum]\n",
    "Y_trntst = Y_save[0:oot_recnum]\n",
    "X_oot = X[oot_recnum:]\n",
    "Y_oot = Y_save[oot_recnum:]"
   ]
  },
  {
   "cell_type": "code",
   "execution_count": 18,
   "metadata": {
    "cell_id": "00019-4c8b5b96-fc82-49cc-a472-12714d10617d",
    "deepnote_cell_height": 153,
    "deepnote_cell_type": "code",
    "deepnote_to_be_reexecuted": false,
    "execution_millis": 2,
    "execution_start": 1651561737973,
    "scrolled": true,
    "source_hash": "a2406297"
   },
   "outputs": [],
   "source": [
    "niter = 0\n",
    "nitermax = 10\n",
    "FDR3 = pd.DataFrame(np.zeros((nitermax,3)), columns=('trn', 'tst', 'oot'))\n",
    "X_oot_orig = X_oot.copy()\n",
    "pd.options.mode.chained_assignment = None  # default='warn'"
   ]
  },
  {
   "cell_type": "markdown",
   "metadata": {
    "cell_id": "00020-929d81ea-cdd6-485b-9be0-0b36ad6b9b6a",
    "deepnote_cell_height": 190,
    "deepnote_cell_type": "markdown"
   },
   "source": [
    "## Models. You can comment out any of these cells and just explore one model type. You can also just rerun that single cell multiple times as you explore different model hyperparameters."
   ]
  },
  {
   "cell_type": "code",
   "execution_count": 19,
   "metadata": {
    "cell_id": "00024-f5f1cfe1-3aab-4086-a696-1f178f19b87b",
    "deepnote_cell_height": 1403,
    "deepnote_cell_type": "code",
    "deepnote_to_be_reexecuted": false,
    "execution_millis": 21068,
    "execution_start": 1651561748030,
    "scrolled": false,
    "source_hash": "1797962d"
   },
   "outputs": [
    {
     "name": "stderr",
     "output_type": "stream",
     "text": [
      "C:\\Users\\Vivia\\anaconda3\\lib\\site-packages\\sklearn\\linear_model\\_logistic.py:814: ConvergenceWarning: lbfgs failed to converge (status=1):\n",
      "STOP: TOTAL NO. of ITERATIONS REACHED LIMIT.\n",
      "\n",
      "Increase the number of iterations (max_iter) or scale the data as shown in:\n",
      "    https://scikit-learn.org/stable/modules/preprocessing.html\n",
      "Please also refer to the documentation for alternative solver options:\n",
      "    https://scikit-learn.org/stable/modules/linear_model.html#logistic-regression\n",
      "  n_iter_i = _check_optimize_result(\n"
     ]
    },
    {
     "name": "stdout",
     "output_type": "stream",
     "text": [
      "0 0.6619273301737757 0.6477732793522267 0.30726256983240224\n"
     ]
    },
    {
     "name": "stderr",
     "output_type": "stream",
     "text": [
      "C:\\Users\\Vivia\\anaconda3\\lib\\site-packages\\sklearn\\linear_model\\_logistic.py:814: ConvergenceWarning: lbfgs failed to converge (status=1):\n",
      "STOP: TOTAL NO. of ITERATIONS REACHED LIMIT.\n",
      "\n",
      "Increase the number of iterations (max_iter) or scale the data as shown in:\n",
      "    https://scikit-learn.org/stable/modules/preprocessing.html\n",
      "Please also refer to the documentation for alternative solver options:\n",
      "    https://scikit-learn.org/stable/modules/linear_model.html#logistic-regression\n",
      "  n_iter_i = _check_optimize_result(\n"
     ]
    },
    {
     "name": "stdout",
     "output_type": "stream",
     "text": [
      "1 0.6590538336052202 0.6254681647940075 0.3016759776536313\n"
     ]
    },
    {
     "name": "stderr",
     "output_type": "stream",
     "text": [
      "C:\\Users\\Vivia\\anaconda3\\lib\\site-packages\\sklearn\\linear_model\\_logistic.py:814: ConvergenceWarning: lbfgs failed to converge (status=1):\n",
      "STOP: TOTAL NO. of ITERATIONS REACHED LIMIT.\n",
      "\n",
      "Increase the number of iterations (max_iter) or scale the data as shown in:\n",
      "    https://scikit-learn.org/stable/modules/preprocessing.html\n",
      "Please also refer to the documentation for alternative solver options:\n",
      "    https://scikit-learn.org/stable/modules/linear_model.html#logistic-regression\n",
      "  n_iter_i = _check_optimize_result(\n"
     ]
    },
    {
     "name": "stdout",
     "output_type": "stream",
     "text": [
      "2 0.6628849270664505 0.6273764258555133 0.3016759776536313\n"
     ]
    },
    {
     "name": "stderr",
     "output_type": "stream",
     "text": [
      "C:\\Users\\Vivia\\anaconda3\\lib\\site-packages\\sklearn\\linear_model\\_logistic.py:814: ConvergenceWarning: lbfgs failed to converge (status=1):\n",
      "STOP: TOTAL NO. of ITERATIONS REACHED LIMIT.\n",
      "\n",
      "Increase the number of iterations (max_iter) or scale the data as shown in:\n",
      "    https://scikit-learn.org/stable/modules/preprocessing.html\n",
      "Please also refer to the documentation for alternative solver options:\n",
      "    https://scikit-learn.org/stable/modules/linear_model.html#logistic-regression\n",
      "  n_iter_i = _check_optimize_result(\n"
     ]
    },
    {
     "name": "stdout",
     "output_type": "stream",
     "text": [
      "3 0.6666666666666666 0.64 0.329608938547486\n"
     ]
    },
    {
     "name": "stderr",
     "output_type": "stream",
     "text": [
      "C:\\Users\\Vivia\\anaconda3\\lib\\site-packages\\sklearn\\linear_model\\_logistic.py:814: ConvergenceWarning: lbfgs failed to converge (status=1):\n",
      "STOP: TOTAL NO. of ITERATIONS REACHED LIMIT.\n",
      "\n",
      "Increase the number of iterations (max_iter) or scale the data as shown in:\n",
      "    https://scikit-learn.org/stable/modules/preprocessing.html\n",
      "Please also refer to the documentation for alternative solver options:\n",
      "    https://scikit-learn.org/stable/modules/linear_model.html#logistic-regression\n",
      "  n_iter_i = _check_optimize_result(\n"
     ]
    },
    {
     "name": "stdout",
     "output_type": "stream",
     "text": [
      "4 0.6579804560260586 0.650375939849624 0.3016759776536313\n",
      "5 0.6520325203252032 0.630188679245283 0.3463687150837989\n"
     ]
    },
    {
     "name": "stderr",
     "output_type": "stream",
     "text": [
      "C:\\Users\\Vivia\\anaconda3\\lib\\site-packages\\sklearn\\linear_model\\_logistic.py:814: ConvergenceWarning: lbfgs failed to converge (status=1):\n",
      "STOP: TOTAL NO. of ITERATIONS REACHED LIMIT.\n",
      "\n",
      "Increase the number of iterations (max_iter) or scale the data as shown in:\n",
      "    https://scikit-learn.org/stable/modules/preprocessing.html\n",
      "Please also refer to the documentation for alternative solver options:\n",
      "    https://scikit-learn.org/stable/modules/linear_model.html#logistic-regression\n",
      "  n_iter_i = _check_optimize_result(\n"
     ]
    },
    {
     "name": "stdout",
     "output_type": "stream",
     "text": [
      "6 0.6587677725118484 0.6275303643724697 0.29608938547486036\n"
     ]
    },
    {
     "name": "stderr",
     "output_type": "stream",
     "text": [
      "C:\\Users\\Vivia\\anaconda3\\lib\\site-packages\\sklearn\\linear_model\\_logistic.py:814: ConvergenceWarning: lbfgs failed to converge (status=1):\n",
      "STOP: TOTAL NO. of ITERATIONS REACHED LIMIT.\n",
      "\n",
      "Increase the number of iterations (max_iter) or scale the data as shown in:\n",
      "    https://scikit-learn.org/stable/modules/preprocessing.html\n",
      "Please also refer to the documentation for alternative solver options:\n",
      "    https://scikit-learn.org/stable/modules/linear_model.html#logistic-regression\n",
      "  n_iter_i = _check_optimize_result(\n"
     ]
    },
    {
     "name": "stdout",
     "output_type": "stream",
     "text": [
      "7 0.6623586429725363 0.6398467432950191 0.35195530726256985\n",
      "8 0.6548956661316212 0.6575875486381323 0.36312849162011174\n",
      "9 0.6547231270358306 0.6466165413533834 0.29608938547486036\n",
      "trn    0.659129\n",
      "tst    0.639276\n",
      "oot    0.319553\n",
      "dtype: float64\n",
      "Wall time: 3.63 s\n"
     ]
    }
   ],
   "source": [
    "%%time\n",
    "# Logistic regression\n",
    "\n",
    "for niter in range(nitermax):    \n",
    "    X_trn, X_tst, Y_trn, Y_tst = train_test_split(X_trntst, Y_trntst, test_size = .3)\n",
    "\n",
    "    model = LogisticRegression()\n",
    " \n",
    "    X_oot = X_oot_orig.copy()\n",
    "    X_trn_save = X_trn.copy()\n",
    "    Y_trn_save = Y_trn.copy()\n",
    "\n",
    "    model.fit(X_trn, Y_trn.values.ravel())   \n",
    "\n",
    "    predictions = model.predict_proba(X_trn_save)[:,1]\n",
    "    X_trn['predicted'] = predictions\n",
    "    X_trn['Fraud'] = Y_trn_save['Fraud']\n",
    "    topRows = int(round(X_trn.shape[0]*0.03))\n",
    "    temp = X_trn.sort_values('predicted',ascending=False).head(topRows)\n",
    "    needed = temp.loc[:,'Fraud']\n",
    "    FDR3.loc[niter, 'trn'] = sum(needed)/sum(X_trn.loc[:,'Fraud'])\n",
    "\n",
    "    predictions = model.predict_proba(X_tst)[:,1]\n",
    "    X_tst['predicted']=predictions\n",
    "    X_tst['Fraud'] = Y_tst['Fraud']\n",
    "    topRows = int(round(X_tst.shape[0]*0.03))\n",
    "    temp = X_tst.sort_values('predicted',ascending=False).head(topRows)\n",
    "    needed = temp.loc[:,'Fraud']\n",
    "    FDR3.loc[niter, 'tst'] = sum(needed)/sum(X_tst.loc[:,'Fraud'])\n",
    "\n",
    "    predictions = model.predict_proba(X_oot)[:,1]\n",
    "    X_oot['predicted']=predictions\n",
    "    X_oot['Fraud'] = Y_oot['Fraud']\n",
    "    topRows = int(round(X_oot.shape[0]*0.03))\n",
    "    temp = X_oot.sort_values('predicted',ascending=False).head(topRows)\n",
    "    needed = temp.loc[:,'Fraud']\n",
    "    FDR3.loc[niter, 'oot'] = sum(needed)/sum(X_oot.loc[:,'Fraud'])\n",
    "    print(niter, FDR3.loc[niter, 'trn'],FDR3.loc[niter, 'tst'],FDR3.loc[niter, 'oot'])\n",
    "    \n",
    "print(FDR3.mean())"
   ]
  },
  {
   "cell_type": "code",
   "execution_count": 20,
   "metadata": {
    "cell_id": "00026-4d6d2003-3734-49e8-9961-b91f25322aac",
    "deepnote_cell_height": 1109.125,
    "deepnote_cell_type": "code",
    "deepnote_to_be_reexecuted": false,
    "execution_millis": 13776,
    "execution_start": 1651562218507,
    "scrolled": false,
    "source_hash": "8818674e"
   },
   "outputs": [
    {
     "name": "stdout",
     "output_type": "stream",
     "text": [
      "0 1.0 0.5866141732283464 0.2849162011173184\n",
      "1 1.0 0.6218487394957983 0.2569832402234637\n",
      "2 1.0 0.6420664206642066 0.24022346368715083\n",
      "3 1.0 0.5977859778597786 0.29608938547486036\n",
      "4 1.0 0.5892857142857143 0.2849162011173184\n",
      "5 1.0 0.6045627376425855 0.2681564245810056\n",
      "6 1.0 0.6079734219269103 0.21787709497206703\n",
      "7 1.0 0.6219512195121951 0.25139664804469275\n",
      "8 1.0 0.5955056179775281 0.25139664804469275\n",
      "9 1.0 0.6130268199233716 0.22905027932960895\n",
      "trn    1.000000\n",
      "tst    0.608062\n",
      "oot    0.258101\n",
      "dtype: float64\n",
      "Wall time: 9.58 s\n"
     ]
    }
   ],
   "source": [
    "%%time\n",
    "# Single DT\n",
    "\n",
    "for niter in range(nitermax):    \n",
    "    X_trn, X_tst, Y_trn, Y_tst = train_test_split(X_trntst, Y_trntst, test_size = .3)\n",
    "\n",
    "    model = DecisionTreeClassifier()\n",
    " \n",
    "    X_oot = X_oot_orig.copy()\n",
    "    X_trn_save = X_trn.copy()\n",
    "    Y_trn_save = Y_trn.copy()\n",
    "\n",
    "    model.fit(X_trn, Y_trn.values.ravel())   \n",
    "\n",
    "    predictions = model.predict_proba(X_trn_save)[:,1]\n",
    "    X_trn['predicted'] = predictions\n",
    "    X_trn['Fraud'] = Y_trn_save['Fraud']\n",
    "    topRows = int(round(X_trn.shape[0]*0.03))\n",
    "    temp = X_trn.sort_values('predicted',ascending=False).head(topRows)\n",
    "    needed = temp.loc[:,'Fraud']\n",
    "    FDR3.loc[niter, 'trn'] = sum(needed)/sum(X_trn.loc[:,'Fraud'])\n",
    "\n",
    "    predictions = model.predict_proba(X_tst)[:,1]\n",
    "    X_tst['predicted']=predictions\n",
    "    X_tst['Fraud'] = Y_tst['Fraud']\n",
    "    topRows = int(round(X_tst.shape[0]*0.03))\n",
    "    temp = X_tst.sort_values('predicted',ascending=False).head(topRows)\n",
    "    needed = temp.loc[:,'Fraud']\n",
    "    FDR3.loc[niter, 'tst'] = sum(needed)/sum(X_tst.loc[:,'Fraud'])\n",
    "\n",
    "    predictions = model.predict_proba(X_oot)[:,1]\n",
    "    X_oot['predicted']=predictions\n",
    "    X_oot['Fraud'] = Y_oot['Fraud']\n",
    "    topRows = int(round(X_oot.shape[0]*0.03))\n",
    "    temp = X_oot.sort_values('predicted',ascending=False).head(topRows)\n",
    "    needed = temp.loc[:,'Fraud']\n",
    "    FDR3.loc[niter, 'oot'] = sum(needed)/sum(X_oot.loc[:,'Fraud'])\n",
    "    print(niter, FDR3.loc[niter, 'trn'],FDR3.loc[niter, 'tst'],FDR3.loc[niter, 'oot'])\n",
    "    \n",
    "print(FDR3.mean())"
   ]
  },
  {
   "cell_type": "code",
   "execution_count": 21,
   "metadata": {
    "cell_id": "00027-fa14a153-b0c9-48ee-a10f-2be5c9ea2208",
    "deepnote_cell_height": 1109.125,
    "deepnote_cell_type": "code",
    "deepnote_to_be_reexecuted": false,
    "execution_millis": 55106,
    "execution_start": 1651567426618,
    "source_hash": "35bfe6df"
   },
   "outputs": [
    {
     "name": "stdout",
     "output_type": "stream",
     "text": [
      "0 0.7619834710743801 0.7454545454545455 0.4245810055865922\n",
      "1 0.756578947368421 0.7022058823529411 0.4972067039106145\n",
      "2 0.74481658692185 0.7509881422924901 0.441340782122905\n",
      "3 0.7710651828298887 0.7609561752988048 0.4245810055865922\n",
      "4 0.7623604465709729 0.7707509881422925 0.4022346368715084\n",
      "5 0.768595041322314 0.7054545454545454 0.4245810055865922\n",
      "6 0.7745571658615137 0.7451737451737451 0.4134078212290503\n",
      "7 0.7601957585644372 0.7340823970037453 0.39664804469273746\n",
      "8 0.7917355371900826 0.7272727272727273 0.41899441340782123\n",
      "9 0.7743506493506493 0.7045454545454546 0.4301675977653631\n",
      "trn    0.766624\n",
      "tst    0.734688\n",
      "oot    0.427374\n",
      "dtype: float64\n",
      "Wall time: 56.4 s\n"
     ]
    }
   ],
   "source": [
    "%%time\n",
    "# RF\n",
    "\n",
    "for niter in range(nitermax):    \n",
    "    X_trn, X_tst, Y_trn, Y_tst = train_test_split(X_trntst, Y_trntst, test_size = .3)\n",
    "\n",
    "    model = RandomForestClassifier(max_depth = 5,min_samples_leaf=50, min_samples_split= 60,\\\n",
    "                                    n_estimators=60, criterion='entropy')\n",
    "    X_oot = X_oot_orig.copy()\n",
    "    X_trn_save = X_trn.copy()\n",
    "    Y_trn_save = Y_trn.copy()\n",
    "\n",
    "    model.fit(X_trn, Y_trn.values.ravel())   \n",
    "\n",
    "    predictions = model.predict_proba(X_trn_save)[:,1]\n",
    "    X_trn['predicted'] = predictions\n",
    "    X_trn['Fraud'] = Y_trn_save['Fraud']\n",
    "    topRows = int(round(X_trn.shape[0]*0.03))\n",
    "    temp = X_trn.sort_values('predicted',ascending=False).head(topRows)\n",
    "    needed = temp.loc[:,'Fraud']\n",
    "    FDR3.loc[niter, 'trn'] = sum(needed)/sum(X_trn.loc[:,'Fraud'])\n",
    "\n",
    "    predictions = model.predict_proba(X_tst)[:,1]\n",
    "    X_tst['predicted']=predictions\n",
    "    X_tst['Fraud'] = Y_tst['Fraud']\n",
    "    topRows = int(round(X_tst.shape[0]*0.03))\n",
    "    temp = X_tst.sort_values('predicted',ascending=False).head(topRows)\n",
    "    needed = temp.loc[:,'Fraud']\n",
    "    FDR3.loc[niter, 'tst'] = sum(needed)/sum(X_tst.loc[:,'Fraud'])\n",
    "\n",
    "    predictions = model.predict_proba(X_oot)[:,1]\n",
    "    X_oot['predicted']=predictions\n",
    "    X_oot['Fraud'] = Y_oot['Fraud']\n",
    "    topRows = int(round(X_oot.shape[0]*0.03))\n",
    "    temp = X_oot.sort_values('predicted',ascending=False).head(topRows)\n",
    "    needed = temp.loc[:,'Fraud']\n",
    "    FDR3.loc[niter, 'oot'] = sum(needed)/sum(X_oot.loc[:,'Fraud'])\n",
    "    print(niter, FDR3.loc[niter, 'trn'],FDR3.loc[niter, 'tst'],FDR3.loc[niter, 'oot'])\n",
    "    \n",
    "print(FDR3.mean())"
   ]
  },
  {
   "cell_type": "code",
   "execution_count": 22,
   "metadata": {
    "cell_id": "00028-a9058cc6-2e67-4259-9b69-c75f1343a1ee",
    "deepnote_cell_height": 1109.125,
    "deepnote_cell_type": "code",
    "deepnote_to_be_reexecuted": false,
    "execution_millis": 30159,
    "execution_start": 1651568027147,
    "scrolled": true,
    "source_hash": "6facad00"
   },
   "outputs": [
    {
     "name": "stdout",
     "output_type": "stream",
     "text": [
      "0 0.7935483870967742 0.7615384615384615 0.45251396648044695\n",
      "1 0.7913907284768212 0.7463768115942029 0.44692737430167595\n",
      "2 0.7931596091205212 0.7593984962406015 0.4860335195530726\n",
      "3 0.8141447368421053 0.7426470588235294 0.441340782122905\n",
      "4 0.8 0.7407407407407407 0.49162011173184356\n",
      "5 0.7816091954022989 0.6974169741697417 0.45251396648044695\n",
      "6 0.7996794871794872 0.7109375 0.4860335195530726\n",
      "7 0.7721518987341772 0.7459677419354839 0.49162011173184356\n",
      "8 0.8 0.7672727272727272 0.5027932960893855\n",
      "9 0.7873376623376623 0.7575757575757576 0.4581005586592179\n",
      "trn    0.793302\n",
      "tst    0.742987\n",
      "oot    0.470950\n",
      "dtype: float64\n",
      "Wall time: 16.9 s\n"
     ]
    }
   ],
   "source": [
    "%%time\n",
    "# BT\n",
    "\n",
    "for niter in range(nitermax):    \n",
    "    X_trn, X_tst, Y_trn, Y_tst = train_test_split(X_trntst, Y_trntst, test_size = .3)\n",
    "\n",
    "    model = lgb.LGBMClassifier(n_estimators=400, max_depth=4,learning_rate=0.004, num_leaves=50, subsample=0.7)\n",
    "\n",
    "    X_oot = X_oot_orig.copy()\n",
    "    X_trn_save = X_trn.copy()\n",
    "    Y_trn_save = Y_trn.copy()\n",
    "\n",
    "    model.fit(X_trn, Y_trn.values.ravel())   \n",
    "\n",
    "    predictions = model.predict_proba(X_trn_save)[:,1]\n",
    "    X_trn['predicted'] = predictions\n",
    "    X_trn['Fraud'] = Y_trn_save['Fraud']\n",
    "    topRows = int(round(X_trn.shape[0]*0.03))\n",
    "    temp = X_trn.sort_values('predicted',ascending=False).head(topRows)\n",
    "    needed = temp.loc[:,'Fraud']\n",
    "    FDR3.loc[niter, 'trn'] = sum(needed)/sum(X_trn.loc[:,'Fraud'])\n",
    "\n",
    "    predictions = model.predict_proba(X_tst)[:,1]\n",
    "    X_tst['predicted']=predictions\n",
    "    X_tst['Fraud'] = Y_tst['Fraud']\n",
    "    topRows = int(round(X_tst.shape[0]*0.03))\n",
    "    temp = X_tst.sort_values('predicted',ascending=False).head(topRows)\n",
    "    needed = temp.loc[:,'Fraud']\n",
    "    FDR3.loc[niter, 'tst'] = sum(needed)/sum(X_tst.loc[:,'Fraud'])\n",
    "\n",
    "    predictions = model.predict_proba(X_oot)[:,1]\n",
    "    X_oot['predicted']=predictions\n",
    "    X_oot['Fraud'] = Y_oot['Fraud']\n",
    "    topRows = int(round(X_oot.shape[0]*0.03))\n",
    "    temp = X_oot.sort_values('predicted',ascending=False).head(topRows)\n",
    "    needed = temp.loc[:,'Fraud']\n",
    "    FDR3.loc[niter, 'oot'] = sum(needed)/sum(X_oot.loc[:,'Fraud'])\n",
    "    print(niter, FDR3.loc[niter, 'trn'],FDR3.loc[niter, 'tst'],FDR3.loc[niter, 'oot'])\n",
    "    \n",
    "print(FDR3.mean())"
   ]
  },
  {
   "cell_type": "code",
   "execution_count": null,
   "metadata": {
    "cell_id": "00029-0cfad809-728a-4744-b5e5-8c956cb0b6bb",
    "deepnote_cell_height": 1127.125,
    "deepnote_cell_type": "code",
    "deepnote_to_be_reexecuted": false,
    "execution_millis": 60094,
    "execution_start": 1651562238838,
    "scrolled": true,
    "source_hash": "12dad330"
   },
   "outputs": [
    {
     "name": "stdout",
     "output_type": "stream",
     "text": [
      "0 0.7516233766233766 0.7272727272727273 0.5698324022346368\n",
      "1 0.6836065573770492 0.6037037037037037 0.4692737430167598\n",
      "2 0.6788553259141494 0.6613545816733067 0.5921787709497207\n",
      "3 0.7072784810126582 0.7096774193548387 0.6201117318435754\n",
      "4 0.7131147540983607 0.6851851851851852 0.5754189944134078\n",
      "5 0.7100313479623824 0.6570247933884298 0.5586592178770949\n",
      "6 0.6968253968253968 0.724 0.5754189944134078\n",
      "7 0.6816 0.7058823529411765 0.5921787709497207\n",
      "8 0.7082658022690438 0.688212927756654 0.5418994413407822\n",
      "9 0.7013201320132013 0.6970802919708029 0.5642458100558659\n",
      "trn    0.703252\n",
      "tst    0.685939\n",
      "oot    0.565922\n",
      "dtype: float64\n",
      "CPU times: user 59.7 s, sys: 933 ms, total: 1min\n",
      "Wall time: 1min\n"
     ]
    }
   ],
   "source": [
    "%%time\n",
    "# NN\n",
    "\n",
    "for niter in range(nitermax):  \n",
    "    X_trn, X_tst, Y_trn, Y_tst = train_test_split(X_trntst, Y_trntst, test_size = .3)\n",
    "\n",
    "    model = MLPClassifier(hidden_layer_sizes=(10,10),learning_rate_init=0.02,solver='adam', activation='relu',alpha=0.002,\\\n",
    "                      learning_rate='constant')\n",
    "\n",
    "    X_oot = X_oot_orig.copy()\n",
    "    X_trn_save = X_trn.copy()\n",
    "    Y_trn_save = Y_trn.copy()\n",
    "\n",
    "    model.fit(X_trn, Y_trn.values.ravel())   \n",
    "\n",
    "    predictions = model.predict_proba(X_trn_save)[:,1]\n",
    "    X_trn['predicted'] = predictions\n",
    "    X_trn['Fraud'] = Y_trn_save['Fraud']\n",
    "    topRows = int(round(X_trn.shape[0]*0.03))\n",
    "    temp = X_trn.sort_values('predicted',ascending=False).head(topRows)\n",
    "    needed = temp.loc[:,'Fraud']\n",
    "    FDR3.loc[niter, 'trn'] = sum(needed)/sum(X_trn.loc[:,'Fraud'])\n",
    "\n",
    "    predictions = model.predict_proba(X_tst)[:,1]\n",
    "    X_tst['predicted']=predictions\n",
    "    X_tst['Fraud'] = Y_tst['Fraud']\n",
    "    topRows = int(round(X_tst.shape[0]*0.03))\n",
    "    temp = X_tst.sort_values('predicted',ascending=False).head(topRows)\n",
    "    needed = temp.loc[:,'Fraud']\n",
    "    FDR3.loc[niter, 'tst'] = sum(needed)/sum(X_tst.loc[:,'Fraud'])\n",
    "\n",
    "    predictions = model.predict_proba(X_oot)[:,1]\n",
    "    X_oot['predicted']=predictions\n",
    "    X_oot['Fraud'] = Y_oot['Fraud']\n",
    "    topRows = int(round(X_oot.shape[0]*0.03))\n",
    "    temp = X_oot.sort_values('predicted',ascending=False).head(topRows)\n",
    "    needed = temp.loc[:,'Fraud']\n",
    "    FDR3.loc[niter, 'oot'] = sum(needed)/sum(X_oot.loc[:,'Fraud'])\n",
    "    print(niter, FDR3.loc[niter, 'trn'],FDR3.loc[niter, 'tst'],FDR3.loc[niter, 'oot'])\n",
    "    \n",
    "print(FDR3.mean())"
   ]
  },
  {
   "cell_type": "code",
   "execution_count": null,
   "metadata": {
    "cell_id": "00030-0b865cdf-0f92-456d-b445-2f8738ee5579",
    "deepnote_cell_height": 111.6875,
    "deepnote_cell_type": "code",
    "deepnote_to_be_reexecuted": false,
    "execution_millis": 5,
    "execution_start": 1651562315354,
    "source_hash": "b3f397d8"
   },
   "outputs": [
    {
     "name": "stdout",
     "output_type": "stream",
     "text": [
      "duration:  0:10:21.504474\n"
     ]
    }
   ],
   "source": [
    "print('duration: ', datetime.now() - start_time)"
   ]
  },
  {
   "cell_type": "markdown",
   "metadata": {
    "cell_id": "00031-179d57c2-39dd-4a29-87c9-23e326bc0942",
    "deepnote_cell_height": 230,
    "deepnote_cell_type": "markdown"
   },
   "source": [
    "## The rest of the notebook makes the tables for your final model of choice. You need to run that final model only once (no CV). If you want you can run the below cell over and over by itself until it gives you a model you like. But you can't change from your best hyperparameters."
   ]
  },
  {
   "cell_type": "code",
   "execution_count": null,
   "metadata": {
    "cell_id": "00032-94b4e750-6e82-49a1-8e02-38d8e998a8a9",
    "deepnote_cell_height": 759.6875,
    "deepnote_cell_type": "code",
    "deepnote_to_be_reexecuted": false,
    "execution_millis": 7809,
    "execution_start": 1651562466283,
    "source_hash": "67fbacbd"
   },
   "outputs": [
    {
     "name": "stdout",
     "output_type": "stream",
     "text": [
      "9 0.7189542483660131 0.7126865671641791 0.6089385474860335\n"
     ]
    }
   ],
   "source": [
    "X_trn, X_tst, Y_trn, Y_tst = train_test_split(X_trntst, Y_trntst, test_size = .3)\n",
    "\n",
    "# here's where you put your final model of choice\n",
    "# model = lgb.LGBMClassifier()\n",
    "model = MLPClassifier(hidden_layer_sizes=(10,10),learning_rate_init=0.02,solver='adam', activation='relu',alpha=0.002,\\\n",
    "                      )\n",
    "\n",
    "X_oot = X_oot_orig.copy()\n",
    "X_trn_save = X_trn.copy()\n",
    "Y_trn_save = Y_trn.copy()\n",
    "\n",
    "model.fit(X_trn, Y_trn.values.ravel())   \n",
    "\n",
    "predictions = model.predict_proba(X_trn_save)[:,1]\n",
    "X_trn['predicted'] = predictions\n",
    "X_trn['Fraud'] = Y_trn_save['Fraud']\n",
    "topRows = int(round(X_trn.shape[0]*0.03))\n",
    "temp = X_trn.sort_values('predicted',ascending=False).head(topRows)\n",
    "needed = temp.loc[:,'Fraud']\n",
    "FDR3.loc[niter, 'trn'] = sum(needed)/sum(X_trn.loc[:,'Fraud'])\n",
    "\n",
    "predictions = model.predict_proba(X_tst)[:,1]\n",
    "X_tst['predicted']=predictions\n",
    "X_tst['Fraud'] = Y_tst['Fraud']\n",
    "topRows = int(round(X_tst.shape[0]*0.03))\n",
    "temp = X_tst.sort_values('predicted',ascending=False).head(topRows)\n",
    "needed = temp.loc[:,'Fraud']\n",
    "FDR3.loc[niter, 'tst'] = sum(needed)/sum(X_tst.loc[:,'Fraud'])\n",
    "\n",
    "predictions = model.predict_proba(X_oot)[:,1]\n",
    "X_oot['predicted']=predictions\n",
    "X_oot['Fraud'] = Y_oot['Fraud']\n",
    "topRows = int(round(X_oot.shape[0]*0.03))\n",
    "temp = X_oot.sort_values('predicted',ascending=False).head(topRows)\n",
    "needed = temp.loc[:,'Fraud']\n",
    "FDR3.loc[niter, 'oot'] = sum(needed)/sum(X_oot.loc[:,'Fraud'])\n",
    "print(niter, FDR3.loc[niter, 'trn'],FDR3.loc[niter, 'tst'],FDR3.loc[niter, 'oot'])"
   ]
  },
  {
   "cell_type": "code",
   "execution_count": null,
   "metadata": {
    "cell_id": "00033-83e5d743-773e-41f7-9e5c-28633ae4c59a",
    "deepnote_cell_height": 117,
    "deepnote_cell_type": "code",
    "deepnote_to_be_reexecuted": false,
    "execution_millis": 0,
    "execution_start": 1651562524779,
    "source_hash": "bd36babd"
   },
   "outputs": [],
   "source": [
    "X_trn_eval = X_trn.copy()\n",
    "X_tst_eval = X_tst.copy()\n",
    "X_oot_eval = X_oot.copy()"
   ]
  },
  {
   "cell_type": "code",
   "execution_count": null,
   "metadata": {
    "cell_id": "00034-c6b4aeaf-a80f-4e52-889c-2241bc9be0dc",
    "deepnote_cell_height": 888,
    "deepnote_cell_type": "code",
    "deepnote_to_be_reexecuted": false,
    "execution_millis": 202,
    "execution_start": 1651562534503,
    "source_hash": "1047446a"
   },
   "outputs": [
    {
     "data": {
      "application/vnd.deepnote.dataframe.v3+json": {
       "column_count": 12,
       "columns": [
        {
         "dtype": "float64",
         "name": "card_merch_total_7",
         "stats": {
          "histogram": [
           {
            "bin_end": 4.112260358022903,
            "bin_start": 3.4646559156240833,
            "count": 1
           },
           {
            "bin_end": 4.759864800421723,
            "bin_start": 4.112260358022903,
            "count": 1
           },
           {
            "bin_end": 5.407469242820543,
            "bin_start": 4.759864800421723,
            "count": 4
           },
           {
            "bin_end": 6.055073685219362,
            "bin_start": 5.407469242820543,
            "count": 3
           },
           {
            "bin_end": 6.7026781276181815,
            "bin_start": 6.055073685219362,
            "count": 3
           },
           {
            "bin_end": 7.3502825700170025,
            "bin_start": 6.7026781276181815,
            "count": 3
           },
           {
            "bin_end": 7.997887012415822,
            "bin_start": 7.3502825700170025,
            "count": 0
           },
           {
            "bin_end": 8.64549145481464,
            "bin_start": 7.997887012415822,
            "count": 0
           },
           {
            "bin_end": 9.293095897213462,
            "bin_start": 8.64549145481464,
            "count": 1
           },
           {
            "bin_end": 9.940700339612281,
            "bin_start": 9.293095897213462,
            "count": 4
           }
          ],
          "max": "9.940700339612281",
          "min": "3.4646559156240833",
          "nan_count": 0,
          "unique_count": 20
         }
        },
        {
         "dtype": "float64",
         "name": "card_state_max_3",
         "stats": {
          "histogram": [
           {
            "bin_end": 2.4449732233157,
            "bin_start": 1.8943456053775476,
            "count": 1
           },
           {
            "bin_end": 2.9956008412538533,
            "bin_start": 2.4449732233157,
            "count": 14
           },
           {
            "bin_end": 3.5462284591920064,
            "bin_start": 2.9956008412538533,
            "count": 0
           },
           {
            "bin_end": 4.096856077130159,
            "bin_start": 3.5462284591920064,
            "count": 0
           },
           {
            "bin_end": 4.647483695068312,
            "bin_start": 4.096856077130159,
            "count": 0
           },
           {
            "bin_end": 5.198111313006464,
            "bin_start": 4.647483695068312,
            "count": 0
           },
           {
            "bin_end": 5.748738930944618,
            "bin_start": 5.198111313006464,
            "count": 0
           },
           {
            "bin_end": 6.29936654888277,
            "bin_start": 5.748738930944618,
            "count": 0
           },
           {
            "bin_end": 6.849994166820923,
            "bin_start": 6.29936654888277,
            "count": 0
           },
           {
            "bin_end": 7.400621784759076,
            "bin_start": 6.849994166820923,
            "count": 5
           }
          ],
          "max": "7.400621784759076",
          "min": "1.8943456053775476",
          "nan_count": 0,
          "unique_count": 3
         }
        },
        {
         "dtype": "float64",
         "name": "Merchnum_max_0",
         "stats": {
          "histogram": [
           {
            "bin_end": 0.4770998072126267,
            "bin_start": -0.30593387416075735,
            "count": 2
           },
           {
            "bin_end": 1.2601334885860107,
            "bin_start": 0.4770998072126267,
            "count": 2
           },
           {
            "bin_end": 2.0431671699593945,
            "bin_start": 1.2601334885860107,
            "count": 7
           },
           {
            "bin_end": 2.8262008513327785,
            "bin_start": 2.0431671699593945,
            "count": 0
           },
           {
            "bin_end": 3.6092345327061626,
            "bin_start": 2.8262008513327785,
            "count": 4
           },
           {
            "bin_end": 4.392268214079547,
            "bin_start": 3.6092345327061626,
            "count": 0
           },
           {
            "bin_end": 5.175301895452931,
            "bin_start": 4.392268214079547,
            "count": 0
           },
           {
            "bin_end": 5.958335576826315,
            "bin_start": 5.175301895452931,
            "count": 0
           },
           {
            "bin_end": 6.741369258199699,
            "bin_start": 5.958335576826315,
            "count": 0
           },
           {
            "bin_end": 7.524402939573083,
            "bin_start": 6.741369258199699,
            "count": 5
           }
          ],
          "max": "7.524402939573083",
          "min": "-0.30593387416075735",
          "nan_count": 0,
          "unique_count": 7
         }
        },
        {
         "dtype": "float64",
         "name": "card_zip_max_3",
         "stats": {
          "histogram": [
           {
            "bin_end": 2.5694642430489716,
            "bin_start": 1.9991720752870403,
            "count": 1
           },
           {
            "bin_end": 3.139756410810903,
            "bin_start": 2.5694642430489716,
            "count": 14
           },
           {
            "bin_end": 3.710048578572834,
            "bin_start": 3.139756410810903,
            "count": 0
           },
           {
            "bin_end": 4.280340746334765,
            "bin_start": 3.710048578572834,
            "count": 0
           },
           {
            "bin_end": 4.850632914096696,
            "bin_start": 4.280340746334765,
            "count": 0
           },
           {
            "bin_end": 5.420925081858628,
            "bin_start": 4.850632914096696,
            "count": 0
           },
           {
            "bin_end": 5.99121724962056,
            "bin_start": 5.420925081858628,
            "count": 0
           },
           {
            "bin_end": 6.56150941738249,
            "bin_start": 5.99121724962056,
            "count": 0
           },
           {
            "bin_end": 7.131801585144421,
            "bin_start": 6.56150941738249,
            "count": 0
           },
           {
            "bin_end": 7.702093752906353,
            "bin_start": 7.131801585144421,
            "count": 5
           }
          ],
          "max": "7.702093752906353",
          "min": "1.9991720752870403",
          "nan_count": 0,
          "unique_count": 3
         }
        },
        {
         "dtype": "float64",
         "name": "Cardnum_total_7",
         "stats": {
          "histogram": [
           {
            "bin_end": 2.121089630157151,
            "bin_start": 1.7498026723240652,
            "count": 1
           },
           {
            "bin_end": 2.492376587990236,
            "bin_start": 2.121089630157151,
            "count": 1
           },
           {
            "bin_end": 2.8636635458233215,
            "bin_start": 2.492376587990236,
            "count": 4
           },
           {
            "bin_end": 3.2349505036564072,
            "bin_start": 2.8636635458233215,
            "count": 3
           },
           {
            "bin_end": 3.606237461489493,
            "bin_start": 3.2349505036564072,
            "count": 3
           },
           {
            "bin_end": 3.9775244193225783,
            "bin_start": 3.606237461489493,
            "count": 3
           },
           {
            "bin_end": 4.3488113771556645,
            "bin_start": 3.9775244193225783,
            "count": 0
           },
           {
            "bin_end": 4.72009833498875,
            "bin_start": 4.3488113771556645,
            "count": 0
           },
           {
            "bin_end": 5.091385292821835,
            "bin_start": 4.72009833498875,
            "count": 1
           },
           {
            "bin_end": 5.46267225065492,
            "bin_start": 5.091385292821835,
            "count": 4
           }
          ],
          "max": "5.46267225065492",
          "min": "1.7498026723240652",
          "nan_count": 0,
          "unique_count": 20
         }
        },
        {
         "dtype": "float64",
         "name": "merch_state_max_3",
         "stats": {
          "histogram": [
           {
            "bin_end": 1.9295771986383143,
            "bin_start": 1.4615211618343205,
            "count": 1
           },
           {
            "bin_end": 2.397633235442308,
            "bin_start": 1.9295771986383143,
            "count": 14
           },
           {
            "bin_end": 2.8656892722463017,
            "bin_start": 2.397633235442308,
            "count": 0
           },
           {
            "bin_end": 3.3337453090502955,
            "bin_start": 2.8656892722463017,
            "count": 0
           },
           {
            "bin_end": 3.8018013458542894,
            "bin_start": 3.3337453090502955,
            "count": 0
           },
           {
            "bin_end": 4.269857382658283,
            "bin_start": 3.8018013458542894,
            "count": 0
           },
           {
            "bin_end": 4.737913419462277,
            "bin_start": 4.269857382658283,
            "count": 0
           },
           {
            "bin_end": 5.205969456266271,
            "bin_start": 4.737913419462277,
            "count": 0
           },
           {
            "bin_end": 5.674025493070264,
            "bin_start": 5.205969456266271,
            "count": 0
           },
           {
            "bin_end": 6.142081529874258,
            "bin_start": 5.674025493070264,
            "count": 5
           }
          ],
          "max": "6.142081529874258",
          "min": "1.4615211618343205",
          "nan_count": 0,
          "unique_count": 3
         }
        },
        {
         "dtype": "float64",
         "name": "Merchnum_max_3",
         "stats": {
          "histogram": [
           {
            "bin_end": 1.6768163391805482,
            "bin_start": 1.2641201171977585,
            "count": 1
           },
           {
            "bin_end": 2.089512561163338,
            "bin_start": 1.6768163391805482,
            "count": 14
           },
           {
            "bin_end": 2.502208783146128,
            "bin_start": 2.089512561163338,
            "count": 0
           },
           {
            "bin_end": 2.914905005128918,
            "bin_start": 2.502208783146128,
            "count": 0
           },
           {
            "bin_end": 3.3276012271117077,
            "bin_start": 2.914905005128918,
            "count": 0
           },
           {
            "bin_end": 3.7402974490944967,
            "bin_start": 3.3276012271117077,
            "count": 0
           },
           {
            "bin_end": 4.152993671077287,
            "bin_start": 3.7402974490944967,
            "count": 0
           },
           {
            "bin_end": 4.565689893060076,
            "bin_start": 4.152993671077287,
            "count": 0
           },
           {
            "bin_end": 4.978386115042866,
            "bin_start": 4.565689893060076,
            "count": 0
           },
           {
            "bin_end": 5.391082337025656,
            "bin_start": 4.978386115042866,
            "count": 5
           }
          ],
          "max": "5.391082337025656",
          "min": "1.2641201171977585",
          "nan_count": 0,
          "unique_count": 3
         }
        },
        {
         "dtype": "float64",
         "name": "merch_state_max_0",
         "stats": {
          "histogram": [
           {
            "bin_end": 0.5051361577521183,
            "bin_start": -0.30579627815268046,
            "count": 2
           },
           {
            "bin_end": 1.316068593656917,
            "bin_start": 0.5051361577521183,
            "count": 2
           },
           {
            "bin_end": 2.1270010295617157,
            "bin_start": 1.316068593656917,
            "count": 7
           },
           {
            "bin_end": 2.9379334654665143,
            "bin_start": 2.1270010295617157,
            "count": 0
           },
           {
            "bin_end": 3.748865901371313,
            "bin_start": 2.9379334654665143,
            "count": 4
           },
           {
            "bin_end": 4.559798337276112,
            "bin_start": 3.748865901371313,
            "count": 0
           },
           {
            "bin_end": 5.37073077318091,
            "bin_start": 4.559798337276112,
            "count": 0
           },
           {
            "bin_end": 6.181663209085709,
            "bin_start": 5.37073077318091,
            "count": 0
           },
           {
            "bin_end": 6.992595644990508,
            "bin_start": 6.181663209085709,
            "count": 0
           },
           {
            "bin_end": 7.803528080895306,
            "bin_start": 6.992595644990508,
            "count": 5
           }
          ],
          "max": "7.803528080895306",
          "min": "-0.30579627815268046",
          "nan_count": 0,
          "unique_count": 7
         }
        },
        {
         "dtype": "float64",
         "name": "Merchnum_max_1",
         "stats": {
          "histogram": [
           {
            "bin_end": 1.9136572333255408,
            "bin_start": 1.4608808539728213,
            "count": 1
           },
           {
            "bin_end": 2.36643361267826,
            "bin_start": 1.9136572333255408,
            "count": 14
           },
           {
            "bin_end": 2.8192099920309794,
            "bin_start": 2.36643361267826,
            "count": 0
           },
           {
            "bin_end": 3.271986371383699,
            "bin_start": 2.8192099920309794,
            "count": 0
           },
           {
            "bin_end": 3.7247627507364185,
            "bin_start": 3.271986371383699,
            "count": 0
           },
           {
            "bin_end": 4.177539130089137,
            "bin_start": 3.7247627507364185,
            "count": 0
           },
           {
            "bin_end": 4.630315509441857,
            "bin_start": 4.177539130089137,
            "count": 0
           },
           {
            "bin_end": 5.083091888794577,
            "bin_start": 4.630315509441857,
            "count": 0
           },
           {
            "bin_end": 5.535868268147295,
            "bin_start": 5.083091888794577,
            "count": 0
           },
           {
            "bin_end": 5.988644647500015,
            "bin_start": 5.535868268147295,
            "count": 5
           }
          ],
          "max": "5.988644647500015",
          "min": "1.4608808539728213",
          "nan_count": 0,
          "unique_count": 3
         }
        },
        {
         "dtype": "float64",
         "name": "card_zip_total_7",
         "stats": {
          "histogram": [
           {
            "bin_end": 4.098170632693877,
            "bin_start": 3.451896633957254,
            "count": 1
           },
           {
            "bin_end": 4.7444446314305,
            "bin_start": 4.098170632693877,
            "count": 1
           },
           {
            "bin_end": 5.3907186301671235,
            "bin_start": 4.7444446314305,
            "count": 4
           },
           {
            "bin_end": 6.0369926289037465,
            "bin_start": 5.3907186301671235,
            "count": 3
           },
           {
            "bin_end": 6.68326662764037,
            "bin_start": 6.0369926289037465,
            "count": 3
           },
           {
            "bin_end": 7.329540626376993,
            "bin_start": 6.68326662764037,
            "count": 3
           },
           {
            "bin_end": 7.975814625113616,
            "bin_start": 7.329540626376993,
            "count": 0
           },
           {
            "bin_end": 8.622088623850239,
            "bin_start": 7.975814625113616,
            "count": 0
           },
           {
            "bin_end": 9.268362622586862,
            "bin_start": 8.622088623850239,
            "count": 1
           },
           {
            "bin_end": 9.914636621323485,
            "bin_start": 9.268362622586862,
            "count": 4
           }
          ],
          "max": "9.914636621323485",
          "min": "3.451896633957254",
          "nan_count": 0,
          "unique_count": 20
         }
        },
        {
         "dtype": "float64",
         "name": "predicted",
         "stats": {
          "histogram": [
           {
            "bin_end": 0.65958902243979,
            "bin_start": 0.6277269221422653,
            "count": 2
           },
           {
            "bin_end": 0.6914511227373147,
            "bin_start": 0.65958902243979,
            "count": 0
           },
           {
            "bin_end": 0.7233132230348394,
            "bin_start": 0.6914511227373147,
            "count": 0
           },
           {
            "bin_end": 0.7551753233323639,
            "bin_start": 0.7233132230348394,
            "count": 0
           },
           {
            "bin_end": 0.7870374236298887,
            "bin_start": 0.7551753233323639,
            "count": 2
           },
           {
            "bin_end": 0.8188995239274133,
            "bin_start": 0.7870374236298887,
            "count": 1
           },
           {
            "bin_end": 0.850761624224938,
            "bin_start": 0.8188995239274133,
            "count": 0
           },
           {
            "bin_end": 0.8826237245224626,
            "bin_start": 0.850761624224938,
            "count": 4
           },
           {
            "bin_end": 0.9144858248199873,
            "bin_start": 0.8826237245224626,
            "count": 5
           },
           {
            "bin_end": 0.946347925117512,
            "bin_start": 0.9144858248199873,
            "count": 6
           }
          ],
          "max": "0.946347925117512",
          "min": "0.6277269221422653",
          "nan_count": 0,
          "unique_count": 20
         }
        },
        {
         "dtype": "int64",
         "name": "Fraud",
         "stats": {
          "histogram": [
           {
            "bin_end": 0.1,
            "bin_start": 0,
            "count": 1
           },
           {
            "bin_end": 0.2,
            "bin_start": 0.1,
            "count": 0
           },
           {
            "bin_end": 0.30000000000000004,
            "bin_start": 0.2,
            "count": 0
           },
           {
            "bin_end": 0.4,
            "bin_start": 0.30000000000000004,
            "count": 0
           },
           {
            "bin_end": 0.5,
            "bin_start": 0.4,
            "count": 0
           },
           {
            "bin_end": 0.6000000000000001,
            "bin_start": 0.5,
            "count": 0
           },
           {
            "bin_end": 0.7000000000000001,
            "bin_start": 0.6000000000000001,
            "count": 0
           },
           {
            "bin_end": 0.8,
            "bin_start": 0.7000000000000001,
            "count": 0
           },
           {
            "bin_end": 0.9,
            "bin_start": 0.8,
            "count": 0
           },
           {
            "bin_end": 1,
            "bin_start": 0.9,
            "count": 19
           }
          ],
          "max": "1",
          "min": "0",
          "nan_count": 0,
          "unique_count": 2
         }
        },
        {
         "dtype": "int64",
         "name": "_deepnote_index_column"
        }
       ],
       "row_count": 20,
       "rows": [
        {
         "Cardnum_total_7": 3.9216945732609543,
         "Fraud": 1,
         "Merchnum_max_0": 1.5333945960173094,
         "Merchnum_max_1": 2.3450507983770836,
         "Merchnum_max_3": 2.0700225721094245,
         "_deepnote_index_column": 89129,
         "card_merch_total_7": 7.2529032908229185,
         "card_state_max_3": 2.9695969050054507,
         "card_zip_max_3": 3.1128237966623873,
         "card_zip_total_7": 7.232361403940324,
         "merch_state_max_0": 1.5990657376605335,
         "merch_state_max_3": 2.3755288241392445,
         "predicted": 0.946347925117512
        },
        {
         "Cardnum_total_7": 3.8691570366538652,
         "Fraud": 1,
         "Merchnum_max_0": 1.5333945960173094,
         "Merchnum_max_1": 2.3450507983770836,
         "Merchnum_max_3": 2.0700225721094245,
         "_deepnote_index_column": 89128,
         "card_merch_total_7": 7.161266508593856,
         "card_state_max_3": 2.9695969050054507,
         "card_zip_max_3": 3.1128237966623873,
         "card_zip_total_7": 7.140912881037725,
         "merch_state_max_0": 1.5990657376605335,
         "merch_state_max_3": 2.3755288241392445,
         "predicted": 0.9427866885648198
        },
        {
         "Cardnum_total_7": 3.803661479637636,
         "Fraud": 1,
         "Merchnum_max_0": 1.5333945960173094,
         "Merchnum_max_1": 2.3450507983770836,
         "Merchnum_max_3": 2.0700225721094245,
         "_deepnote_index_column": 89121,
         "card_merch_total_7": 7.047028147169474,
         "card_state_max_3": 2.9695969050054507,
         "card_zip_max_3": 3.1128237966623873,
         "card_zip_total_7": 7.026909211801947,
         "merch_state_max_0": 1.5990657376605335,
         "merch_state_max_3": 2.3755288241392445,
         "predicted": 0.9380360725592747
        },
        {
         "Cardnum_total_7": 5.46267225065492,
         "Fraud": 1,
         "Merchnum_max_0": 7.524402939573083,
         "Merchnum_max_1": 5.988644647500015,
         "Merchnum_max_3": 5.391082337025656,
         "_deepnote_index_column": 89186,
         "card_merch_total_7": 9.940700339612281,
         "card_state_max_3": 7.400621784759076,
         "card_zip_max_3": 7.702093752906353,
         "card_zip_total_7": 9.914636621323485,
         "merch_state_max_0": 7.803528080895306,
         "merch_state_max_3": 6.142081529874258,
         "predicted": 0.9217470715846144
        },
        {
         "Cardnum_total_7": 5.435529696046296,
         "Fraud": 1,
         "Merchnum_max_0": 7.524402939573083,
         "Merchnum_max_1": 5.988644647500015,
         "Merchnum_max_3": 5.391082337025656,
         "_deepnote_index_column": 89183,
         "card_merch_total_7": 9.893357876938168,
         "card_state_max_3": 7.400621784759076,
         "card_zip_max_3": 7.702093752906353,
         "card_zip_total_7": 9.867391419377208,
         "merch_state_max_0": 7.803528080895306,
         "merch_state_max_3": 6.142081529874258,
         "predicted": 0.9191738484074115
        },
        {
         "Cardnum_total_7": 3.574491987815742,
         "Fraud": 1,
         "Merchnum_max_0": 1.5333945960173094,
         "Merchnum_max_1": 2.3450507983770836,
         "Merchnum_max_3": 2.0700225721094245,
         "_deepnote_index_column": 89120,
         "card_merch_total_7": 6.647307182467941,
         "card_state_max_3": 2.9695969050054507,
         "card_zip_max_3": 3.1128237966623873,
         "card_zip_total_7": 6.628009436995536,
         "merch_state_max_0": 1.5990657376605335,
         "merch_state_max_3": 2.3755288241392445,
         "predicted": 0.9183741608263225
        },
        {
         "Cardnum_total_7": 3.5249453008955833,
         "Fraud": 1,
         "Merchnum_max_0": 1.5333945960173094,
         "Merchnum_max_1": 2.3450507983770836,
         "Merchnum_max_3": 2.0700225721094245,
         "_deepnote_index_column": 89117,
         "card_merch_total_7": 6.56088708642443,
         "card_state_max_3": 2.9695969050054507,
         "card_zip_max_3": 3.1128237966623873,
         "card_zip_total_7": 6.541766883077342,
         "merch_state_max_0": 1.5990657376605335,
         "merch_state_max_3": 2.3755288241392445,
         "predicted": 0.9134333301596569
        },
        {
         "Cardnum_total_7": 3.4671776189228387,
         "Fraud": 1,
         "Merchnum_max_0": 1.5333945960173094,
         "Merchnum_max_1": 2.3450507983770836,
         "Merchnum_max_3": 2.0700225721094245,
         "_deepnote_index_column": 89114,
         "card_merch_total_7": 6.4601278039250705,
         "card_state_max_3": 2.9695969050054507,
         "card_zip_max_3": 3.1128237966623873,
         "card_zip_total_7": 6.441214601240782,
         "merch_state_max_0": 1.5990657376605335,
         "merch_state_max_3": 2.3755288241392445,
         "predicted": 0.9073320450578158
        },
        {
         "Cardnum_total_7": 2.858661939929307,
         "Fraud": 1,
         "Merchnum_max_0": -0.30593387416075735,
         "Merchnum_max_1": 2.3450507983770836,
         "Merchnum_max_3": 2.0700225721094245,
         "_deepnote_index_column": 89082,
         "card_merch_total_7": 5.398745364624022,
         "card_state_max_3": 2.9695969050054507,
         "card_zip_max_3": 3.1128237966623873,
         "card_zip_total_7": 5.382012674374615,
         "merch_state_max_0": -0.30579627815268046,
         "merch_state_max_3": 2.3755288241392445,
         "predicted": 0.8949601984385552
        },
        {
         "Cardnum_total_7": 5.198769229353416,
         "Fraud": 1,
         "Merchnum_max_0": 7.524402939573083,
         "Merchnum_max_1": 5.988644647500015,
         "Merchnum_max_3": 5.391082337025656,
         "_deepnote_index_column": 89174,
         "card_merch_total_7": 9.480396616705441,
         "card_state_max_3": 7.400621784759076,
         "card_zip_max_3": 7.702093752906353,
         "card_zip_total_7": 9.455278550006923,
         "merch_state_max_0": 7.803528080895306,
         "merch_state_max_3": 6.142081529874258,
         "predicted": 0.8932681618848831
        }
       ]
      },
      "text/html": [
       "<div>\n",
       "<style scoped>\n",
       "    .dataframe tbody tr th:only-of-type {\n",
       "        vertical-align: middle;\n",
       "    }\n",
       "\n",
       "    .dataframe tbody tr th {\n",
       "        vertical-align: top;\n",
       "    }\n",
       "\n",
       "    .dataframe thead th {\n",
       "        text-align: right;\n",
       "    }\n",
       "</style>\n",
       "<table border=\"1\" class=\"dataframe\">\n",
       "  <thead>\n",
       "    <tr style=\"text-align: right;\">\n",
       "      <th></th>\n",
       "      <th>card_merch_total_7</th>\n",
       "      <th>card_state_max_3</th>\n",
       "      <th>Merchnum_max_0</th>\n",
       "      <th>card_zip_max_3</th>\n",
       "      <th>Cardnum_total_7</th>\n",
       "      <th>merch_state_max_3</th>\n",
       "      <th>Merchnum_max_3</th>\n",
       "      <th>merch_state_max_0</th>\n",
       "      <th>Merchnum_max_1</th>\n",
       "      <th>card_zip_total_7</th>\n",
       "      <th>predicted</th>\n",
       "      <th>Fraud</th>\n",
       "    </tr>\n",
       "  </thead>\n",
       "  <tbody>\n",
       "    <tr>\n",
       "      <th>89129</th>\n",
       "      <td>7.252903</td>\n",
       "      <td>2.969597</td>\n",
       "      <td>1.533395</td>\n",
       "      <td>3.112824</td>\n",
       "      <td>3.921695</td>\n",
       "      <td>2.375529</td>\n",
       "      <td>2.070023</td>\n",
       "      <td>1.599066</td>\n",
       "      <td>2.345051</td>\n",
       "      <td>7.232361</td>\n",
       "      <td>0.946348</td>\n",
       "      <td>1</td>\n",
       "    </tr>\n",
       "    <tr>\n",
       "      <th>89128</th>\n",
       "      <td>7.161267</td>\n",
       "      <td>2.969597</td>\n",
       "      <td>1.533395</td>\n",
       "      <td>3.112824</td>\n",
       "      <td>3.869157</td>\n",
       "      <td>2.375529</td>\n",
       "      <td>2.070023</td>\n",
       "      <td>1.599066</td>\n",
       "      <td>2.345051</td>\n",
       "      <td>7.140913</td>\n",
       "      <td>0.942787</td>\n",
       "      <td>1</td>\n",
       "    </tr>\n",
       "    <tr>\n",
       "      <th>89121</th>\n",
       "      <td>7.047028</td>\n",
       "      <td>2.969597</td>\n",
       "      <td>1.533395</td>\n",
       "      <td>3.112824</td>\n",
       "      <td>3.803661</td>\n",
       "      <td>2.375529</td>\n",
       "      <td>2.070023</td>\n",
       "      <td>1.599066</td>\n",
       "      <td>2.345051</td>\n",
       "      <td>7.026909</td>\n",
       "      <td>0.938036</td>\n",
       "      <td>1</td>\n",
       "    </tr>\n",
       "    <tr>\n",
       "      <th>89186</th>\n",
       "      <td>9.940700</td>\n",
       "      <td>7.400622</td>\n",
       "      <td>7.524403</td>\n",
       "      <td>7.702094</td>\n",
       "      <td>5.462672</td>\n",
       "      <td>6.142082</td>\n",
       "      <td>5.391082</td>\n",
       "      <td>7.803528</td>\n",
       "      <td>5.988645</td>\n",
       "      <td>9.914637</td>\n",
       "      <td>0.921747</td>\n",
       "      <td>1</td>\n",
       "    </tr>\n",
       "    <tr>\n",
       "      <th>89183</th>\n",
       "      <td>9.893358</td>\n",
       "      <td>7.400622</td>\n",
       "      <td>7.524403</td>\n",
       "      <td>7.702094</td>\n",
       "      <td>5.435530</td>\n",
       "      <td>6.142082</td>\n",
       "      <td>5.391082</td>\n",
       "      <td>7.803528</td>\n",
       "      <td>5.988645</td>\n",
       "      <td>9.867391</td>\n",
       "      <td>0.919174</td>\n",
       "      <td>1</td>\n",
       "    </tr>\n",
       "    <tr>\n",
       "      <th>89120</th>\n",
       "      <td>6.647307</td>\n",
       "      <td>2.969597</td>\n",
       "      <td>1.533395</td>\n",
       "      <td>3.112824</td>\n",
       "      <td>3.574492</td>\n",
       "      <td>2.375529</td>\n",
       "      <td>2.070023</td>\n",
       "      <td>1.599066</td>\n",
       "      <td>2.345051</td>\n",
       "      <td>6.628009</td>\n",
       "      <td>0.918374</td>\n",
       "      <td>1</td>\n",
       "    </tr>\n",
       "    <tr>\n",
       "      <th>89117</th>\n",
       "      <td>6.560887</td>\n",
       "      <td>2.969597</td>\n",
       "      <td>1.533395</td>\n",
       "      <td>3.112824</td>\n",
       "      <td>3.524945</td>\n",
       "      <td>2.375529</td>\n",
       "      <td>2.070023</td>\n",
       "      <td>1.599066</td>\n",
       "      <td>2.345051</td>\n",
       "      <td>6.541767</td>\n",
       "      <td>0.913433</td>\n",
       "      <td>1</td>\n",
       "    </tr>\n",
       "    <tr>\n",
       "      <th>89114</th>\n",
       "      <td>6.460128</td>\n",
       "      <td>2.969597</td>\n",
       "      <td>1.533395</td>\n",
       "      <td>3.112824</td>\n",
       "      <td>3.467178</td>\n",
       "      <td>2.375529</td>\n",
       "      <td>2.070023</td>\n",
       "      <td>1.599066</td>\n",
       "      <td>2.345051</td>\n",
       "      <td>6.441215</td>\n",
       "      <td>0.907332</td>\n",
       "      <td>1</td>\n",
       "    </tr>\n",
       "    <tr>\n",
       "      <th>89082</th>\n",
       "      <td>5.398745</td>\n",
       "      <td>2.969597</td>\n",
       "      <td>-0.305934</td>\n",
       "      <td>3.112824</td>\n",
       "      <td>2.858662</td>\n",
       "      <td>2.375529</td>\n",
       "      <td>2.070023</td>\n",
       "      <td>-0.305796</td>\n",
       "      <td>2.345051</td>\n",
       "      <td>5.382013</td>\n",
       "      <td>0.894960</td>\n",
       "      <td>1</td>\n",
       "    </tr>\n",
       "    <tr>\n",
       "      <th>89174</th>\n",
       "      <td>9.480397</td>\n",
       "      <td>7.400622</td>\n",
       "      <td>7.524403</td>\n",
       "      <td>7.702094</td>\n",
       "      <td>5.198769</td>\n",
       "      <td>6.142082</td>\n",
       "      <td>5.391082</td>\n",
       "      <td>7.803528</td>\n",
       "      <td>5.988645</td>\n",
       "      <td>9.455279</td>\n",
       "      <td>0.893268</td>\n",
       "      <td>1</td>\n",
       "    </tr>\n",
       "    <tr>\n",
       "      <th>89134</th>\n",
       "      <td>9.347075</td>\n",
       "      <td>7.400622</td>\n",
       "      <td>7.524403</td>\n",
       "      <td>7.702094</td>\n",
       "      <td>5.122333</td>\n",
       "      <td>6.142082</td>\n",
       "      <td>5.391082</td>\n",
       "      <td>7.803528</td>\n",
       "      <td>5.988645</td>\n",
       "      <td>9.322231</td>\n",
       "      <td>0.883457</td>\n",
       "      <td>1</td>\n",
       "    </tr>\n",
       "    <tr>\n",
       "      <th>89130</th>\n",
       "      <td>9.274431</td>\n",
       "      <td>7.400622</td>\n",
       "      <td>7.524403</td>\n",
       "      <td>7.702094</td>\n",
       "      <td>5.080684</td>\n",
       "      <td>6.142082</td>\n",
       "      <td>5.391082</td>\n",
       "      <td>7.803528</td>\n",
       "      <td>5.988645</td>\n",
       "      <td>9.249736</td>\n",
       "      <td>0.877788</td>\n",
       "      <td>1</td>\n",
       "    </tr>\n",
       "    <tr>\n",
       "      <th>89112</th>\n",
       "      <td>5.948610</td>\n",
       "      <td>2.969597</td>\n",
       "      <td>0.864264</td>\n",
       "      <td>3.112824</td>\n",
       "      <td>3.173912</td>\n",
       "      <td>2.375529</td>\n",
       "      <td>2.070023</td>\n",
       "      <td>0.906095</td>\n",
       "      <td>2.345051</td>\n",
       "      <td>5.930748</td>\n",
       "      <td>0.874862</td>\n",
       "      <td>1</td>\n",
       "    </tr>\n",
       "    <tr>\n",
       "      <th>89083</th>\n",
       "      <td>5.491844</td>\n",
       "      <td>2.969597</td>\n",
       "      <td>-0.126695</td>\n",
       "      <td>3.112824</td>\n",
       "      <td>2.912038</td>\n",
       "      <td>2.375529</td>\n",
       "      <td>2.070023</td>\n",
       "      <td>-0.120172</td>\n",
       "      <td>2.345051</td>\n",
       "      <td>5.474920</td>\n",
       "      <td>0.868294</td>\n",
       "      <td>1</td>\n",
       "    </tr>\n",
       "    <tr>\n",
       "      <th>89091</th>\n",
       "      <td>5.834710</td>\n",
       "      <td>2.969597</td>\n",
       "      <td>0.864264</td>\n",
       "      <td>3.112824</td>\n",
       "      <td>3.108611</td>\n",
       "      <td>2.375529</td>\n",
       "      <td>2.070023</td>\n",
       "      <td>0.906095</td>\n",
       "      <td>2.345051</td>\n",
       "      <td>5.817082</td>\n",
       "      <td>0.865306</td>\n",
       "      <td>1</td>\n",
       "    </tr>\n",
       "    <tr>\n",
       "      <th>89077</th>\n",
       "      <td>5.350823</td>\n",
       "      <td>2.969597</td>\n",
       "      <td>3.003322</td>\n",
       "      <td>3.112824</td>\n",
       "      <td>2.831187</td>\n",
       "      <td>2.375529</td>\n",
       "      <td>2.070023</td>\n",
       "      <td>3.121366</td>\n",
       "      <td>2.345051</td>\n",
       "      <td>5.334189</td>\n",
       "      <td>0.796334</td>\n",
       "      <td>1</td>\n",
       "    </tr>\n",
       "    <tr>\n",
       "      <th>89075</th>\n",
       "      <td>5.222167</td>\n",
       "      <td>2.969597</td>\n",
       "      <td>3.003322</td>\n",
       "      <td>3.112824</td>\n",
       "      <td>2.757426</td>\n",
       "      <td>2.375529</td>\n",
       "      <td>2.070023</td>\n",
       "      <td>3.121366</td>\n",
       "      <td>2.345051</td>\n",
       "      <td>5.205798</td>\n",
       "      <td>0.780403</td>\n",
       "      <td>1</td>\n",
       "    </tr>\n",
       "    <tr>\n",
       "      <th>89074</th>\n",
       "      <td>5.104250</td>\n",
       "      <td>2.969597</td>\n",
       "      <td>3.003322</td>\n",
       "      <td>3.112824</td>\n",
       "      <td>2.689821</td>\n",
       "      <td>2.375529</td>\n",
       "      <td>2.070023</td>\n",
       "      <td>3.121366</td>\n",
       "      <td>2.345051</td>\n",
       "      <td>5.088122</td>\n",
       "      <td>0.765032</td>\n",
       "      <td>1</td>\n",
       "    </tr>\n",
       "    <tr>\n",
       "      <th>89068</th>\n",
       "      <td>4.381129</td>\n",
       "      <td>2.969597</td>\n",
       "      <td>3.003322</td>\n",
       "      <td>3.112824</td>\n",
       "      <td>2.275238</td>\n",
       "      <td>2.375529</td>\n",
       "      <td>2.070023</td>\n",
       "      <td>3.121366</td>\n",
       "      <td>2.345051</td>\n",
       "      <td>4.366486</td>\n",
       "      <td>0.655562</td>\n",
       "      <td>1</td>\n",
       "    </tr>\n",
       "    <tr>\n",
       "      <th>86848</th>\n",
       "      <td>3.464656</td>\n",
       "      <td>1.894346</td>\n",
       "      <td>1.906218</td>\n",
       "      <td>1.999172</td>\n",
       "      <td>1.749803</td>\n",
       "      <td>1.461521</td>\n",
       "      <td>1.264120</td>\n",
       "      <td>1.985172</td>\n",
       "      <td>1.460881</td>\n",
       "      <td>3.451897</td>\n",
       "      <td>0.627727</td>\n",
       "      <td>0</td>\n",
       "    </tr>\n",
       "  </tbody>\n",
       "</table>\n",
       "</div>"
      ],
      "text/plain": [
       "       card_merch_total_7  card_state_max_3  Merchnum_max_0  card_zip_max_3  \\\n",
       "89129            7.252903          2.969597        1.533395        3.112824   \n",
       "89128            7.161267          2.969597        1.533395        3.112824   \n",
       "89121            7.047028          2.969597        1.533395        3.112824   \n",
       "89186            9.940700          7.400622        7.524403        7.702094   \n",
       "89183            9.893358          7.400622        7.524403        7.702094   \n",
       "89120            6.647307          2.969597        1.533395        3.112824   \n",
       "89117            6.560887          2.969597        1.533395        3.112824   \n",
       "89114            6.460128          2.969597        1.533395        3.112824   \n",
       "89082            5.398745          2.969597       -0.305934        3.112824   \n",
       "89174            9.480397          7.400622        7.524403        7.702094   \n",
       "89134            9.347075          7.400622        7.524403        7.702094   \n",
       "89130            9.274431          7.400622        7.524403        7.702094   \n",
       "89112            5.948610          2.969597        0.864264        3.112824   \n",
       "89083            5.491844          2.969597       -0.126695        3.112824   \n",
       "89091            5.834710          2.969597        0.864264        3.112824   \n",
       "89077            5.350823          2.969597        3.003322        3.112824   \n",
       "89075            5.222167          2.969597        3.003322        3.112824   \n",
       "89074            5.104250          2.969597        3.003322        3.112824   \n",
       "89068            4.381129          2.969597        3.003322        3.112824   \n",
       "86848            3.464656          1.894346        1.906218        1.999172   \n",
       "\n",
       "       Cardnum_total_7  merch_state_max_3  Merchnum_max_3  merch_state_max_0  \\\n",
       "89129         3.921695           2.375529        2.070023           1.599066   \n",
       "89128         3.869157           2.375529        2.070023           1.599066   \n",
       "89121         3.803661           2.375529        2.070023           1.599066   \n",
       "89186         5.462672           6.142082        5.391082           7.803528   \n",
       "89183         5.435530           6.142082        5.391082           7.803528   \n",
       "89120         3.574492           2.375529        2.070023           1.599066   \n",
       "89117         3.524945           2.375529        2.070023           1.599066   \n",
       "89114         3.467178           2.375529        2.070023           1.599066   \n",
       "89082         2.858662           2.375529        2.070023          -0.305796   \n",
       "89174         5.198769           6.142082        5.391082           7.803528   \n",
       "89134         5.122333           6.142082        5.391082           7.803528   \n",
       "89130         5.080684           6.142082        5.391082           7.803528   \n",
       "89112         3.173912           2.375529        2.070023           0.906095   \n",
       "89083         2.912038           2.375529        2.070023          -0.120172   \n",
       "89091         3.108611           2.375529        2.070023           0.906095   \n",
       "89077         2.831187           2.375529        2.070023           3.121366   \n",
       "89075         2.757426           2.375529        2.070023           3.121366   \n",
       "89074         2.689821           2.375529        2.070023           3.121366   \n",
       "89068         2.275238           2.375529        2.070023           3.121366   \n",
       "86848         1.749803           1.461521        1.264120           1.985172   \n",
       "\n",
       "       Merchnum_max_1  card_zip_total_7  predicted  Fraud  \n",
       "89129        2.345051          7.232361   0.946348      1  \n",
       "89128        2.345051          7.140913   0.942787      1  \n",
       "89121        2.345051          7.026909   0.938036      1  \n",
       "89186        5.988645          9.914637   0.921747      1  \n",
       "89183        5.988645          9.867391   0.919174      1  \n",
       "89120        2.345051          6.628009   0.918374      1  \n",
       "89117        2.345051          6.541767   0.913433      1  \n",
       "89114        2.345051          6.441215   0.907332      1  \n",
       "89082        2.345051          5.382013   0.894960      1  \n",
       "89174        5.988645          9.455279   0.893268      1  \n",
       "89134        5.988645          9.322231   0.883457      1  \n",
       "89130        5.988645          9.249736   0.877788      1  \n",
       "89112        2.345051          5.930748   0.874862      1  \n",
       "89083        2.345051          5.474920   0.868294      1  \n",
       "89091        2.345051          5.817082   0.865306      1  \n",
       "89077        2.345051          5.334189   0.796334      1  \n",
       "89075        2.345051          5.205798   0.780403      1  \n",
       "89074        2.345051          5.088122   0.765032      1  \n",
       "89068        2.345051          4.366486   0.655562      1  \n",
       "86848        1.460881          3.451897   0.627727      0  "
      ]
     },
     "execution_count": 39,
     "metadata": {},
     "output_type": "execute_result"
    }
   ],
   "source": [
    "cols = ['bin','#recs','#g','#b','%g','%b','tot','cg','cb','%cg','FDR','KS','FPR']\n",
    "FDR_trn = pd.DataFrame(np.zeros((101, 13)), columns = cols)\n",
    "FDR_tst = pd.DataFrame(np.zeros((101, 13)), columns = cols)\n",
    "FDR_oot = pd.DataFrame(np.zeros((101, 13)), columns = cols)\n",
    "trn_sorted = X_trn_eval.sort_values('predicted',ascending=False)\n",
    "tst_sorted = X_tst_eval.sort_values('predicted',ascending=False)\n",
    "oot_sorted = X_oot_eval.sort_values('predicted',ascending=False)\n",
    "bad_tot_trn = sum(X_trn_eval.loc[:, 'Fraud'])\n",
    "bad_tot_tst = sum(X_tst_eval.loc[:, 'Fraud'])\n",
    "bad_tot_oot = sum(X_oot_eval.loc[:, 'Fraud'])\n",
    "num_tot_trn = len(X_trn_eval)\n",
    "num_tot_tst = len(X_tst_eval)\n",
    "num_tot_oot = len(X_oot_eval)\n",
    "good_tot_trn = num_tot_trn - bad_tot_trn\n",
    "good_tot_tst = num_tot_tst - bad_tot_tst\n",
    "good_tot_oot = num_tot_oot - bad_tot_oot\n",
    "oot_sorted.head(20)"
   ]
  },
  {
   "cell_type": "code",
   "execution_count": null,
   "metadata": {
    "cell_id": "00035-469e0ee3-c872-4c7b-a927-ef1f887dc88b",
    "deepnote_cell_height": 1662,
    "deepnote_cell_type": "code",
    "deepnote_to_be_reexecuted": false,
    "execution_millis": 2549,
    "execution_start": 1651562537418,
    "source_hash": "79e9363e"
   },
   "outputs": [
    {
     "data": {
      "application/vnd.deepnote.dataframe.v3+json": {
       "column_count": 13,
       "columns": [
        {
         "dtype": "float64",
         "name": "bin",
         "stats": {
          "histogram": [
           {
            "bin_end": 10,
            "bin_start": 0,
            "count": 10
           },
           {
            "bin_end": 20,
            "bin_start": 10,
            "count": 10
           },
           {
            "bin_end": 30,
            "bin_start": 20,
            "count": 10
           },
           {
            "bin_end": 40,
            "bin_start": 30,
            "count": 10
           },
           {
            "bin_end": 50,
            "bin_start": 40,
            "count": 10
           },
           {
            "bin_end": 60,
            "bin_start": 50,
            "count": 10
           },
           {
            "bin_end": 70,
            "bin_start": 60,
            "count": 10
           },
           {
            "bin_end": 80,
            "bin_start": 70,
            "count": 10
           },
           {
            "bin_end": 90,
            "bin_start": 80,
            "count": 10
           },
           {
            "bin_end": 100,
            "bin_start": 90,
            "count": 11
           }
          ],
          "max": "100.0",
          "min": "0.0",
          "nan_count": 0,
          "unique_count": 101
         }
        },
        {
         "dtype": "float64",
         "name": "#recs",
         "stats": {
          "histogram": [
           {
            "bin_end": 59.1,
            "bin_start": 0,
            "count": 1
           },
           {
            "bin_end": 118.2,
            "bin_start": 59.1,
            "count": 0
           },
           {
            "bin_end": 177.3,
            "bin_start": 118.2,
            "count": 0
           },
           {
            "bin_end": 236.4,
            "bin_start": 177.3,
            "count": 0
           },
           {
            "bin_end": 295.5,
            "bin_start": 236.4,
            "count": 0
           },
           {
            "bin_end": 354.6,
            "bin_start": 295.5,
            "count": 0
           },
           {
            "bin_end": 413.7,
            "bin_start": 354.6,
            "count": 0
           },
           {
            "bin_end": 472.8,
            "bin_start": 413.7,
            "count": 0
           },
           {
            "bin_end": 531.9,
            "bin_start": 472.8,
            "count": 0
           },
           {
            "bin_end": 591,
            "bin_start": 531.9,
            "count": 100
           }
          ],
          "max": "591.0",
          "min": "0.0",
          "nan_count": 0,
          "unique_count": 3
         }
        },
        {
         "dtype": "float64",
         "name": "#g",
         "stats": {
          "histogram": [
           {
            "bin_end": 59.1,
            "bin_start": 0,
            "count": 1
           },
           {
            "bin_end": 118.2,
            "bin_start": 59.1,
            "count": 0
           },
           {
            "bin_end": 177.3,
            "bin_start": 118.2,
            "count": 0
           },
           {
            "bin_end": 236.4,
            "bin_start": 177.3,
            "count": 0
           },
           {
            "bin_end": 295.5,
            "bin_start": 236.4,
            "count": 1
           },
           {
            "bin_end": 354.6,
            "bin_start": 295.5,
            "count": 0
           },
           {
            "bin_end": 413.7,
            "bin_start": 354.6,
            "count": 0
           },
           {
            "bin_end": 472.8,
            "bin_start": 413.7,
            "count": 0
           },
           {
            "bin_end": 531.9,
            "bin_start": 472.8,
            "count": 1
           },
           {
            "bin_end": 591,
            "bin_start": 531.9,
            "count": 98
           }
          ],
          "max": "591.0",
          "min": "0.0",
          "nan_count": 0,
          "unique_count": 18
         }
        },
        {
         "dtype": "float64",
         "name": "#b",
         "stats": {
          "histogram": [
           {
            "bin_end": 32.9,
            "bin_start": 0,
            "count": 98
           },
           {
            "bin_end": 65.8,
            "bin_start": 32.9,
            "count": 1
           },
           {
            "bin_end": 98.69999999999999,
            "bin_start": 65.8,
            "count": 1
           },
           {
            "bin_end": 131.6,
            "bin_start": 98.69999999999999,
            "count": 0
           },
           {
            "bin_end": 164.5,
            "bin_start": 131.6,
            "count": 0
           },
           {
            "bin_end": 197.39999999999998,
            "bin_start": 164.5,
            "count": 0
           },
           {
            "bin_end": 230.29999999999998,
            "bin_start": 197.39999999999998,
            "count": 0
           },
           {
            "bin_end": 263.2,
            "bin_start": 230.29999999999998,
            "count": 0
           },
           {
            "bin_end": 296.09999999999997,
            "bin_start": 263.2,
            "count": 0
           },
           {
            "bin_end": 329,
            "bin_start": 296.09999999999997,
            "count": 1
           }
          ],
          "max": "329.0",
          "min": "0.0",
          "nan_count": 0,
          "unique_count": 17
         }
        },
        {
         "dtype": "float64",
         "name": "%g",
         "stats": {
          "histogram": [
           {
            "bin_end": 10,
            "bin_start": 0,
            "count": 1
           },
           {
            "bin_end": 20,
            "bin_start": 10,
            "count": 0
           },
           {
            "bin_end": 30,
            "bin_start": 20,
            "count": 0
           },
           {
            "bin_end": 40,
            "bin_start": 30,
            "count": 0
           },
           {
            "bin_end": 50,
            "bin_start": 40,
            "count": 1
           },
           {
            "bin_end": 60,
            "bin_start": 50,
            "count": 0
           },
           {
            "bin_end": 70,
            "bin_start": 60,
            "count": 0
           },
           {
            "bin_end": 80,
            "bin_start": 70,
            "count": 0
           },
           {
            "bin_end": 90,
            "bin_start": 80,
            "count": 1
           },
           {
            "bin_end": 100,
            "bin_start": 90,
            "count": 98
           }
          ],
          "max": "100.0",
          "min": "0.0",
          "nan_count": 0,
          "unique_count": 20
         }
        },
        {
         "dtype": "float64",
         "name": "%b",
         "stats": {
          "histogram": [
           {
            "bin_end": 5.576271186440678,
            "bin_start": 0,
            "count": 98
           },
           {
            "bin_end": 11.152542372881356,
            "bin_start": 5.576271186440678,
            "count": 1
           },
           {
            "bin_end": 16.728813559322035,
            "bin_start": 11.152542372881356,
            "count": 1
           },
           {
            "bin_end": 22.305084745762713,
            "bin_start": 16.728813559322035,
            "count": 0
           },
           {
            "bin_end": 27.88135593220339,
            "bin_start": 22.305084745762713,
            "count": 0
           },
           {
            "bin_end": 33.45762711864407,
            "bin_start": 27.88135593220339,
            "count": 0
           },
           {
            "bin_end": 39.03389830508475,
            "bin_start": 33.45762711864407,
            "count": 0
           },
           {
            "bin_end": 44.610169491525426,
            "bin_start": 39.03389830508475,
            "count": 0
           },
           {
            "bin_end": 50.186440677966104,
            "bin_start": 44.610169491525426,
            "count": 0
           },
           {
            "bin_end": 55.76271186440678,
            "bin_start": 50.186440677966104,
            "count": 1
           }
          ],
          "max": "55.76271186440678",
          "min": "0.0",
          "nan_count": 0,
          "unique_count": 19
         }
        },
        {
         "dtype": "float64",
         "name": "tot",
         "stats": {
          "histogram": [
           {
            "bin_end": 5901,
            "bin_start": 0,
            "count": 10
           },
           {
            "bin_end": 11802,
            "bin_start": 5901,
            "count": 10
           },
           {
            "bin_end": 17703,
            "bin_start": 11802,
            "count": 10
           },
           {
            "bin_end": 23604,
            "bin_start": 17703,
            "count": 10
           },
           {
            "bin_end": 29505,
            "bin_start": 23604,
            "count": 10
           },
           {
            "bin_end": 35406,
            "bin_start": 29505,
            "count": 10
           },
           {
            "bin_end": 41307,
            "bin_start": 35406,
            "count": 10
           },
           {
            "bin_end": 47208,
            "bin_start": 41307,
            "count": 10
           },
           {
            "bin_end": 53109,
            "bin_start": 47208,
            "count": 10
           },
           {
            "bin_end": 59010,
            "bin_start": 53109,
            "count": 11
           }
          ],
          "max": "59010.0",
          "min": "0.0",
          "nan_count": 0,
          "unique_count": 101
         }
        },
        {
         "dtype": "float64",
         "name": "cg",
         "stats": {
          "histogram": [
           {
            "bin_end": 5839.8,
            "bin_start": 0,
            "count": 11
           },
           {
            "bin_end": 11679.6,
            "bin_start": 5839.8,
            "count": 10
           },
           {
            "bin_end": 17519.4,
            "bin_start": 11679.6,
            "count": 10
           },
           {
            "bin_end": 23359.2,
            "bin_start": 17519.4,
            "count": 10
           },
           {
            "bin_end": 29199,
            "bin_start": 23359.2,
            "count": 10
           },
           {
            "bin_end": 35038.8,
            "bin_start": 29199,
            "count": 10
           },
           {
            "bin_end": 40878.6,
            "bin_start": 35038.8,
            "count": 10
           },
           {
            "bin_end": 46718.4,
            "bin_start": 40878.6,
            "count": 10
           },
           {
            "bin_end": 52558.200000000004,
            "bin_start": 46718.4,
            "count": 10
           },
           {
            "bin_end": 58398,
            "bin_start": 52558.200000000004,
            "count": 10
           }
          ],
          "max": "58398.0",
          "min": "0.0",
          "nan_count": 0,
          "unique_count": 101
         }
        },
        {
         "dtype": "float64",
         "name": "cb",
         "stats": {
          "histogram": [
           {
            "bin_end": 61.2,
            "bin_start": 0,
            "count": 1
           },
           {
            "bin_end": 122.4,
            "bin_start": 61.2,
            "count": 0
           },
           {
            "bin_end": 183.60000000000002,
            "bin_start": 122.4,
            "count": 0
           },
           {
            "bin_end": 244.8,
            "bin_start": 183.60000000000002,
            "count": 0
           },
           {
            "bin_end": 306,
            "bin_start": 244.8,
            "count": 0
           },
           {
            "bin_end": 367.20000000000005,
            "bin_start": 306,
            "count": 1
           },
           {
            "bin_end": 428.40000000000003,
            "bin_start": 367.20000000000005,
            "count": 1
           },
           {
            "bin_end": 489.6,
            "bin_start": 428.40000000000003,
            "count": 3
           },
           {
            "bin_end": 550.8000000000001,
            "bin_start": 489.6,
            "count": 10
           },
           {
            "bin_end": 612,
            "bin_start": 550.8000000000001,
            "count": 85
           }
          ],
          "max": "612.0",
          "min": "0.0",
          "nan_count": 0,
          "unique_count": 46
         }
        },
        {
         "dtype": "float64",
         "name": "%cg",
         "stats": {
          "histogram": [
           {
            "bin_end": 10,
            "bin_start": 0,
            "count": 11
           },
           {
            "bin_end": 20,
            "bin_start": 10,
            "count": 10
           },
           {
            "bin_end": 30,
            "bin_start": 20,
            "count": 10
           },
           {
            "bin_end": 40,
            "bin_start": 30,
            "count": 10
           },
           {
            "bin_end": 50,
            "bin_start": 40,
            "count": 10
           },
           {
            "bin_end": 60,
            "bin_start": 50,
            "count": 10
           },
           {
            "bin_end": 70,
            "bin_start": 60,
            "count": 10
           },
           {
            "bin_end": 80,
            "bin_start": 70,
            "count": 10
           },
           {
            "bin_end": 90,
            "bin_start": 80,
            "count": 10
           },
           {
            "bin_end": 100,
            "bin_start": 90,
            "count": 10
           }
          ],
          "max": "100.0",
          "min": "0.0",
          "nan_count": 0,
          "unique_count": 101
         }
        },
        {
         "dtype": "float64",
         "name": "FDR",
         "stats": {
          "histogram": [
           {
            "bin_end": 10,
            "bin_start": 0,
            "count": 1
           },
           {
            "bin_end": 20,
            "bin_start": 10,
            "count": 0
           },
           {
            "bin_end": 30,
            "bin_start": 20,
            "count": 0
           },
           {
            "bin_end": 40,
            "bin_start": 30,
            "count": 0
           },
           {
            "bin_end": 50,
            "bin_start": 40,
            "count": 0
           },
           {
            "bin_end": 60,
            "bin_start": 50,
            "count": 1
           },
           {
            "bin_end": 70,
            "bin_start": 60,
            "count": 1
           },
           {
            "bin_end": 80,
            "bin_start": 70,
            "count": 3
           },
           {
            "bin_end": 90,
            "bin_start": 80,
            "count": 10
           },
           {
            "bin_end": 100,
            "bin_start": 90,
            "count": 85
           }
          ],
          "max": "100.0",
          "min": "0.0",
          "nan_count": 0,
          "unique_count": 46
         }
        },
        {
         "dtype": "float64",
         "name": "KS",
         "stats": {
          "histogram": [
           {
            "bin_end": 7.575296360538803,
            "bin_start": 0,
            "count": 9
           },
           {
            "bin_end": 15.150592721077606,
            "bin_start": 7.575296360538803,
            "count": 8
           },
           {
            "bin_end": 22.72588908161641,
            "bin_start": 15.150592721077606,
            "count": 7
           },
           {
            "bin_end": 30.301185442155212,
            "bin_start": 22.72588908161641,
            "count": 8
           },
           {
            "bin_end": 37.876481802694016,
            "bin_start": 30.301185442155212,
            "count": 8
           },
           {
            "bin_end": 45.45177816323282,
            "bin_start": 37.876481802694016,
            "count": 8
           },
           {
            "bin_end": 53.027074523771624,
            "bin_start": 45.45177816323282,
            "count": 8
           },
           {
            "bin_end": 60.602370884310425,
            "bin_start": 53.027074523771624,
            "count": 9
           },
           {
            "bin_end": 68.17766724484923,
            "bin_start": 60.602370884310425,
            "count": 9
           },
           {
            "bin_end": 75.75296360538803,
            "bin_start": 68.17766724484923,
            "count": 27
           }
          ],
          "max": "75.75296360538803",
          "min": "0.0",
          "nan_count": 0,
          "unique_count": 100
         }
        },
        {
         "dtype": "float64",
         "name": "FPR",
         "stats": {
          "histogram": [
           {
            "bin_end": 9.542156862745099,
            "bin_start": 0,
            "count": 10
           },
           {
            "bin_end": 19.084313725490198,
            "bin_start": 9.542156862745099,
            "count": 10
           },
           {
            "bin_end": 28.626470588235296,
            "bin_start": 19.084313725490198,
            "count": 10
           },
           {
            "bin_end": 38.168627450980395,
            "bin_start": 28.626470588235296,
            "count": 10
           },
           {
            "bin_end": 47.7107843137255,
            "bin_start": 38.168627450980395,
            "count": 10
           },
           {
            "bin_end": 57.25294117647059,
            "bin_start": 47.7107843137255,
            "count": 10
           },
           {
            "bin_end": 66.79509803921569,
            "bin_start": 57.25294117647059,
            "count": 10
           },
           {
            "bin_end": 76.33725490196079,
            "bin_start": 66.79509803921569,
            "count": 11
           },
           {
            "bin_end": 85.87941176470589,
            "bin_start": 76.33725490196079,
            "count": 10
           },
           {
            "bin_end": 95.42156862745098,
            "bin_start": 85.87941176470589,
            "count": 10
           }
          ],
          "max": "95.42156862745098",
          "min": "0.0",
          "nan_count": 0,
          "unique_count": 101
         }
        },
        {
         "dtype": "int64",
         "name": "_deepnote_index_column"
        }
       ],
       "row_count": 101,
       "rows": [
        {
         "#b": 0,
         "#g": 0,
         "#recs": 0,
         "%b": 0,
         "%cg": 0,
         "%g": 0,
         "FDR": 0,
         "FPR": 0,
         "KS": 0,
         "_deepnote_index_column": 0,
         "bin": 0,
         "cb": 0,
         "cg": 0,
         "tot": 0
        },
        {
         "#b": 329,
         "#g": 261,
         "#recs": 590,
         "%b": 55.76271186440678,
         "%cg": 0.4469331141477448,
         "%g": 44.23728813559322,
         "FDR": 53.75816993464052,
         "FPR": 0.7933130699088146,
         "KS": 53.31123682049277,
         "_deepnote_index_column": 1,
         "bin": 1,
         "cb": 329,
         "cg": 261,
         "tot": 590
        },
        {
         "#b": 72,
         "#g": 518,
         "#recs": 590,
         "%b": 12.20338983050847,
         "%cg": 1.3339497928011232,
         "%g": 87.79661016949153,
         "FDR": 65.52287581699346,
         "FPR": 1.942643391521197,
         "KS": 64.18892602419234,
         "_deepnote_index_column": 2,
         "bin": 2,
         "cb": 401,
         "cg": 779,
         "tot": 1180
        },
        {
         "#b": 39,
         "#g": 551,
         "#recs": 590,
         "%b": 6.610169491525426,
         "%cg": 2.277475256001918,
         "%g": 93.38983050847457,
         "FDR": 71.89542483660131,
         "FPR": 3.022727272727273,
         "KS": 69.61794958059939,
         "_deepnote_index_column": 3,
         "bin": 3,
         "cb": 440,
         "cg": 1330,
         "tot": 1770
        },
        {
         "#b": 17,
         "#g": 573,
         "#recs": 590,
         "%b": 2.881355932203391,
         "%cg": 3.258673242234323,
         "%g": 97.11864406779661,
         "FDR": 74.67320261437908,
         "FPR": 4.164113785557987,
         "KS": 71.41452937214476,
         "_deepnote_index_column": 4,
         "bin": 4,
         "cb": 457,
         "cg": 1903,
         "tot": 2360
        },
        {
         "#b": 18,
         "#g": 572,
         "#recs": 590,
         "%b": 3.050847457627114,
         "%cg": 4.238158841056201,
         "%g": 96.94915254237289,
         "FDR": 77.61437908496733,
         "FPR": 5.2105263157894735,
         "KS": 73.37622024391112,
         "_deepnote_index_column": 5,
         "bin": 5,
         "cb": 475,
         "cg": 2475,
         "tot": 2950
        },
        {
         "#b": 15,
         "#g": 576,
         "#recs": 591,
         "%b": 2.538071065989854,
         "%cg": 5.224493989520189,
         "%g": 97.46192893401015,
         "FDR": 80.06535947712419,
         "FPR": 6.226530612244898,
         "KS": 74.840865487604,
         "_deepnote_index_column": 6,
         "bin": 6,
         "cb": 490,
         "cg": 3051,
         "tot": 3541
        },
        {
         "#b": 6,
         "#g": 584,
         "#recs": 590,
         "%b": 1.0169491525423666,
         "%cg": 6.2245282372684,
         "%g": 98.98305084745763,
         "FDR": 81.04575163398692,
         "FPR": 7.328629032258065,
         "KS": 74.82122339671852,
         "_deepnote_index_column": 7,
         "bin": 7,
         "cb": 496,
         "cg": 3635,
         "tot": 4131
        },
        {
         "#b": 7,
         "#g": 583,
         "#recs": 590,
         "%b": 1.1864406779661039,
         "%cg": 7.2228500976060825,
         "%g": 98.8135593220339,
         "FDR": 82.18954248366013,
         "FPR": 8.38568588469185,
         "KS": 74.96669238605405,
         "_deepnote_index_column": 8,
         "bin": 8,
         "cb": 503,
         "cg": 4218,
         "tot": 4721
        },
        {
         "#b": 10,
         "#g": 580,
         "#recs": 590,
         "%b": 1.6949152542372872,
         "%cg": 8.216034795712181,
         "%g": 98.30508474576271,
         "FDR": 83.82352941176471,
         "FPR": 9.352826510721247,
         "KS": 75.60749461605253,
         "_deepnote_index_column": 9,
         "bin": 9,
         "cb": 513,
         "cg": 4798,
         "tot": 5311
        }
       ]
      },
      "text/html": [
       "<div>\n",
       "<style scoped>\n",
       "    .dataframe tbody tr th:only-of-type {\n",
       "        vertical-align: middle;\n",
       "    }\n",
       "\n",
       "    .dataframe tbody tr th {\n",
       "        vertical-align: top;\n",
       "    }\n",
       "\n",
       "    .dataframe thead th {\n",
       "        text-align: right;\n",
       "    }\n",
       "</style>\n",
       "<table border=\"1\" class=\"dataframe\">\n",
       "  <thead>\n",
       "    <tr style=\"text-align: right;\">\n",
       "      <th></th>\n",
       "      <th>bin</th>\n",
       "      <th>#recs</th>\n",
       "      <th>#g</th>\n",
       "      <th>#b</th>\n",
       "      <th>%g</th>\n",
       "      <th>%b</th>\n",
       "      <th>tot</th>\n",
       "      <th>cg</th>\n",
       "      <th>cb</th>\n",
       "      <th>%cg</th>\n",
       "      <th>FDR</th>\n",
       "      <th>KS</th>\n",
       "      <th>FPR</th>\n",
       "    </tr>\n",
       "  </thead>\n",
       "  <tbody>\n",
       "    <tr>\n",
       "      <th>0</th>\n",
       "      <td>0.0</td>\n",
       "      <td>0.0</td>\n",
       "      <td>0.0</td>\n",
       "      <td>0.0</td>\n",
       "      <td>0.000000</td>\n",
       "      <td>0.000000</td>\n",
       "      <td>0.0</td>\n",
       "      <td>0.0</td>\n",
       "      <td>0.0</td>\n",
       "      <td>0.000000</td>\n",
       "      <td>0.000000</td>\n",
       "      <td>0.000000</td>\n",
       "      <td>0.000000</td>\n",
       "    </tr>\n",
       "    <tr>\n",
       "      <th>1</th>\n",
       "      <td>1.0</td>\n",
       "      <td>590.0</td>\n",
       "      <td>261.0</td>\n",
       "      <td>329.0</td>\n",
       "      <td>44.237288</td>\n",
       "      <td>55.762712</td>\n",
       "      <td>590.0</td>\n",
       "      <td>261.0</td>\n",
       "      <td>329.0</td>\n",
       "      <td>0.446933</td>\n",
       "      <td>53.758170</td>\n",
       "      <td>53.311237</td>\n",
       "      <td>0.793313</td>\n",
       "    </tr>\n",
       "    <tr>\n",
       "      <th>2</th>\n",
       "      <td>2.0</td>\n",
       "      <td>590.0</td>\n",
       "      <td>518.0</td>\n",
       "      <td>72.0</td>\n",
       "      <td>87.796610</td>\n",
       "      <td>12.203390</td>\n",
       "      <td>1180.0</td>\n",
       "      <td>779.0</td>\n",
       "      <td>401.0</td>\n",
       "      <td>1.333950</td>\n",
       "      <td>65.522876</td>\n",
       "      <td>64.188926</td>\n",
       "      <td>1.942643</td>\n",
       "    </tr>\n",
       "    <tr>\n",
       "      <th>3</th>\n",
       "      <td>3.0</td>\n",
       "      <td>590.0</td>\n",
       "      <td>551.0</td>\n",
       "      <td>39.0</td>\n",
       "      <td>93.389831</td>\n",
       "      <td>6.610169</td>\n",
       "      <td>1770.0</td>\n",
       "      <td>1330.0</td>\n",
       "      <td>440.0</td>\n",
       "      <td>2.277475</td>\n",
       "      <td>71.895425</td>\n",
       "      <td>69.617950</td>\n",
       "      <td>3.022727</td>\n",
       "    </tr>\n",
       "    <tr>\n",
       "      <th>4</th>\n",
       "      <td>4.0</td>\n",
       "      <td>590.0</td>\n",
       "      <td>573.0</td>\n",
       "      <td>17.0</td>\n",
       "      <td>97.118644</td>\n",
       "      <td>2.881356</td>\n",
       "      <td>2360.0</td>\n",
       "      <td>1903.0</td>\n",
       "      <td>457.0</td>\n",
       "      <td>3.258673</td>\n",
       "      <td>74.673203</td>\n",
       "      <td>71.414529</td>\n",
       "      <td>4.164114</td>\n",
       "    </tr>\n",
       "    <tr>\n",
       "      <th>...</th>\n",
       "      <td>...</td>\n",
       "      <td>...</td>\n",
       "      <td>...</td>\n",
       "      <td>...</td>\n",
       "      <td>...</td>\n",
       "      <td>...</td>\n",
       "      <td>...</td>\n",
       "      <td>...</td>\n",
       "      <td>...</td>\n",
       "      <td>...</td>\n",
       "      <td>...</td>\n",
       "      <td>...</td>\n",
       "      <td>...</td>\n",
       "    </tr>\n",
       "    <tr>\n",
       "      <th>96</th>\n",
       "      <td>96.0</td>\n",
       "      <td>590.0</td>\n",
       "      <td>590.0</td>\n",
       "      <td>0.0</td>\n",
       "      <td>100.000000</td>\n",
       "      <td>0.000000</td>\n",
       "      <td>56650.0</td>\n",
       "      <td>56038.0</td>\n",
       "      <td>612.0</td>\n",
       "      <td>95.958766</td>\n",
       "      <td>100.000000</td>\n",
       "      <td>4.041234</td>\n",
       "      <td>91.565359</td>\n",
       "    </tr>\n",
       "    <tr>\n",
       "      <th>97</th>\n",
       "      <td>97.0</td>\n",
       "      <td>590.0</td>\n",
       "      <td>590.0</td>\n",
       "      <td>0.0</td>\n",
       "      <td>100.000000</td>\n",
       "      <td>0.000000</td>\n",
       "      <td>57240.0</td>\n",
       "      <td>56628.0</td>\n",
       "      <td>612.0</td>\n",
       "      <td>96.969074</td>\n",
       "      <td>100.000000</td>\n",
       "      <td>3.030926</td>\n",
       "      <td>92.529412</td>\n",
       "    </tr>\n",
       "    <tr>\n",
       "      <th>98</th>\n",
       "      <td>98.0</td>\n",
       "      <td>590.0</td>\n",
       "      <td>590.0</td>\n",
       "      <td>0.0</td>\n",
       "      <td>100.000000</td>\n",
       "      <td>0.000000</td>\n",
       "      <td>57830.0</td>\n",
       "      <td>57218.0</td>\n",
       "      <td>612.0</td>\n",
       "      <td>97.979383</td>\n",
       "      <td>100.000000</td>\n",
       "      <td>2.020617</td>\n",
       "      <td>93.493464</td>\n",
       "    </tr>\n",
       "    <tr>\n",
       "      <th>99</th>\n",
       "      <td>99.0</td>\n",
       "      <td>590.0</td>\n",
       "      <td>590.0</td>\n",
       "      <td>0.0</td>\n",
       "      <td>100.000000</td>\n",
       "      <td>0.000000</td>\n",
       "      <td>58420.0</td>\n",
       "      <td>57808.0</td>\n",
       "      <td>612.0</td>\n",
       "      <td>98.989691</td>\n",
       "      <td>100.000000</td>\n",
       "      <td>1.010309</td>\n",
       "      <td>94.457516</td>\n",
       "    </tr>\n",
       "    <tr>\n",
       "      <th>100</th>\n",
       "      <td>100.0</td>\n",
       "      <td>590.0</td>\n",
       "      <td>590.0</td>\n",
       "      <td>0.0</td>\n",
       "      <td>100.000000</td>\n",
       "      <td>0.000000</td>\n",
       "      <td>59010.0</td>\n",
       "      <td>58398.0</td>\n",
       "      <td>612.0</td>\n",
       "      <td>100.000000</td>\n",
       "      <td>100.000000</td>\n",
       "      <td>0.000000</td>\n",
       "      <td>95.421569</td>\n",
       "    </tr>\n",
       "  </tbody>\n",
       "</table>\n",
       "<p>101 rows × 13 columns</p>\n",
       "</div>"
      ],
      "text/plain": [
       "       bin  #recs     #g     #b          %g         %b      tot       cg  \\\n",
       "0      0.0    0.0    0.0    0.0    0.000000   0.000000      0.0      0.0   \n",
       "1      1.0  590.0  261.0  329.0   44.237288  55.762712    590.0    261.0   \n",
       "2      2.0  590.0  518.0   72.0   87.796610  12.203390   1180.0    779.0   \n",
       "3      3.0  590.0  551.0   39.0   93.389831   6.610169   1770.0   1330.0   \n",
       "4      4.0  590.0  573.0   17.0   97.118644   2.881356   2360.0   1903.0   \n",
       "..     ...    ...    ...    ...         ...        ...      ...      ...   \n",
       "96    96.0  590.0  590.0    0.0  100.000000   0.000000  56650.0  56038.0   \n",
       "97    97.0  590.0  590.0    0.0  100.000000   0.000000  57240.0  56628.0   \n",
       "98    98.0  590.0  590.0    0.0  100.000000   0.000000  57830.0  57218.0   \n",
       "99    99.0  590.0  590.0    0.0  100.000000   0.000000  58420.0  57808.0   \n",
       "100  100.0  590.0  590.0    0.0  100.000000   0.000000  59010.0  58398.0   \n",
       "\n",
       "        cb         %cg         FDR         KS        FPR  \n",
       "0      0.0    0.000000    0.000000   0.000000   0.000000  \n",
       "1    329.0    0.446933   53.758170  53.311237   0.793313  \n",
       "2    401.0    1.333950   65.522876  64.188926   1.942643  \n",
       "3    440.0    2.277475   71.895425  69.617950   3.022727  \n",
       "4    457.0    3.258673   74.673203  71.414529   4.164114  \n",
       "..     ...         ...         ...        ...        ...  \n",
       "96   612.0   95.958766  100.000000   4.041234  91.565359  \n",
       "97   612.0   96.969074  100.000000   3.030926  92.529412  \n",
       "98   612.0   97.979383  100.000000   2.020617  93.493464  \n",
       "99   612.0   98.989691  100.000000   1.010309  94.457516  \n",
       "100  612.0  100.000000  100.000000   0.000000  95.421569  \n",
       "\n",
       "[101 rows x 13 columns]"
      ]
     },
     "execution_count": 40,
     "metadata": {},
     "output_type": "execute_result"
    }
   ],
   "source": [
    "for i in range(101):\n",
    "    percent_rows_trn = int(round(X_trn_eval.shape[0]*0.01*i))\n",
    "    percent_rows_tst = int(round(X_tst_eval.shape[0]*0.01*i))\n",
    "    percent_rows_oot = int(round(X_oot_eval.shape[0]*0.01*i))\n",
    "    temp_trn = trn_sorted.head(percent_rows_trn)\n",
    "    temp_tst = tst_sorted.head(percent_rows_tst)\n",
    "    temp_oot = oot_sorted.head(percent_rows_oot)\n",
    "    num_bad_trn = sum(temp_trn.loc[:,'Fraud'])\n",
    "    num_bad_tst = sum(temp_tst.loc[:,'Fraud'])\n",
    "    num_bad_oot = sum(temp_oot.loc[:,'Fraud'])\n",
    "    num_tot_trn = len(temp_trn)\n",
    "    num_tot_tst = len(temp_tst)\n",
    "    num_tot_oot = len(temp_oot)\n",
    "    num_good_trn = num_tot_trn - num_bad_trn\n",
    "    num_good_tst = num_tot_tst - num_bad_tst\n",
    "    num_good_oot = num_tot_oot - num_bad_oot\n",
    "    \n",
    "    FDR_trn.loc[i, 'bin'] = i\n",
    "    FDR_trn.loc[i,'#recs'] = 0\n",
    "    FDR_trn.loc[i, 'tot'] = num_tot_trn\n",
    "    FDR_trn.loc[i, 'cg'] = num_good_trn\n",
    "    FDR_trn.loc[i, 'cb'] = num_bad_trn\n",
    "    FDR_tst.loc[i, 'bin'] = i\n",
    "    FDR_tst.loc[i, 'tot'] = num_tot_tst\n",
    "    FDR_tst.loc[i, 'cg'] = num_good_tst\n",
    "    FDR_tst.loc[i, 'cb'] = num_bad_tst\n",
    "    FDR_oot.loc[i, 'bin'] = i\n",
    "    FDR_oot.loc[i, 'tot'] = num_tot_oot\n",
    "    FDR_oot.loc[i, 'cg'] = num_good_oot\n",
    "    FDR_oot.loc[i, 'cb'] = num_bad_oot\n",
    "    if i != 0:\n",
    "        FDR_trn.loc[i, '#g'] = num_good_trn - FDR_trn.loc[i-1, 'cg']\n",
    "        FDR_trn.loc[i, '#b'] = num_bad_trn - FDR_trn.loc[i-1, 'cb']\n",
    "        FDR_trn.loc[i,'#recs'] = FDR_trn.loc[i, '#g'] + FDR_trn.loc[i, '#b']\n",
    "        FDR_trn.loc[i, '%g'] = 100* (num_good_trn - FDR_trn.loc[i-1, 'cg']) / (num_tot_trn - FDR_trn.loc[i-1, 'tot'])\n",
    "        FDR_trn.loc[i, '%b'] = 100 - FDR_trn.loc[i, '%g']\n",
    "        FDR_trn.loc[i, '%cg'] = 100 * num_good_trn / good_tot_trn\n",
    "        FDR_trn.loc[i, 'FDR'] = 100 * num_bad_trn / bad_tot_trn\n",
    "        FDR_trn.loc[i, 'KS'] = FDR_trn.loc[i, 'FDR'] - FDR_trn.loc[i, '%cg']\n",
    "        FDR_trn.loc[i, 'FPR'] = num_good_trn / num_bad_trn\n",
    "        FDR_tst.loc[i, '#g'] = num_good_tst - FDR_tst.loc[i-1, 'cg']\n",
    "        FDR_tst.loc[i, '#b'] = num_bad_tst - FDR_tst.loc[i-1, 'cb']\n",
    "        FDR_tst.loc[i,'#recs'] = FDR_tst.loc[i, '#g'] + FDR_tst.loc[i, '#b']\n",
    "        FDR_tst.loc[i, '%g'] = 100* (num_good_tst - FDR_tst.loc[i-1, 'cg']) / (num_tot_tst - FDR_tst.loc[i-1, 'tot'])\n",
    "        FDR_tst.loc[i, '%b'] = 100 - FDR_tst.loc[i, '%g']\n",
    "        FDR_tst.loc[i, '%cg'] = 100 * num_good_tst / good_tot_tst\n",
    "        FDR_tst.loc[i, 'FDR'] = 100 * num_bad_tst / bad_tot_tst\n",
    "        FDR_tst.loc[i, 'KS'] = FDR_tst.loc[i, 'FDR'] - FDR_tst.loc[i, '%cg']\n",
    "        FDR_tst.loc[i, 'FPR'] = num_good_tst / num_bad_tst\n",
    "        FDR_oot.loc[i, '#g'] = num_good_oot - FDR_oot.loc[i-1, 'cg']\n",
    "        FDR_oot.loc[i, '#b'] = num_bad_oot - FDR_oot.loc[i-1, 'cb']\n",
    "        FDR_oot.loc[i,'#recs'] = FDR_oot.loc[i, '#g'] + FDR_oot.loc[i, '#b']\n",
    "        FDR_oot.loc[i, '%g'] = 100* (num_good_oot - FDR_oot.loc[i-1, 'cg']) / (num_tot_oot - FDR_oot.loc[i-1, 'tot'])\n",
    "        FDR_oot.loc[i, '%b'] = 100 - FDR_oot.loc[i, '%g']\n",
    "        FDR_oot.loc[i, '%cg'] = 100 * num_good_oot / good_tot_oot\n",
    "        FDR_oot.loc[i, 'FDR'] = 100 * num_bad_oot / bad_tot_oot\n",
    "        FDR_oot.loc[i, 'KS'] = FDR_oot.loc[i, 'FDR'] - FDR_oot.loc[i, '%cg']\n",
    "        FDR_oot.loc[i, 'FPR'] = num_good_oot / num_bad_oot\n",
    "\n",
    "FDR_trn"
   ]
  },
  {
   "cell_type": "code",
   "execution_count": null,
   "metadata": {
    "cell_id": "00036-39f13684-06f9-4ce1-aa49-f2ca57380ae7",
    "deepnote_cell_height": 81,
    "deepnote_cell_type": "code",
    "deepnote_to_be_reexecuted": false,
    "execution_millis": 5,
    "execution_start": 1651562543535,
    "source_hash": "98afac91"
   },
   "outputs": [],
   "source": [
    "FDR3.to_csv('FDR3.csv')"
   ]
  },
  {
   "cell_type": "code",
   "execution_count": null,
   "metadata": {
    "cell_id": "00037-232708cb-a36d-49d8-ba55-7aa5cf1ac40f",
    "deepnote_cell_height": 117,
    "deepnote_cell_type": "code",
    "deepnote_to_be_reexecuted": false,
    "execution_millis": 16,
    "execution_start": 1651562546440,
    "source_hash": "86b217aa"
   },
   "outputs": [],
   "source": [
    "FDR_trn.to_csv('FDR_trn.csv', index=False)\n",
    "FDR_tst.to_csv('FDR_tst.csv', index=False)\n",
    "FDR_oot.to_csv('FDR_oot.csv', index=False)"
   ]
  },
  {
   "cell_type": "code",
   "execution_count": null,
   "metadata": {
    "cell_id": "00038-4a74400b-210d-457e-abe0-32270d601990",
    "deepnote_cell_height": 111.6875,
    "deepnote_cell_type": "code",
    "deepnote_to_be_reexecuted": false,
    "execution_millis": 4,
    "execution_start": 1651428048413,
    "owner_user_id": "4f825b14-81e7-41e0-8e15-624ee0c3864d",
    "source_hash": "eb2efd18"
   },
   "outputs": [
    {
     "name": "stdout",
     "output_type": "stream",
     "text": [
      "duration:  0:03:34.114054\n"
     ]
    }
   ],
   "source": [
    "print(\"duration: \", datetime.now() - start_time)"
   ]
  },
  {
   "cell_type": "markdown",
   "metadata": {
    "cell_id": "3ee3f377d57046ed9d8c035b106c0930",
    "deepnote_cell_height": 62,
    "deepnote_cell_type": "markdown",
    "tags": []
   },
   "source": [
    "### Cutoff Plot"
   ]
  },
  {
   "cell_type": "code",
   "execution_count": 1,
   "metadata": {
    "cell_id": "5567891ca5e64c3aa83ff54aad9ea1f9",
    "deepnote_cell_height": 81,
    "deepnote_cell_type": "code",
    "deepnote_to_be_reexecuted": false,
    "execution_millis": 2,
    "execution_start": 1651796803917,
    "source_hash": "9b82ee11",
    "tags": []
   },
   "outputs": [],
   "source": [
    "import pandas as pd"
   ]
  },
  {
   "cell_type": "code",
   "execution_count": 2,
   "metadata": {
    "cell_id": "0f6e3dae3d5a4aa39868449ec2055327",
    "deepnote_cell_height": 135,
    "deepnote_cell_type": "code",
    "deepnote_to_be_reexecuted": false,
    "execution_millis": 20,
    "execution_start": 1651796812133,
    "source_hash": "8f04b977",
    "tags": []
   },
   "outputs": [],
   "source": [
    "FDR_oot_graph = pd.read_csv('FDR_oot.csv')\n",
    "FDR_oot_graph['Fraud Savings'] = FDR_oot_graph['cb'] * 2000\n",
    "FDR_oot_graph['Good Loss'] = FDR_oot_graph['cg'] * 50\n",
    "FDR_oot_graph['Overall Savings'] = FDR_oot_graph['Fraud Savings'] - FDR_oot_graph['Good Loss']"
   ]
  },
  {
   "cell_type": "code",
   "execution_count": 52,
   "metadata": {
    "cell_id": "c881da7edfe141438fd452634df02904",
    "deepnote_cell_height": 1147.5,
    "deepnote_cell_type": "code",
    "deepnote_output_heights": [
     582.5,
     582.5
    ],
    "deepnote_to_be_reexecuted": false,
    "execution_millis": 387,
    "execution_start": 1651798459317,
    "source_hash": "e32b0721",
    "tags": []
   },
   "outputs": [
    {
     "data": {
      "image/png": "[encoded data removed]",
      "text/plain": [
       "<Figure size 1440x1008 with 1 Axes>"
      ]
     },
     "metadata": {
      "image/png": {
       "height": 854,
       "width": 1274
      }
     },
     "output_type": "display_data"
    }
   ],
   "source": [
    "import matplotlib.pyplot as plt\n",
    "plt.style.use('ggplot')\n",
    "\n",
    "fig, ax = plt.subplots()\n",
    "plt.rcParams.update({'font.size': 20})\n",
    "plt.title('Fraud Savings Cutoff Graph',fontsize=24)\n",
    "plt.ylim(0,400000)\n",
    "plt.xlim(0,50)\n",
    "plt.xlabel('OOT Population % Bins',fontsize=24)\n",
    "plt.ylabel('Amounts',fontsize=24)\n",
    "plt.rcParams[\"figure.figsize\"] = (20,14)\n",
    "plt.plot(FDR_oot_graph['bin'][1:101], FDR_oot_graph['Fraud Savings'][1:101], label = \"Fraud Savings\",\n",
    "            color=\"#8ed3c7\", linewidth=3.75)\n",
    "plt.plot(FDR_oot_graph['bin'][1:101], FDR_oot_graph['Good Loss'][1:101], label = \"Lost Sales\",\n",
    "            color=\"#ffffb3\", linewidth=3.75)\n",
    "plt.plot(FDR_oot_graph['bin'][1:101], FDR_oot_graph['Overall Savings'][1:101], label = \"Overall Savings\",\n",
    "            color=\"#beb9da\", linewidth=3.75)\n",
    "plt.vlines(x=3, ymin=0,ymax=400000, color='#fb8072', linestyle='dotted', linewidth=4)\n",
    "ax.yaxis.set_major_formatter('${x:,.0f}') #:,\n",
    "ax.legend(loc='upper left', bbox_to_anchor=(0.78,0.55))\n",
    "#ax.tick_params(axis='both', which='minor', labelsize=16)\n",
    "ax.tick_params(axis='both', which='major', labelsize=20)\n",
    "ax.text(3, -.011, '3', color='#fb8072', transform=ax.get_xaxis_transform(),\n",
    "            ha='center', va='top')\n",
    "plt.rcParams[\"legend.loc\"] = 'right'\n",
    "plt.legend(facecolor='#d3d3d3', edgecolor=\"black\", framealpha=1)\n",
    "plt.show()"
   ]
  },
  {
   "cell_type": "code",
   "execution_count": 53,
   "metadata": {
    "cell_id": "8e1ddc31b00a423794014654c82f604a",
    "deepnote_cell_height": 600,
    "deepnote_cell_type": "code",
    "deepnote_to_be_reexecuted": false,
    "execution_millis": 29,
    "execution_start": 1651799170528,
    "scrolled": false,
    "source_hash": "8318998b",
    "tags": []
   },
   "outputs": [
    {
     "data": {
      "application/vnd.deepnote.dataframe.v3+json": {
       "column_count": 16,
       "columns": [
        {
         "dtype": "float64",
         "name": "bin",
         "stats": {
          "histogram": [
           {
            "bin_end": 10,
            "bin_start": 0,
            "count": 10
           },
           {
            "bin_end": 20,
            "bin_start": 10,
            "count": 10
           },
           {
            "bin_end": 30,
            "bin_start": 20,
            "count": 10
           },
           {
            "bin_end": 40,
            "bin_start": 30,
            "count": 10
           },
           {
            "bin_end": 50,
            "bin_start": 40,
            "count": 10
           },
           {
            "bin_end": 60,
            "bin_start": 50,
            "count": 10
           },
           {
            "bin_end": 70,
            "bin_start": 60,
            "count": 10
           },
           {
            "bin_end": 80,
            "bin_start": 70,
            "count": 10
           },
           {
            "bin_end": 90,
            "bin_start": 80,
            "count": 10
           },
           {
            "bin_end": 100,
            "bin_start": 90,
            "count": 11
           }
          ],
          "max": "100.0",
          "min": "0.0",
          "nan_count": 0,
          "unique_count": 101
         }
        },
        {
         "dtype": "float64",
         "name": "#recs",
         "stats": {
          "histogram": [
           {
            "bin_end": 12.1,
            "bin_start": 0,
            "count": 1
           },
           {
            "bin_end": 24.2,
            "bin_start": 12.1,
            "count": 0
           },
           {
            "bin_end": 36.3,
            "bin_start": 24.2,
            "count": 0
           },
           {
            "bin_end": 48.4,
            "bin_start": 36.3,
            "count": 0
           },
           {
            "bin_end": 60.5,
            "bin_start": 48.4,
            "count": 0
           },
           {
            "bin_end": 72.6,
            "bin_start": 60.5,
            "count": 0
           },
           {
            "bin_end": 84.7,
            "bin_start": 72.6,
            "count": 0
           },
           {
            "bin_end": 96.8,
            "bin_start": 84.7,
            "count": 0
           },
           {
            "bin_end": 108.89999999999999,
            "bin_start": 96.8,
            "count": 0
           },
           {
            "bin_end": 121,
            "bin_start": 108.89999999999999,
            "count": 100
           }
          ],
          "max": "121.0",
          "min": "0.0",
          "nan_count": 0,
          "unique_count": 3
         }
        },
        {
         "dtype": "float64",
         "name": "#g",
         "stats": {
          "histogram": [
           {
            "bin_end": 12.1,
            "bin_start": 0,
            "count": 1
           },
           {
            "bin_end": 24.2,
            "bin_start": 12.1,
            "count": 0
           },
           {
            "bin_end": 36.3,
            "bin_start": 24.2,
            "count": 0
           },
           {
            "bin_end": 48.4,
            "bin_start": 36.3,
            "count": 0
           },
           {
            "bin_end": 60.5,
            "bin_start": 48.4,
            "count": 0
           },
           {
            "bin_end": 72.6,
            "bin_start": 60.5,
            "count": 0
           },
           {
            "bin_end": 84.7,
            "bin_start": 72.6,
            "count": 1
           },
           {
            "bin_end": 96.8,
            "bin_start": 84.7,
            "count": 2
           },
           {
            "bin_end": 108.89999999999999,
            "bin_start": 96.8,
            "count": 0
           },
           {
            "bin_end": 121,
            "bin_start": 108.89999999999999,
            "count": 97
           }
          ],
          "max": "121.0",
          "min": "0.0",
          "nan_count": 0,
          "unique_count": 12
         }
        },
        {
         "dtype": "float64",
         "name": "#b",
         "stats": {
          "histogram": [
           {
            "bin_end": 4.5,
            "bin_start": 0,
            "count": 95
           },
           {
            "bin_end": 9,
            "bin_start": 4.5,
            "count": 2
           },
           {
            "bin_end": 13.5,
            "bin_start": 9,
            "count": 1
           },
           {
            "bin_end": 18,
            "bin_start": 13.5,
            "count": 0
           },
           {
            "bin_end": 22.5,
            "bin_start": 18,
            "count": 0
           },
           {
            "bin_end": 27,
            "bin_start": 22.5,
            "count": 0
           },
           {
            "bin_end": 31.5,
            "bin_start": 27,
            "count": 1
           },
           {
            "bin_end": 36,
            "bin_start": 31.5,
            "count": 1
           },
           {
            "bin_end": 40.5,
            "bin_start": 36,
            "count": 0
           },
           {
            "bin_end": 45,
            "bin_start": 40.5,
            "count": 1
           }
          ],
          "max": "45.0",
          "min": "0.0",
          "nan_count": 0,
          "unique_count": 11
         }
        },
        {
         "dtype": "float64",
         "name": "%g",
         "stats": {
          "histogram": [
           {
            "bin_end": 10,
            "bin_start": 0,
            "count": 1
           },
           {
            "bin_end": 20,
            "bin_start": 10,
            "count": 0
           },
           {
            "bin_end": 30,
            "bin_start": 20,
            "count": 0
           },
           {
            "bin_end": 40,
            "bin_start": 30,
            "count": 0
           },
           {
            "bin_end": 50,
            "bin_start": 40,
            "count": 0
           },
           {
            "bin_end": 60,
            "bin_start": 50,
            "count": 0
           },
           {
            "bin_end": 70,
            "bin_start": 60,
            "count": 1
           },
           {
            "bin_end": 80,
            "bin_start": 70,
            "count": 2
           },
           {
            "bin_end": 90,
            "bin_start": 80,
            "count": 0
           },
           {
            "bin_end": 100,
            "bin_start": 90,
            "count": 97
           }
          ],
          "max": "100.0",
          "min": "0.0",
          "nan_count": 0,
          "unique_count": 12
         }
        },
        {
         "dtype": "float64",
         "name": "%b",
         "stats": {
          "histogram": [
           {
            "bin_end": 3.71900826446281,
            "bin_start": 0,
            "count": 95
           },
           {
            "bin_end": 7.43801652892562,
            "bin_start": 3.71900826446281,
            "count": 3
           },
           {
            "bin_end": 11.15702479338843,
            "bin_start": 7.43801652892562,
            "count": 0
           },
           {
            "bin_end": 14.87603305785124,
            "bin_start": 11.15702479338843,
            "count": 0
           },
           {
            "bin_end": 18.59504132231405,
            "bin_start": 14.87603305785124,
            "count": 0
           },
           {
            "bin_end": 22.31404958677686,
            "bin_start": 18.59504132231405,
            "count": 0
           },
           {
            "bin_end": 26.03305785123967,
            "bin_start": 22.31404958677686,
            "count": 1
           },
           {
            "bin_end": 29.75206611570248,
            "bin_start": 26.03305785123967,
            "count": 1
           },
           {
            "bin_end": 33.47107438016529,
            "bin_start": 29.75206611570248,
            "count": 0
           },
           {
            "bin_end": 37.1900826446281,
            "bin_start": 33.47107438016529,
            "count": 1
           }
          ],
          "max": "37.1900826446281",
          "min": "0.0",
          "nan_count": 0,
          "unique_count": 11
         }
        },
        {
         "dtype": "float64",
         "name": "tot",
         "stats": {
          "histogram": [
           {
            "bin_end": 1209.7,
            "bin_start": 0,
            "count": 10
           },
           {
            "bin_end": 2419.4,
            "bin_start": 1209.7,
            "count": 11
           },
           {
            "bin_end": 3629.1000000000004,
            "bin_start": 2419.4,
            "count": 10
           },
           {
            "bin_end": 4838.8,
            "bin_start": 3629.1000000000004,
            "count": 9
           },
           {
            "bin_end": 6048.5,
            "bin_start": 4838.8,
            "count": 11
           },
           {
            "bin_end": 7258.200000000001,
            "bin_start": 6048.5,
            "count": 10
           },
           {
            "bin_end": 8467.9,
            "bin_start": 7258.200000000001,
            "count": 9
           },
           {
            "bin_end": 9677.6,
            "bin_start": 8467.9,
            "count": 10
           },
           {
            "bin_end": 10887.300000000001,
            "bin_start": 9677.6,
            "count": 11
           },
           {
            "bin_end": 12097,
            "bin_start": 10887.300000000001,
            "count": 10
           }
          ],
          "max": "12097.0",
          "min": "0.0",
          "nan_count": 0,
          "unique_count": 101
         }
        },
        {
         "dtype": "float64",
         "name": "cg",
         "stats": {
          "histogram": [
           {
            "bin_end": 1191.8,
            "bin_start": 0,
            "count": 11
           },
           {
            "bin_end": 2383.6,
            "bin_start": 1191.8,
            "count": 10
           },
           {
            "bin_end": 3575.3999999999996,
            "bin_start": 2383.6,
            "count": 10
           },
           {
            "bin_end": 4767.2,
            "bin_start": 3575.3999999999996,
            "count": 10
           },
           {
            "bin_end": 5959,
            "bin_start": 4767.2,
            "count": 10
           },
           {
            "bin_end": 7150.799999999999,
            "bin_start": 5959,
            "count": 10
           },
           {
            "bin_end": 8342.6,
            "bin_start": 7150.799999999999,
            "count": 10
           },
           {
            "bin_end": 9534.4,
            "bin_start": 8342.6,
            "count": 10
           },
           {
            "bin_end": 10726.199999999999,
            "bin_start": 9534.4,
            "count": 10
           },
           {
            "bin_end": 11918,
            "bin_start": 10726.199999999999,
            "count": 10
           }
          ],
          "max": "11918.0",
          "min": "0.0",
          "nan_count": 0,
          "unique_count": 101
         }
        },
        {
         "dtype": "float64",
         "name": "cb",
         "stats": {
          "histogram": [
           {
            "bin_end": 17.9,
            "bin_start": 0,
            "count": 1
           },
           {
            "bin_end": 35.8,
            "bin_start": 17.9,
            "count": 0
           },
           {
            "bin_end": 53.699999999999996,
            "bin_start": 35.8,
            "count": 1
           },
           {
            "bin_end": 71.6,
            "bin_start": 53.699999999999996,
            "count": 0
           },
           {
            "bin_end": 89.5,
            "bin_start": 71.6,
            "count": 1
           },
           {
            "bin_end": 107.39999999999999,
            "bin_start": 89.5,
            "count": 0
           },
           {
            "bin_end": 125.29999999999998,
            "bin_start": 107.39999999999999,
            "count": 3
           },
           {
            "bin_end": 143.2,
            "bin_start": 125.29999999999998,
            "count": 7
           },
           {
            "bin_end": 161.1,
            "bin_start": 143.2,
            "count": 13
           },
           {
            "bin_end": 179,
            "bin_start": 161.1,
            "count": 75
           }
          ],
          "max": "179.0",
          "min": "0.0",
          "nan_count": 0,
          "unique_count": 34
         }
        },
        {
         "dtype": "float64",
         "name": "%cg",
         "stats": {
          "histogram": [
           {
            "bin_end": 10,
            "bin_start": 0,
            "count": 11
           },
           {
            "bin_end": 20,
            "bin_start": 10,
            "count": 10
           },
           {
            "bin_end": 30,
            "bin_start": 20,
            "count": 10
           },
           {
            "bin_end": 40,
            "bin_start": 30,
            "count": 10
           },
           {
            "bin_end": 50,
            "bin_start": 40,
            "count": 10
           },
           {
            "bin_end": 60,
            "bin_start": 50,
            "count": 10
           },
           {
            "bin_end": 70,
            "bin_start": 60,
            "count": 10
           },
           {
            "bin_end": 80,
            "bin_start": 70,
            "count": 10
           },
           {
            "bin_end": 90,
            "bin_start": 80,
            "count": 10
           },
           {
            "bin_end": 100,
            "bin_start": 90,
            "count": 10
           }
          ],
          "max": "100.0",
          "min": "0.0",
          "nan_count": 0,
          "unique_count": 101
         }
        },
        {
         "dtype": "float64",
         "name": "FDR",
         "stats": {
          "histogram": [
           {
            "bin_end": 10,
            "bin_start": 0,
            "count": 1
           },
           {
            "bin_end": 20,
            "bin_start": 10,
            "count": 0
           },
           {
            "bin_end": 30,
            "bin_start": 20,
            "count": 1
           },
           {
            "bin_end": 40,
            "bin_start": 30,
            "count": 0
           },
           {
            "bin_end": 50,
            "bin_start": 40,
            "count": 1
           },
           {
            "bin_end": 60,
            "bin_start": 50,
            "count": 0
           },
           {
            "bin_end": 70,
            "bin_start": 60,
            "count": 3
           },
           {
            "bin_end": 80,
            "bin_start": 70,
            "count": 7
           },
           {
            "bin_end": 90,
            "bin_start": 80,
            "count": 13
           },
           {
            "bin_end": 100,
            "bin_start": 90,
            "count": 75
           }
          ],
          "max": "100.0",
          "min": "0.0",
          "nan_count": 0,
          "unique_count": 34
         }
        },
        {
         "dtype": "float64",
         "name": "KS",
         "stats": {
          "histogram": [
           {
            "bin_end": 6.982841783846977,
            "bin_start": 0,
            "count": 8
           },
           {
            "bin_end": 13.965683567693954,
            "bin_start": 6.982841783846977,
            "count": 7
           },
           {
            "bin_end": 20.94852535154093,
            "bin_start": 13.965683567693954,
            "count": 7
           },
           {
            "bin_end": 27.93136713538791,
            "bin_start": 20.94852535154093,
            "count": 9
           },
           {
            "bin_end": 34.91420891923489,
            "bin_start": 27.93136713538791,
            "count": 8
           },
           {
            "bin_end": 41.89705070308186,
            "bin_start": 34.91420891923489,
            "count": 8
           },
           {
            "bin_end": 48.87989248692884,
            "bin_start": 41.89705070308186,
            "count": 7
           },
           {
            "bin_end": 55.86273427077582,
            "bin_start": 48.87989248692884,
            "count": 7
           },
           {
            "bin_end": 62.845576054622796,
            "bin_start": 55.86273427077582,
            "count": 12
           },
           {
            "bin_end": 69.82841783846978,
            "bin_start": 62.845576054622796,
            "count": 28
           }
          ],
          "max": "69.82841783846978",
          "min": "0.0",
          "nan_count": 0,
          "unique_count": 100
         }
        },
        {
         "dtype": "float64",
         "name": "FPR",
         "stats": {
          "histogram": [
           {
            "bin_end": 6.658100558659219,
            "bin_start": 0,
            "count": 9
           },
           {
            "bin_end": 13.316201117318437,
            "bin_start": 6.658100558659219,
            "count": 9
           },
           {
            "bin_end": 19.974301675977657,
            "bin_start": 13.316201117318437,
            "count": 11
           },
           {
            "bin_end": 26.632402234636874,
            "bin_start": 19.974301675977657,
            "count": 11
           },
           {
            "bin_end": 33.29050279329609,
            "bin_start": 26.632402234636874,
            "count": 10
           },
           {
            "bin_end": 39.94860335195531,
            "bin_start": 33.29050279329609,
            "count": 10
           },
           {
            "bin_end": 46.60670391061453,
            "bin_start": 39.94860335195531,
            "count": 10
           },
           {
            "bin_end": 53.26480446927375,
            "bin_start": 46.60670391061453,
            "count": 11
           },
           {
            "bin_end": 59.92290502793297,
            "bin_start": 53.26480446927375,
            "count": 10
           },
           {
            "bin_end": 66.58100558659218,
            "bin_start": 59.92290502793297,
            "count": 10
           }
          ],
          "max": "66.58100558659218",
          "min": "0.0",
          "nan_count": 0,
          "unique_count": 101
         }
        },
        {
         "dtype": "float64",
         "name": "Fraud Savings",
         "stats": {
          "histogram": [
           {
            "bin_end": 35800,
            "bin_start": 0,
            "count": 1
           },
           {
            "bin_end": 71600,
            "bin_start": 35800,
            "count": 0
           },
           {
            "bin_end": 107400,
            "bin_start": 71600,
            "count": 1
           },
           {
            "bin_end": 143200,
            "bin_start": 107400,
            "count": 0
           },
           {
            "bin_end": 179000,
            "bin_start": 143200,
            "count": 1
           },
           {
            "bin_end": 214800,
            "bin_start": 179000,
            "count": 0
           },
           {
            "bin_end": 250600,
            "bin_start": 214800,
            "count": 3
           },
           {
            "bin_end": 286400,
            "bin_start": 250600,
            "count": 7
           },
           {
            "bin_end": 322200,
            "bin_start": 286400,
            "count": 13
           },
           {
            "bin_end": 358000,
            "bin_start": 322200,
            "count": 75
           }
          ],
          "max": "358000.0",
          "min": "0.0",
          "nan_count": 0,
          "unique_count": 34
         }
        },
        {
         "dtype": "float64",
         "name": "Good Loss",
         "stats": {
          "histogram": [
           {
            "bin_end": 59590,
            "bin_start": 0,
            "count": 11
           },
           {
            "bin_end": 119180,
            "bin_start": 59590,
            "count": 10
           },
           {
            "bin_end": 178770,
            "bin_start": 119180,
            "count": 10
           },
           {
            "bin_end": 238360,
            "bin_start": 178770,
            "count": 10
           },
           {
            "bin_end": 297950,
            "bin_start": 238360,
            "count": 10
           },
           {
            "bin_end": 357540,
            "bin_start": 297950,
            "count": 10
           },
           {
            "bin_end": 417130,
            "bin_start": 357540,
            "count": 10
           },
           {
            "bin_end": 476720,
            "bin_start": 417130,
            "count": 10
           },
           {
            "bin_end": 536310,
            "bin_start": 476720,
            "count": 10
           },
           {
            "bin_end": 595900,
            "bin_start": 536310,
            "count": 10
           }
          ],
          "max": "595900.0",
          "min": "0.0",
          "nan_count": 0,
          "unique_count": 101
         }
        },
        {
         "dtype": "float64",
         "name": "Overall Savings",
         "stats": {
          "histogram": [
           {
            "bin_end": -191675,
            "bin_start": -237900,
            "count": 8
           },
           {
            "bin_end": -145450,
            "bin_start": -191675,
            "count": 8
           },
           {
            "bin_end": -99225,
            "bin_start": -145450,
            "count": 8
           },
           {
            "bin_end": -53000,
            "bin_start": -99225,
            "count": 8
           },
           {
            "bin_end": -6775,
            "bin_start": -53000,
            "count": 8
           },
           {
            "bin_end": 39450,
            "bin_start": -6775,
            "count": 9
           },
           {
            "bin_end": 85675,
            "bin_start": 39450,
            "count": 8
           },
           {
            "bin_end": 131900,
            "bin_start": 85675,
            "count": 9
           },
           {
            "bin_end": 178125,
            "bin_start": 131900,
            "count": 13
           },
           {
            "bin_end": 224350,
            "bin_start": 178125,
            "count": 22
           }
          ],
          "max": "224350.0",
          "min": "-237900.0",
          "nan_count": 0,
          "unique_count": 101
         }
        },
        {
         "dtype": "int64",
         "name": "_deepnote_index_column"
        }
       ],
       "row_count": 101,
       "rows": [
        {
         "#b": 0,
         "#g": 0,
         "#recs": 0,
         "%b": 0,
         "%cg": 0,
         "%g": 0,
         "FDR": 0,
         "FPR": 0,
         "Fraud Savings": 0,
         "Good Loss": 0,
         "KS": 0,
         "Overall Savings": 0,
         "_deepnote_index_column": 0,
         "bin": 0,
         "cb": 0,
         "cg": 0,
         "tot": 0
        },
        {
         "#b": 45,
         "#g": 76,
         "#recs": 121,
         "%b": 37.1900826446281,
         "%cg": 0.6376908877328411,
         "%g": 62.8099173553719,
         "FDR": 25.139664804469277,
         "FPR": 1.6888888888888889,
         "Fraud Savings": 90000,
         "Good Loss": 3800,
         "KS": 24.501973916736432,
         "Overall Savings": 86200,
         "_deepnote_index_column": 1,
         "bin": 1,
         "cb": 45,
         "cg": 76,
         "tot": 121
        },
        {
         "#b": 30,
         "#g": 91,
         "#recs": 121,
         "%b": 24.79338842975207,
         "%cg": 1.401241819097164,
         "%g": 75.20661157024793,
         "FDR": 41.899441340782126,
         "FPR": 2.2266666666666666,
         "Fraud Savings": 150000,
         "Good Loss": 8350,
         "KS": 40.49819952168496,
         "Overall Savings": 141650,
         "_deepnote_index_column": 2,
         "bin": 2,
         "cb": 75,
         "cg": 167,
         "tot": 242
        },
        {
         "#b": 34,
         "#g": 87,
         "#recs": 121,
         "%b": 28.09917355371901,
         "%cg": 2.1312300721597586,
         "%g": 71.90082644628099,
         "FDR": 60.89385474860335,
         "FPR": 2.330275229357798,
         "Fraud Savings": 218000,
         "Good Loss": 12700,
         "KS": 58.76262467644359,
         "Overall Savings": 205300,
         "_deepnote_index_column": 3,
         "bin": 3,
         "cb": 109,
         "cg": 254,
         "tot": 363
        },
        {
         "#b": 6,
         "#g": 115,
         "#recs": 121,
         "%b": 4.95867768595042,
         "%cg": 3.096157073334452,
         "%g": 95.04132231404958,
         "FDR": 64.24581005586592,
         "FPR": 3.208695652173913,
         "Fraud Savings": 230000,
         "Good Loss": 18450,
         "KS": 61.14965298253146,
         "Overall Savings": 211550,
         "_deepnote_index_column": 4,
         "bin": 4,
         "cb": 115,
         "cg": 369,
         "tot": 484
        },
        {
         "#b": 9,
         "#g": 112,
         "#recs": 121,
         "%b": 7.438016528925615,
         "%cg": 4.035912065782849,
         "%g": 92.56198347107438,
         "FDR": 69.27374301675978,
         "FPR": 3.879032258064516,
         "Fraud Savings": 248000,
         "Good Loss": 24050,
         "KS": 65.23783095097693,
         "Overall Savings": 223950,
         "_deepnote_index_column": 5,
         "bin": 5,
         "cb": 124,
         "cg": 481,
         "tot": 605
        },
        {
         "#b": 2,
         "#g": 119,
         "#recs": 121,
         "%b": 1.652892561983478,
         "%cg": 5.034401745259272,
         "%g": 98.34710743801652,
         "FDR": 70.39106145251397,
         "FPR": 4.761904761904762,
         "Fraud Savings": 252000,
         "Good Loss": 30000,
         "KS": 65.35665970725469,
         "Overall Savings": 222000,
         "_deepnote_index_column": 6,
         "bin": 6,
         "cb": 126,
         "cg": 600,
         "tot": 726
        },
        {
         "#b": 4,
         "#g": 117,
         "#recs": 121,
         "%b": 3.305785123966942,
         "%cg": 6.016110085584829,
         "%g": 96.69421487603306,
         "FDR": 72.62569832402235,
         "FPR": 5.515384615384615,
         "Fraud Savings": 260000,
         "Good Loss": 35850,
         "KS": 66.60958823843752,
         "Overall Savings": 224150,
         "_deepnote_index_column": 7,
         "bin": 7,
         "cb": 130,
         "cg": 717,
         "tot": 847
        },
        {
         "#b": 2,
         "#g": 119,
         "#recs": 121,
         "%b": 1.652892561983478,
         "%cg": 7.014599765061252,
         "%g": 98.34710743801652,
         "FDR": 73.74301675977654,
         "FPR": 6.333333333333333,
         "Fraud Savings": 264000,
         "Good Loss": 41800,
         "KS": 66.72841699471529,
         "Overall Savings": 222200,
         "_deepnote_index_column": 8,
         "bin": 8,
         "cb": 132,
         "cg": 836,
         "tot": 968
        },
        {
         "#b": 4,
         "#g": 117,
         "#recs": 121,
         "%b": 3.305785123966942,
         "%cg": 7.9963081053868095,
         "%g": 96.69421487603306,
         "FDR": 75.97765363128492,
         "FPR": 7.007352941176471,
         "Fraud Savings": 272000,
         "Good Loss": 47650,
         "KS": 67.98134552589812,
         "Overall Savings": 224350,
         "_deepnote_index_column": 9,
         "bin": 9,
         "cb": 136,
         "cg": 953,
         "tot": 1089
        }
       ]
      },
      "text/html": [
       "<div>\n",
       "<style scoped>\n",
       "    .dataframe tbody tr th:only-of-type {\n",
       "        vertical-align: middle;\n",
       "    }\n",
       "\n",
       "    .dataframe tbody tr th {\n",
       "        vertical-align: top;\n",
       "    }\n",
       "\n",
       "    .dataframe thead th {\n",
       "        text-align: right;\n",
       "    }\n",
       "</style>\n",
       "<table border=\"1\" class=\"dataframe\">\n",
       "  <thead>\n",
       "    <tr style=\"text-align: right;\">\n",
       "      <th></th>\n",
       "      <th>bin</th>\n",
       "      <th>#recs</th>\n",
       "      <th>#g</th>\n",
       "      <th>#b</th>\n",
       "      <th>%g</th>\n",
       "      <th>%b</th>\n",
       "      <th>tot</th>\n",
       "      <th>cg</th>\n",
       "      <th>cb</th>\n",
       "      <th>%cg</th>\n",
       "      <th>FDR</th>\n",
       "      <th>KS</th>\n",
       "      <th>FPR</th>\n",
       "      <th>Fraud Savings</th>\n",
       "      <th>Good Loss</th>\n",
       "      <th>Overall Savings</th>\n",
       "    </tr>\n",
       "  </thead>\n",
       "  <tbody>\n",
       "    <tr>\n",
       "      <th>0</th>\n",
       "      <td>0.0</td>\n",
       "      <td>0.0</td>\n",
       "      <td>0.0</td>\n",
       "      <td>0.0</td>\n",
       "      <td>0.000000</td>\n",
       "      <td>0.000000</td>\n",
       "      <td>0.0</td>\n",
       "      <td>0.0</td>\n",
       "      <td>0.0</td>\n",
       "      <td>0.000000</td>\n",
       "      <td>0.000000</td>\n",
       "      <td>0.000000</td>\n",
       "      <td>0.000000</td>\n",
       "      <td>0.0</td>\n",
       "      <td>0.0</td>\n",
       "      <td>0.0</td>\n",
       "    </tr>\n",
       "    <tr>\n",
       "      <th>1</th>\n",
       "      <td>1.0</td>\n",
       "      <td>121.0</td>\n",
       "      <td>76.0</td>\n",
       "      <td>45.0</td>\n",
       "      <td>62.809917</td>\n",
       "      <td>37.190083</td>\n",
       "      <td>121.0</td>\n",
       "      <td>76.0</td>\n",
       "      <td>45.0</td>\n",
       "      <td>0.637691</td>\n",
       "      <td>25.139665</td>\n",
       "      <td>24.501974</td>\n",
       "      <td>1.688889</td>\n",
       "      <td>90000.0</td>\n",
       "      <td>3800.0</td>\n",
       "      <td>86200.0</td>\n",
       "    </tr>\n",
       "    <tr>\n",
       "      <th>2</th>\n",
       "      <td>2.0</td>\n",
       "      <td>121.0</td>\n",
       "      <td>91.0</td>\n",
       "      <td>30.0</td>\n",
       "      <td>75.206612</td>\n",
       "      <td>24.793388</td>\n",
       "      <td>242.0</td>\n",
       "      <td>167.0</td>\n",
       "      <td>75.0</td>\n",
       "      <td>1.401242</td>\n",
       "      <td>41.899441</td>\n",
       "      <td>40.498200</td>\n",
       "      <td>2.226667</td>\n",
       "      <td>150000.0</td>\n",
       "      <td>8350.0</td>\n",
       "      <td>141650.0</td>\n",
       "    </tr>\n",
       "    <tr>\n",
       "      <th>3</th>\n",
       "      <td>3.0</td>\n",
       "      <td>121.0</td>\n",
       "      <td>87.0</td>\n",
       "      <td>34.0</td>\n",
       "      <td>71.900826</td>\n",
       "      <td>28.099174</td>\n",
       "      <td>363.0</td>\n",
       "      <td>254.0</td>\n",
       "      <td>109.0</td>\n",
       "      <td>2.131230</td>\n",
       "      <td>60.893855</td>\n",
       "      <td>58.762625</td>\n",
       "      <td>2.330275</td>\n",
       "      <td>218000.0</td>\n",
       "      <td>12700.0</td>\n",
       "      <td>205300.0</td>\n",
       "    </tr>\n",
       "    <tr>\n",
       "      <th>4</th>\n",
       "      <td>4.0</td>\n",
       "      <td>121.0</td>\n",
       "      <td>115.0</td>\n",
       "      <td>6.0</td>\n",
       "      <td>95.041322</td>\n",
       "      <td>4.958678</td>\n",
       "      <td>484.0</td>\n",
       "      <td>369.0</td>\n",
       "      <td>115.0</td>\n",
       "      <td>3.096157</td>\n",
       "      <td>64.245810</td>\n",
       "      <td>61.149653</td>\n",
       "      <td>3.208696</td>\n",
       "      <td>230000.0</td>\n",
       "      <td>18450.0</td>\n",
       "      <td>211550.0</td>\n",
       "    </tr>\n",
       "    <tr>\n",
       "      <th>...</th>\n",
       "      <td>...</td>\n",
       "      <td>...</td>\n",
       "      <td>...</td>\n",
       "      <td>...</td>\n",
       "      <td>...</td>\n",
       "      <td>...</td>\n",
       "      <td>...</td>\n",
       "      <td>...</td>\n",
       "      <td>...</td>\n",
       "      <td>...</td>\n",
       "      <td>...</td>\n",
       "      <td>...</td>\n",
       "      <td>...</td>\n",
       "      <td>...</td>\n",
       "      <td>...</td>\n",
       "      <td>...</td>\n",
       "    </tr>\n",
       "    <tr>\n",
       "      <th>96</th>\n",
       "      <td>96.0</td>\n",
       "      <td>121.0</td>\n",
       "      <td>121.0</td>\n",
       "      <td>0.0</td>\n",
       "      <td>100.000000</td>\n",
       "      <td>0.000000</td>\n",
       "      <td>11613.0</td>\n",
       "      <td>11434.0</td>\n",
       "      <td>179.0</td>\n",
       "      <td>95.938916</td>\n",
       "      <td>100.000000</td>\n",
       "      <td>4.061084</td>\n",
       "      <td>63.877095</td>\n",
       "      <td>358000.0</td>\n",
       "      <td>571700.0</td>\n",
       "      <td>-213700.0</td>\n",
       "    </tr>\n",
       "    <tr>\n",
       "      <th>97</th>\n",
       "      <td>97.0</td>\n",
       "      <td>121.0</td>\n",
       "      <td>121.0</td>\n",
       "      <td>0.0</td>\n",
       "      <td>100.000000</td>\n",
       "      <td>0.000000</td>\n",
       "      <td>11734.0</td>\n",
       "      <td>11555.0</td>\n",
       "      <td>179.0</td>\n",
       "      <td>96.954187</td>\n",
       "      <td>100.000000</td>\n",
       "      <td>3.045813</td>\n",
       "      <td>64.553073</td>\n",
       "      <td>358000.0</td>\n",
       "      <td>577750.0</td>\n",
       "      <td>-219750.0</td>\n",
       "    </tr>\n",
       "    <tr>\n",
       "      <th>98</th>\n",
       "      <td>98.0</td>\n",
       "      <td>121.0</td>\n",
       "      <td>121.0</td>\n",
       "      <td>0.0</td>\n",
       "      <td>100.000000</td>\n",
       "      <td>0.000000</td>\n",
       "      <td>11855.0</td>\n",
       "      <td>11676.0</td>\n",
       "      <td>179.0</td>\n",
       "      <td>97.969458</td>\n",
       "      <td>100.000000</td>\n",
       "      <td>2.030542</td>\n",
       "      <td>65.229050</td>\n",
       "      <td>358000.0</td>\n",
       "      <td>583800.0</td>\n",
       "      <td>-225800.0</td>\n",
       "    </tr>\n",
       "    <tr>\n",
       "      <th>99</th>\n",
       "      <td>99.0</td>\n",
       "      <td>121.0</td>\n",
       "      <td>121.0</td>\n",
       "      <td>0.0</td>\n",
       "      <td>100.000000</td>\n",
       "      <td>0.000000</td>\n",
       "      <td>11976.0</td>\n",
       "      <td>11797.0</td>\n",
       "      <td>179.0</td>\n",
       "      <td>98.984729</td>\n",
       "      <td>100.000000</td>\n",
       "      <td>1.015271</td>\n",
       "      <td>65.905028</td>\n",
       "      <td>358000.0</td>\n",
       "      <td>589850.0</td>\n",
       "      <td>-231850.0</td>\n",
       "    </tr>\n",
       "    <tr>\n",
       "      <th>100</th>\n",
       "      <td>100.0</td>\n",
       "      <td>121.0</td>\n",
       "      <td>121.0</td>\n",
       "      <td>0.0</td>\n",
       "      <td>100.000000</td>\n",
       "      <td>0.000000</td>\n",
       "      <td>12097.0</td>\n",
       "      <td>11918.0</td>\n",
       "      <td>179.0</td>\n",
       "      <td>100.000000</td>\n",
       "      <td>100.000000</td>\n",
       "      <td>0.000000</td>\n",
       "      <td>66.581006</td>\n",
       "      <td>358000.0</td>\n",
       "      <td>595900.0</td>\n",
       "      <td>-237900.0</td>\n",
       "    </tr>\n",
       "  </tbody>\n",
       "</table>\n",
       "<p>101 rows × 16 columns</p>\n",
       "</div>"
      ],
      "text/plain": [
       "       bin  #recs     #g    #b          %g         %b      tot       cg  \\\n",
       "0      0.0    0.0    0.0   0.0    0.000000   0.000000      0.0      0.0   \n",
       "1      1.0  121.0   76.0  45.0   62.809917  37.190083    121.0     76.0   \n",
       "2      2.0  121.0   91.0  30.0   75.206612  24.793388    242.0    167.0   \n",
       "3      3.0  121.0   87.0  34.0   71.900826  28.099174    363.0    254.0   \n",
       "4      4.0  121.0  115.0   6.0   95.041322   4.958678    484.0    369.0   \n",
       "..     ...    ...    ...   ...         ...        ...      ...      ...   \n",
       "96    96.0  121.0  121.0   0.0  100.000000   0.000000  11613.0  11434.0   \n",
       "97    97.0  121.0  121.0   0.0  100.000000   0.000000  11734.0  11555.0   \n",
       "98    98.0  121.0  121.0   0.0  100.000000   0.000000  11855.0  11676.0   \n",
       "99    99.0  121.0  121.0   0.0  100.000000   0.000000  11976.0  11797.0   \n",
       "100  100.0  121.0  121.0   0.0  100.000000   0.000000  12097.0  11918.0   \n",
       "\n",
       "        cb         %cg         FDR         KS        FPR  Fraud Savings  \\\n",
       "0      0.0    0.000000    0.000000   0.000000   0.000000            0.0   \n",
       "1     45.0    0.637691   25.139665  24.501974   1.688889        90000.0   \n",
       "2     75.0    1.401242   41.899441  40.498200   2.226667       150000.0   \n",
       "3    109.0    2.131230   60.893855  58.762625   2.330275       218000.0   \n",
       "4    115.0    3.096157   64.245810  61.149653   3.208696       230000.0   \n",
       "..     ...         ...         ...        ...        ...            ...   \n",
       "96   179.0   95.938916  100.000000   4.061084  63.877095       358000.0   \n",
       "97   179.0   96.954187  100.000000   3.045813  64.553073       358000.0   \n",
       "98   179.0   97.969458  100.000000   2.030542  65.229050       358000.0   \n",
       "99   179.0   98.984729  100.000000   1.015271  65.905028       358000.0   \n",
       "100  179.0  100.000000  100.000000   0.000000  66.581006       358000.0   \n",
       "\n",
       "     Good Loss  Overall Savings  \n",
       "0          0.0              0.0  \n",
       "1       3800.0          86200.0  \n",
       "2       8350.0         141650.0  \n",
       "3      12700.0         205300.0  \n",
       "4      18450.0         211550.0  \n",
       "..         ...              ...  \n",
       "96    571700.0        -213700.0  \n",
       "97    577750.0        -219750.0  \n",
       "98    583800.0        -225800.0  \n",
       "99    589850.0        -231850.0  \n",
       "100   595900.0        -237900.0  \n",
       "\n",
       "[101 rows x 16 columns]"
      ]
     },
     "execution_count": 53,
     "metadata": {},
     "output_type": "execute_result"
    }
   ],
   "source": [
    "FDR_oot_graph"
   ]
  },
  {
   "cell_type": "code",
   "execution_count": null,
   "metadata": {
    "cell_id": "09920dbcbcd6409898403a7d4c18d7c5",
    "deepnote_cell_height": 66,
    "deepnote_cell_type": "code",
    "owner_user_id": "7d34209a-4b84-44c6-8716-1353f4c58d06",
    "tags": []
   },
   "outputs": [],
   "source": []
  },
  {
   "cell_type": "markdown",
   "metadata": {
    "created_in_deepnote_cell": true,
    "deepnote_cell_type": "markdown",
    "tags": []
   },
   "source": [
    "<a style='text-decoration:none;line-height:16px;display:flex;color:#5B5B62;padding:10px;justify-content:end;' href='https://deepnote.com?utm_source=created-in-deepnote-cell&projectId=d79a38e2-eaa7-463a-80c3-3da9091259bf' target=\"_blank\">\n",
    "<img alt='Created in deepnote.com' style='display:inline;max-height:16px;margin:0px;margin-right:7.5px;' src='data:image/svg+xml;base64,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' > </img>\n",
    "Created in <span style='font-weight:600;margin-left:4px;'>Deepnote</span></a>"
   ]
  }
 ],
 "metadata": {
  "anaconda-cloud": {},
  "deepnote": {},
  "deepnote_execution_queue": [],
  "deepnote_notebook_id": "c657e43b-67ad-4273-baec-88b054c4e86d",
  "kernelspec": {
   "display_name": "Python 3",
   "language": "python",
   "name": "python3"
  },
  "language_info": {
   "codemirror_mode": {
    "name": "ipython",
    "version": 3
   },
   "file_extension": ".py",
   "mimetype": "text/x-python",
   "name": "python",
   "nbconvert_exporter": "python",
   "pygments_lexer": "ipython3",
   "version": "3.8.8"
  }
 },
 "nbformat": 4,
 "nbformat_minor": 2
}
